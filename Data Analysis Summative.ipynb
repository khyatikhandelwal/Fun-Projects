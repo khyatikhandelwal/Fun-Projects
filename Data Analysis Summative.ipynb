{
 "cells": [
  {
   "cell_type": "code",
   "execution_count": 1,
   "id": "77dbcc5f",
   "metadata": {},
   "outputs": [],
   "source": [
    "import pandas as pd\n",
    "import numpy as np\n",
    "import math\n",
    "\n",
    "from sklearn.preprocessing import *\n",
    "from sklearn.model_selection import train_test_split, GridSearchCV\n",
    "from sklearn.impute import KNNImputer\n",
    "from sklearn.preprocessing import StandardScaler\n",
    "from sklearn.metrics import mean_squared_error\n",
    "from sklearn.linear_model import LinearRegression"
   ]
  },
  {
   "cell_type": "code",
   "execution_count": 2,
   "id": "46aa724e",
   "metadata": {
    "scrolled": true
   },
   "outputs": [
    {
     "name": "stderr",
     "output_type": "stream",
     "text": [
      "/var/folders/7m/k9zp60yn3yd0cp7ksph6wwhw0000gn/T/ipykernel_58974/3855150197.py:1: DtypeWarning: Columns (5168,5272,5328,5329,5340,5341,5351,5470,5479,5661,5663,5685,5695,5696,5706,5764,5772,5788,5803,5815,5816,5828,5900,5901,5937,5946,5965,5966,9287,12349,12353,12356) have mixed types. Specify dtype option on import or set low_memory=False.\n",
      "  df = pd.read_csv('background.csv')\n"
     ]
    }
   ],
   "source": [
    "df = pd.read_csv('background.csv')"
   ]
  },
  {
   "cell_type": "code",
   "execution_count": 3,
   "id": "2198417e",
   "metadata": {},
   "outputs": [
    {
     "name": "stdout",
     "output_type": "stream",
     "text": [
      "Number of rows: 4242, Number of columns: 13027\n"
     ]
    }
   ],
   "source": [
    "print(f\"Number of rows: {len(df)}, Number of columns: {len(df.iloc[0])}\")"
   ]
  },
  {
   "cell_type": "code",
   "execution_count": 4,
   "id": "164c2354",
   "metadata": {},
   "outputs": [],
   "source": [
    "def get_numerical(df):\n",
    "    numerics = ['int16', 'int32', 'int64', 'float16', 'float32', 'float64']\n",
    "\n",
    "    newdf = df.select_dtypes(include=numerics)\n",
    "    return newdf"
   ]
  },
  {
   "cell_type": "code",
   "execution_count": 5,
   "id": "51d6f165",
   "metadata": {},
   "outputs": [],
   "source": [
    "df_numerical = get_numerical(df)"
   ]
  },
  {
   "cell_type": "code",
   "execution_count": 6,
   "id": "b7da3b98",
   "metadata": {},
   "outputs": [
    {
     "data": {
      "text/plain": [
       "12911"
      ]
     },
     "execution_count": 6,
     "metadata": {},
     "output_type": "execute_result"
    }
   ],
   "source": [
    "len(df_numerical.iloc[0])"
   ]
  },
  {
   "cell_type": "code",
   "execution_count": 7,
   "id": "dce4dddd",
   "metadata": {},
   "outputs": [],
   "source": [
    "constantVariables = pd.read_csv('constantVariables.txt',header=None, index_col=0)"
   ]
  },
  {
   "cell_type": "code",
   "execution_count": 8,
   "id": "4ef726c4",
   "metadata": {},
   "outputs": [],
   "source": [
    "train = pd.read_csv('train.csv', sep=',', header=0, index_col=0)"
   ]
  },
  {
   "cell_type": "code",
   "execution_count": 9,
   "id": "6dd46857",
   "metadata": {},
   "outputs": [],
   "source": [
    "# Drop constant columns\n",
    "df= df.drop(constantVariables.index.values, axis = 1)"
   ]
  },
  {
   "cell_type": "code",
   "execution_count": 10,
   "id": "1cf5fe75",
   "metadata": {},
   "outputs": [
    {
     "data": {
      "text/html": [
       "<div>\n",
       "<style scoped>\n",
       "    .dataframe tbody tr th:only-of-type {\n",
       "        vertical-align: middle;\n",
       "    }\n",
       "\n",
       "    .dataframe tbody tr th {\n",
       "        vertical-align: top;\n",
       "    }\n",
       "\n",
       "    .dataframe thead th {\n",
       "        text-align: right;\n",
       "    }\n",
       "</style>\n",
       "<table border=\"1\" class=\"dataframe\">\n",
       "  <thead>\n",
       "    <tr style=\"text-align: right;\">\n",
       "      <th></th>\n",
       "      <th>challengeID</th>\n",
       "      <th>cf1lenhr</th>\n",
       "      <th>cf1lenmin</th>\n",
       "      <th>cf1fint</th>\n",
       "      <th>cf1citsm</th>\n",
       "      <th>f1citywt</th>\n",
       "      <th>f1a2</th>\n",
       "      <th>f1a3</th>\n",
       "      <th>f1a4</th>\n",
       "      <th>f1a4a</th>\n",
       "      <th>...</th>\n",
       "      <th>m4d9</th>\n",
       "      <th>m4e23</th>\n",
       "      <th>f4d6</th>\n",
       "      <th>f4d7</th>\n",
       "      <th>f4d9</th>\n",
       "      <th>m5c6</th>\n",
       "      <th>m5d20</th>\n",
       "      <th>m5k10</th>\n",
       "      <th>f5c6</th>\n",
       "      <th>k5f1</th>\n",
       "    </tr>\n",
       "  </thead>\n",
       "  <tbody>\n",
       "    <tr>\n",
       "      <th>0</th>\n",
       "      <td>1</td>\n",
       "      <td>-9</td>\n",
       "      <td>-9</td>\n",
       "      <td>0</td>\n",
       "      <td>-9</td>\n",
       "      <td>-3.000000</td>\n",
       "      <td>-9</td>\n",
       "      <td>-9</td>\n",
       "      <td>-9</td>\n",
       "      <td>-9</td>\n",
       "      <td>...</td>\n",
       "      <td>6.269946</td>\n",
       "      <td>5.180325</td>\n",
       "      <td>2.511131</td>\n",
       "      <td>1.718804</td>\n",
       "      <td>6.473537</td>\n",
       "      <td>16.369411</td>\n",
       "      <td>4.476881</td>\n",
       "      <td>9.628369</td>\n",
       "      <td>15.981275</td>\n",
       "      <td>24.038266</td>\n",
       "    </tr>\n",
       "    <tr>\n",
       "      <th>1</th>\n",
       "      <td>2</td>\n",
       "      <td>0</td>\n",
       "      <td>40</td>\n",
       "      <td>1</td>\n",
       "      <td>1</td>\n",
       "      <td>68.455658</td>\n",
       "      <td>2</td>\n",
       "      <td>1</td>\n",
       "      <td>1</td>\n",
       "      <td>-6</td>\n",
       "      <td>...</td>\n",
       "      <td>6.269946</td>\n",
       "      <td>27.680196</td>\n",
       "      <td>2.511131</td>\n",
       "      <td>1.718804</td>\n",
       "      <td>6.473537</td>\n",
       "      <td>16.369411</td>\n",
       "      <td>26.671897</td>\n",
       "      <td>9.628369</td>\n",
       "      <td>15.981275</td>\n",
       "      <td>3.667679</td>\n",
       "    </tr>\n",
       "    <tr>\n",
       "      <th>2</th>\n",
       "      <td>3</td>\n",
       "      <td>0</td>\n",
       "      <td>45</td>\n",
       "      <td>1</td>\n",
       "      <td>1</td>\n",
       "      <td>42.319057</td>\n",
       "      <td>1</td>\n",
       "      <td>1</td>\n",
       "      <td>1</td>\n",
       "      <td>-6</td>\n",
       "      <td>...</td>\n",
       "      <td>6.269946</td>\n",
       "      <td>5.180325</td>\n",
       "      <td>20.867881</td>\n",
       "      <td>24.115867</td>\n",
       "      <td>6.473537</td>\n",
       "      <td>16.369411</td>\n",
       "      <td>4.476881</td>\n",
       "      <td>9.628369</td>\n",
       "      <td>15.981275</td>\n",
       "      <td>24.038266</td>\n",
       "    </tr>\n",
       "    <tr>\n",
       "      <th>3</th>\n",
       "      <td>4</td>\n",
       "      <td>0</td>\n",
       "      <td>45</td>\n",
       "      <td>1</td>\n",
       "      <td>1</td>\n",
       "      <td>25.628830</td>\n",
       "      <td>1</td>\n",
       "      <td>1</td>\n",
       "      <td>1</td>\n",
       "      <td>-6</td>\n",
       "      <td>...</td>\n",
       "      <td>6.269946</td>\n",
       "      <td>5.180325</td>\n",
       "      <td>22.018875</td>\n",
       "      <td>22.932641</td>\n",
       "      <td>6.473537</td>\n",
       "      <td>-5.169243</td>\n",
       "      <td>4.476881</td>\n",
       "      <td>9.628369</td>\n",
       "      <td>-6.303171</td>\n",
       "      <td>4.140511</td>\n",
       "    </tr>\n",
       "    <tr>\n",
       "      <th>4</th>\n",
       "      <td>5</td>\n",
       "      <td>-6</td>\n",
       "      <td>50</td>\n",
       "      <td>1</td>\n",
       "      <td>1</td>\n",
       "      <td>41.954487</td>\n",
       "      <td>2</td>\n",
       "      <td>1</td>\n",
       "      <td>1</td>\n",
       "      <td>-6</td>\n",
       "      <td>...</td>\n",
       "      <td>6.269946</td>\n",
       "      <td>5.180325</td>\n",
       "      <td>22.916602</td>\n",
       "      <td>22.988036</td>\n",
       "      <td>6.473537</td>\n",
       "      <td>-6.034660</td>\n",
       "      <td>4.476881</td>\n",
       "      <td>9.628369</td>\n",
       "      <td>-6.211828</td>\n",
       "      <td>3.668879</td>\n",
       "    </tr>\n",
       "  </tbody>\n",
       "</table>\n",
       "<p>5 rows × 10561 columns</p>\n",
       "</div>"
      ],
      "text/plain": [
       "   challengeID  cf1lenhr  cf1lenmin  cf1fint  cf1citsm   f1citywt  f1a2  f1a3  \\\n",
       "0            1        -9         -9        0        -9  -3.000000    -9    -9   \n",
       "1            2         0         40        1         1  68.455658     2     1   \n",
       "2            3         0         45        1         1  42.319057     1     1   \n",
       "3            4         0         45        1         1  25.628830     1     1   \n",
       "4            5        -6         50        1         1  41.954487     2     1   \n",
       "\n",
       "   f1a4  f1a4a  ...      m4d9      m4e23       f4d6       f4d7      f4d9  \\\n",
       "0    -9     -9  ...  6.269946   5.180325   2.511131   1.718804  6.473537   \n",
       "1     1     -6  ...  6.269946  27.680196   2.511131   1.718804  6.473537   \n",
       "2     1     -6  ...  6.269946   5.180325  20.867881  24.115867  6.473537   \n",
       "3     1     -6  ...  6.269946   5.180325  22.018875  22.932641  6.473537   \n",
       "4     1     -6  ...  6.269946   5.180325  22.916602  22.988036  6.473537   \n",
       "\n",
       "        m5c6      m5d20     m5k10       f5c6       k5f1  \n",
       "0  16.369411   4.476881  9.628369  15.981275  24.038266  \n",
       "1  16.369411  26.671897  9.628369  15.981275   3.667679  \n",
       "2  16.369411   4.476881  9.628369  15.981275  24.038266  \n",
       "3  -5.169243   4.476881  9.628369  -6.303171   4.140511  \n",
       "4  -6.034660   4.476881  9.628369  -6.211828   3.668879  \n",
       "\n",
       "[5 rows x 10561 columns]"
      ]
     },
     "execution_count": 10,
     "metadata": {},
     "output_type": "execute_result"
    }
   ],
   "source": [
    "# Lets remove all columns with more than 70% NAs\n",
    "mask = (df.isna().sum(axis=0)/len(df)<0.7)\n",
    "df = df[mask[mask].index]\n",
    "df.head()"
   ]
  },
  {
   "cell_type": "code",
   "execution_count": 11,
   "id": "6b6c11fc",
   "metadata": {},
   "outputs": [
    {
     "data": {
      "text/html": [
       "<div>\n",
       "<style scoped>\n",
       "    .dataframe tbody tr th:only-of-type {\n",
       "        vertical-align: middle;\n",
       "    }\n",
       "\n",
       "    .dataframe tbody tr th {\n",
       "        vertical-align: top;\n",
       "    }\n",
       "\n",
       "    .dataframe thead th {\n",
       "        text-align: right;\n",
       "    }\n",
       "</style>\n",
       "<table border=\"1\" class=\"dataframe\">\n",
       "  <thead>\n",
       "    <tr style=\"text-align: right;\">\n",
       "      <th></th>\n",
       "      <th>gpa</th>\n",
       "      <th>grit</th>\n",
       "      <th>materialHardship</th>\n",
       "      <th>eviction</th>\n",
       "      <th>layoff</th>\n",
       "      <th>jobTraining</th>\n",
       "    </tr>\n",
       "    <tr>\n",
       "      <th>challengeID</th>\n",
       "      <th></th>\n",
       "      <th></th>\n",
       "      <th></th>\n",
       "      <th></th>\n",
       "      <th></th>\n",
       "      <th></th>\n",
       "    </tr>\n",
       "  </thead>\n",
       "  <tbody>\n",
       "    <tr>\n",
       "      <th>1</th>\n",
       "      <td>NaN</td>\n",
       "      <td>NaN</td>\n",
       "      <td>NaN</td>\n",
       "      <td>NaN</td>\n",
       "      <td>NaN</td>\n",
       "      <td>NaN</td>\n",
       "    </tr>\n",
       "    <tr>\n",
       "      <th>3</th>\n",
       "      <td>NaN</td>\n",
       "      <td>NaN</td>\n",
       "      <td>NaN</td>\n",
       "      <td>NaN</td>\n",
       "      <td>NaN</td>\n",
       "      <td>NaN</td>\n",
       "    </tr>\n",
       "    <tr>\n",
       "      <th>6</th>\n",
       "      <td>NaN</td>\n",
       "      <td>3.5</td>\n",
       "      <td>0.090909</td>\n",
       "      <td>0.0</td>\n",
       "      <td>0.0</td>\n",
       "      <td>0.0</td>\n",
       "    </tr>\n",
       "  </tbody>\n",
       "</table>\n",
       "</div>"
      ],
      "text/plain": [
       "             gpa  grit  materialHardship  eviction  layoff  jobTraining\n",
       "challengeID                                                            \n",
       "1            NaN   NaN               NaN       NaN     NaN          NaN\n",
       "3            NaN   NaN               NaN       NaN     NaN          NaN\n",
       "6            NaN   3.5          0.090909       0.0     0.0          0.0"
      ]
     },
     "execution_count": 11,
     "metadata": {},
     "output_type": "execute_result"
    }
   ],
   "source": [
    "train.head(3)"
   ]
  },
  {
   "cell_type": "code",
   "execution_count": 12,
   "id": "27af018a",
   "metadata": {},
   "outputs": [],
   "source": [
    "X_train, X_CV, y_train, y_CV = train_test_split(df.loc[train.index] , train, test_size=0.33, random_state=42)"
   ]
  },
  {
   "cell_type": "code",
   "execution_count": 13,
   "id": "805519e4",
   "metadata": {},
   "outputs": [],
   "source": [
    "X_overall = pd.concat([X_train, X_CV])\n",
    "y_overall = pd.concat([y_train, y_CV])"
   ]
  },
  {
   "cell_type": "code",
   "execution_count": 14,
   "id": "24dbc247",
   "metadata": {},
   "outputs": [
    {
     "name": "stdout",
     "output_type": "stream",
     "text": [
      "Index(['gpa', 'grit', 'materialHardship', 'eviction', 'layoff', 'jobTraining'], dtype='object')\n"
     ]
    }
   ],
   "source": [
    "print(y_overall.columns)"
   ]
  },
  {
   "cell_type": "code",
   "execution_count": 15,
   "id": "db6c97b4",
   "metadata": {},
   "outputs": [
    {
     "name": "stdout",
     "output_type": "stream",
     "text": [
      "% null values for gpa is: 45.07307873644507 % \n",
      "\n",
      "% null values for grit is: 33.144743045733144 % \n",
      "\n",
      "% null values for materialHardship is: 31.211692597831213 % \n",
      "\n",
      "% null values for eviction is: 31.211692597831213 % \n",
      "\n",
      "% null values for layoff is: 39.792550683639796 % \n",
      "\n",
      "% null values for jobTraining is: 31.117397454031114 % \n",
      "\n"
     ]
    }
   ],
   "source": [
    "for variable in y_overall.columns:\n",
    "    numerator = len(y_overall[y_overall[variable].isnull()])\n",
    "    denominator = len(y_overall[y_overall[variable].notnull()])+numerator\n",
    "    print(f\"% null values for {variable} is: {(numerator/denominator)*100} % \\n\")"
   ]
  },
  {
   "cell_type": "code",
   "execution_count": 16,
   "id": "1d891135",
   "metadata": {},
   "outputs": [],
   "source": [
    "y_overall_outliers = y_overall.fillna(0)"
   ]
  },
  {
   "cell_type": "code",
   "execution_count": 17,
   "id": "65b057fb",
   "metadata": {},
   "outputs": [],
   "source": [
    "def percent_outliers(col):\n",
    "    Q1 = np.quantile(y_overall_outliers[col],0.25)\n",
    "    Q3 = np.quantile(y_overall_outliers[col],0.75)\n",
    "    IQR = Q3-Q1\n",
    "    outliers = len(y_overall_outliers[(y_overall_outliers[col]> Q3+(1.5*IQR)) | (y_overall_outliers[col]< Q1-(1.5*IQR))])\n",
    "    print(Q3)\n",
    "    return outliers/len(y_overall_outliers)*100"
   ]
  },
  {
   "cell_type": "code",
   "execution_count": 18,
   "id": "0a05dd52",
   "metadata": {},
   "outputs": [
    {
     "name": "stdout",
     "output_type": "stream",
     "text": [
      "0.0909090909090909\n"
     ]
    },
    {
     "data": {
      "text/plain": [
       "12.635549269212634"
      ]
     },
     "execution_count": 18,
     "metadata": {},
     "output_type": "execute_result"
    }
   ],
   "source": [
    "percent_outliers('materialHardship')"
   ]
  },
  {
   "cell_type": "code",
   "execution_count": 19,
   "id": "320982a3",
   "metadata": {},
   "outputs": [
    {
     "data": {
      "text/plain": [
       "array([nan,  0.,  1.])"
      ]
     },
     "execution_count": 19,
     "metadata": {},
     "output_type": "execute_result"
    }
   ],
   "source": [
    "train['eviction'].unique()"
   ]
  },
  {
   "cell_type": "code",
   "execution_count": 20,
   "id": "a225ee16",
   "metadata": {},
   "outputs": [
    {
     "data": {
      "text/plain": [
       "69276"
      ]
     },
     "execution_count": 20,
     "metadata": {},
     "output_type": "execute_result"
    }
   ],
   "source": [
    "X_overall.isna().sum().sum()"
   ]
  },
  {
   "cell_type": "code",
   "execution_count": 21,
   "id": "bad77adf",
   "metadata": {},
   "outputs": [
    {
     "data": {
      "text/plain": [
       "(2121, 10561)"
      ]
     },
     "execution_count": 21,
     "metadata": {},
     "output_type": "execute_result"
    }
   ],
   "source": [
    "X_overall.shape"
   ]
  },
  {
   "cell_type": "code",
   "execution_count": 22,
   "id": "a8a21d4f",
   "metadata": {},
   "outputs": [
    {
     "data": {
      "text/plain": [
       "22399881"
      ]
     },
     "execution_count": 22,
     "metadata": {},
     "output_type": "execute_result"
    }
   ],
   "source": [
    "2121*10561"
   ]
  },
  {
   "cell_type": "code",
   "execution_count": 23,
   "id": "7812ddba",
   "metadata": {},
   "outputs": [
    {
     "name": "stdout",
     "output_type": "stream",
     "text": [
      "0.3092695001370766% of the values in X are missing\n"
     ]
    }
   ],
   "source": [
    "print(f\"{69276/22399881*100}% of the values in X are missing\")"
   ]
  },
  {
   "cell_type": "code",
   "execution_count": 24,
   "id": "aaa82a91",
   "metadata": {},
   "outputs": [
    {
     "data": {
      "text/plain": [
       "2121"
      ]
     },
     "execution_count": 24,
     "metadata": {},
     "output_type": "execute_result"
    }
   ],
   "source": [
    "len(y_overall)"
   ]
  },
  {
   "cell_type": "code",
   "execution_count": 25,
   "id": "622c76eb",
   "metadata": {},
   "outputs": [],
   "source": [
    "X_copy = X_overall.copy()"
   ]
  },
  {
   "cell_type": "code",
   "execution_count": 26,
   "id": "00b3030a",
   "metadata": {},
   "outputs": [],
   "source": [
    "numerics = ['int16', 'int32', 'int64', 'float16', 'float32', 'float64']\n",
    "X_copy_nonnum = X_copy.select_dtypes(exclude=numerics)"
   ]
  },
  {
   "cell_type": "code",
   "execution_count": 27,
   "id": "b287d5ca",
   "metadata": {},
   "outputs": [
    {
     "data": {
      "text/plain": [
       "cf4fint           object\n",
       "ch5ppvtae         object\n",
       "ch5ppvtpr         object\n",
       "ch5wj9pr          object\n",
       "ch5wj9ae          object\n",
       "                   ...  \n",
       "q5citywt_rep68    object\n",
       "q5citywt_rep69    object\n",
       "q5citywt_rep70    object\n",
       "q5citywt_rep71    object\n",
       "q5citywt_rep72    object\n",
       "Length: 81, dtype: object"
      ]
     },
     "execution_count": 27,
     "metadata": {},
     "output_type": "execute_result"
    }
   ],
   "source": [
    "X_copy_nonnum.dtypes"
   ]
  },
  {
   "cell_type": "code",
   "execution_count": 28,
   "id": "949fc5fb",
   "metadata": {},
   "outputs": [],
   "source": [
    "remove_cols = []\n",
    "for val,i in enumerate(X_copy_nonnum.iloc[0]):\n",
    "    if i == 'Other':\n",
    "        remove_cols.append(X_copy_nonnum.iloc[:,val])\n",
    "remove_col = []\n",
    "for i in remove_cols:\n",
    "    remove_col.append(i.name)"
   ]
  },
  {
   "cell_type": "code",
   "execution_count": 29,
   "id": "b4894690",
   "metadata": {},
   "outputs": [],
   "source": [
    "remove_col.append('q5citywt_rep28')\n",
    "remove_col.append('cf4fint')\n",
    "remove_col.append('ch5ppvtae')\n",
    "remove_col.append('ch5wj9ae')\n",
    "remove_col.append('ch5dsae')\n",
    "remove_col.append('ch5wj10ae')"
   ]
  },
  {
   "cell_type": "code",
   "execution_count": 30,
   "id": "18199bd6",
   "metadata": {},
   "outputs": [],
   "source": [
    "X_copy_nonnum = X_copy_nonnum.drop(remove_col, axis=1)"
   ]
  },
  {
   "cell_type": "code",
   "execution_count": 31,
   "id": "3a1c23d9",
   "metadata": {},
   "outputs": [],
   "source": [
    "def convert(colname):\n",
    "    lis = []\n",
    "    for i in X_copy_nonnum[colname]:\n",
    "        if i != 'Other' and i != '<0.1':\n",
    "            lis.append(float(i))\n",
    "    m = np.mean(lis)\n",
    "    lis2 = []\n",
    "    for j in X_copy_nonnum[colname]:\n",
    "        if j == 'Other' or j == '<0.1':\n",
    "            lis2.append(m)\n",
    "        else:\n",
    "            lis2.append(float(j))\n",
    "    X_copy_nonnum[colname] = lis2"
   ]
  },
  {
   "cell_type": "code",
   "execution_count": 32,
   "id": "73a0e25d",
   "metadata": {},
   "outputs": [],
   "source": [
    "#X_copy_nonnum[['ch5ppvtpr', 'ch5wj9pr', 'ch5wj10pr']] = X_copy_nonnum.astype('float64')\n",
    "convert('ch5ppvtpr')\n",
    "convert('ch5wj9pr')\n",
    "convert('ch5wj10pr')"
   ]
  },
  {
   "cell_type": "code",
   "execution_count": 33,
   "id": "6082331d",
   "metadata": {},
   "outputs": [],
   "source": [
    "X_overall = X_overall.drop(remove_col, axis=1)"
   ]
  },
  {
   "cell_type": "code",
   "execution_count": 34,
   "id": "f67c73a2",
   "metadata": {},
   "outputs": [],
   "source": [
    "X_overall['ch5ppvtpr'] = X_copy_nonnum['ch5ppvtpr']\n",
    "X_overall['ch5wj9pr'] = X_copy_nonnum['ch5wj9pr']\n",
    "X_overall['ch5wj10pr'] = X_copy_nonnum['ch5wj10pr']"
   ]
  },
  {
   "cell_type": "code",
   "execution_count": 35,
   "id": "149aa9a1",
   "metadata": {},
   "outputs": [],
   "source": [
    "knn = KNNImputer(n_neighbors=10, add_indicator=True)\n",
    "knn.fit(X_overall)\n",
    "X_overall = knn.transform(X_overall)"
   ]
  },
  {
   "cell_type": "code",
   "execution_count": 36,
   "id": "e7967601",
   "metadata": {},
   "outputs": [
    {
     "data": {
      "text/html": [
       "<div>\n",
       "<style scoped>\n",
       "    .dataframe tbody tr th:only-of-type {\n",
       "        vertical-align: middle;\n",
       "    }\n",
       "\n",
       "    .dataframe tbody tr th {\n",
       "        vertical-align: top;\n",
       "    }\n",
       "\n",
       "    .dataframe thead th {\n",
       "        text-align: right;\n",
       "    }\n",
       "</style>\n",
       "<table border=\"1\" class=\"dataframe\">\n",
       "  <thead>\n",
       "    <tr style=\"text-align: right;\">\n",
       "      <th></th>\n",
       "      <th>gpa</th>\n",
       "      <th>grit</th>\n",
       "      <th>materialHardship</th>\n",
       "    </tr>\n",
       "    <tr>\n",
       "      <th>challengeID</th>\n",
       "      <th></th>\n",
       "      <th></th>\n",
       "      <th></th>\n",
       "    </tr>\n",
       "  </thead>\n",
       "  <tbody>\n",
       "    <tr>\n",
       "      <th>1838</th>\n",
       "      <td>3.00</td>\n",
       "      <td>3.50</td>\n",
       "      <td>0.000000</td>\n",
       "    </tr>\n",
       "    <tr>\n",
       "      <th>4229</th>\n",
       "      <td>NaN</td>\n",
       "      <td>3.50</td>\n",
       "      <td>0.000000</td>\n",
       "    </tr>\n",
       "    <tr>\n",
       "      <th>1771</th>\n",
       "      <td>1.25</td>\n",
       "      <td>3.00</td>\n",
       "      <td>0.090909</td>\n",
       "    </tr>\n",
       "    <tr>\n",
       "      <th>1596</th>\n",
       "      <td>NaN</td>\n",
       "      <td>3.75</td>\n",
       "      <td>0.000000</td>\n",
       "    </tr>\n",
       "    <tr>\n",
       "      <th>2066</th>\n",
       "      <td>1.75</td>\n",
       "      <td>3.00</td>\n",
       "      <td>0.000000</td>\n",
       "    </tr>\n",
       "    <tr>\n",
       "      <th>...</th>\n",
       "      <td>...</td>\n",
       "      <td>...</td>\n",
       "      <td>...</td>\n",
       "    </tr>\n",
       "    <tr>\n",
       "      <th>4213</th>\n",
       "      <td>NaN</td>\n",
       "      <td>3.75</td>\n",
       "      <td>0.090909</td>\n",
       "    </tr>\n",
       "    <tr>\n",
       "      <th>947</th>\n",
       "      <td>2.75</td>\n",
       "      <td>4.00</td>\n",
       "      <td>0.000000</td>\n",
       "    </tr>\n",
       "    <tr>\n",
       "      <th>2342</th>\n",
       "      <td>NaN</td>\n",
       "      <td>NaN</td>\n",
       "      <td>NaN</td>\n",
       "    </tr>\n",
       "    <tr>\n",
       "      <th>994</th>\n",
       "      <td>NaN</td>\n",
       "      <td>3.50</td>\n",
       "      <td>0.000000</td>\n",
       "    </tr>\n",
       "    <tr>\n",
       "      <th>3003</th>\n",
       "      <td>2.75</td>\n",
       "      <td>2.75</td>\n",
       "      <td>0.181818</td>\n",
       "    </tr>\n",
       "  </tbody>\n",
       "</table>\n",
       "<p>2121 rows × 3 columns</p>\n",
       "</div>"
      ],
      "text/plain": [
       "              gpa  grit  materialHardship\n",
       "challengeID                              \n",
       "1838         3.00  3.50          0.000000\n",
       "4229          NaN  3.50          0.000000\n",
       "1771         1.25  3.00          0.090909\n",
       "1596          NaN  3.75          0.000000\n",
       "2066         1.75  3.00          0.000000\n",
       "...           ...   ...               ...\n",
       "4213          NaN  3.75          0.090909\n",
       "947          2.75  4.00          0.000000\n",
       "2342          NaN   NaN               NaN\n",
       "994           NaN  3.50          0.000000\n",
       "3003         2.75  2.75          0.181818\n",
       "\n",
       "[2121 rows x 3 columns]"
      ]
     },
     "execution_count": 36,
     "metadata": {},
     "output_type": "execute_result"
    }
   ],
   "source": [
    "y_overall[['gpa','grit','materialHardship']]"
   ]
  },
  {
   "cell_type": "code",
   "execution_count": 38,
   "id": "051786b5",
   "metadata": {},
   "outputs": [],
   "source": [
    "knn = KNNImputer(n_neighbors=2)\n",
    "knn.fit(y_overall[['gpa','grit','materialHardship']])\n",
    "y_overall_continuous = knn.transform(y_overall[['gpa','grit','materialHardship']])"
   ]
  },
  {
   "cell_type": "code",
   "execution_count": 40,
   "id": "5e8a7618",
   "metadata": {},
   "outputs": [
    {
     "data": {
      "text/html": [
       "<div>\n",
       "<style scoped>\n",
       "    .dataframe tbody tr th:only-of-type {\n",
       "        vertical-align: middle;\n",
       "    }\n",
       "\n",
       "    .dataframe tbody tr th {\n",
       "        vertical-align: top;\n",
       "    }\n",
       "\n",
       "    .dataframe thead th {\n",
       "        text-align: right;\n",
       "    }\n",
       "</style>\n",
       "<table border=\"1\" class=\"dataframe\">\n",
       "  <thead>\n",
       "    <tr style=\"text-align: right;\">\n",
       "      <th></th>\n",
       "      <th>gpa</th>\n",
       "      <th>grit</th>\n",
       "      <th>materialHardship</th>\n",
       "      <th>eviction</th>\n",
       "      <th>layoff</th>\n",
       "      <th>jobTraining</th>\n",
       "    </tr>\n",
       "    <tr>\n",
       "      <th>challengeID</th>\n",
       "      <th></th>\n",
       "      <th></th>\n",
       "      <th></th>\n",
       "      <th></th>\n",
       "      <th></th>\n",
       "      <th></th>\n",
       "    </tr>\n",
       "  </thead>\n",
       "  <tbody>\n",
       "    <tr>\n",
       "      <th>1838</th>\n",
       "      <td>3.00</td>\n",
       "      <td>3.50</td>\n",
       "      <td>0.000000</td>\n",
       "      <td>0.0</td>\n",
       "      <td>0.0</td>\n",
       "      <td>0.0</td>\n",
       "    </tr>\n",
       "    <tr>\n",
       "      <th>4229</th>\n",
       "      <td>NaN</td>\n",
       "      <td>3.50</td>\n",
       "      <td>0.000000</td>\n",
       "      <td>0.0</td>\n",
       "      <td>0.0</td>\n",
       "      <td>0.0</td>\n",
       "    </tr>\n",
       "    <tr>\n",
       "      <th>1771</th>\n",
       "      <td>1.25</td>\n",
       "      <td>3.00</td>\n",
       "      <td>0.090909</td>\n",
       "      <td>0.0</td>\n",
       "      <td>NaN</td>\n",
       "      <td>0.0</td>\n",
       "    </tr>\n",
       "    <tr>\n",
       "      <th>1596</th>\n",
       "      <td>NaN</td>\n",
       "      <td>3.75</td>\n",
       "      <td>0.000000</td>\n",
       "      <td>0.0</td>\n",
       "      <td>0.0</td>\n",
       "      <td>1.0</td>\n",
       "    </tr>\n",
       "    <tr>\n",
       "      <th>2066</th>\n",
       "      <td>1.75</td>\n",
       "      <td>3.00</td>\n",
       "      <td>0.000000</td>\n",
       "      <td>0.0</td>\n",
       "      <td>0.0</td>\n",
       "      <td>1.0</td>\n",
       "    </tr>\n",
       "    <tr>\n",
       "      <th>...</th>\n",
       "      <td>...</td>\n",
       "      <td>...</td>\n",
       "      <td>...</td>\n",
       "      <td>...</td>\n",
       "      <td>...</td>\n",
       "      <td>...</td>\n",
       "    </tr>\n",
       "    <tr>\n",
       "      <th>4213</th>\n",
       "      <td>NaN</td>\n",
       "      <td>3.75</td>\n",
       "      <td>0.090909</td>\n",
       "      <td>0.0</td>\n",
       "      <td>0.0</td>\n",
       "      <td>0.0</td>\n",
       "    </tr>\n",
       "    <tr>\n",
       "      <th>947</th>\n",
       "      <td>2.75</td>\n",
       "      <td>4.00</td>\n",
       "      <td>0.000000</td>\n",
       "      <td>0.0</td>\n",
       "      <td>0.0</td>\n",
       "      <td>0.0</td>\n",
       "    </tr>\n",
       "    <tr>\n",
       "      <th>2342</th>\n",
       "      <td>NaN</td>\n",
       "      <td>NaN</td>\n",
       "      <td>NaN</td>\n",
       "      <td>NaN</td>\n",
       "      <td>NaN</td>\n",
       "      <td>NaN</td>\n",
       "    </tr>\n",
       "    <tr>\n",
       "      <th>994</th>\n",
       "      <td>NaN</td>\n",
       "      <td>3.50</td>\n",
       "      <td>0.000000</td>\n",
       "      <td>0.0</td>\n",
       "      <td>0.0</td>\n",
       "      <td>0.0</td>\n",
       "    </tr>\n",
       "    <tr>\n",
       "      <th>3003</th>\n",
       "      <td>2.75</td>\n",
       "      <td>2.75</td>\n",
       "      <td>0.181818</td>\n",
       "      <td>0.0</td>\n",
       "      <td>0.0</td>\n",
       "      <td>1.0</td>\n",
       "    </tr>\n",
       "  </tbody>\n",
       "</table>\n",
       "<p>2121 rows × 6 columns</p>\n",
       "</div>"
      ],
      "text/plain": [
       "              gpa  grit  materialHardship  eviction  layoff  jobTraining\n",
       "challengeID                                                             \n",
       "1838         3.00  3.50          0.000000       0.0     0.0          0.0\n",
       "4229          NaN  3.50          0.000000       0.0     0.0          0.0\n",
       "1771         1.25  3.00          0.090909       0.0     NaN          0.0\n",
       "1596          NaN  3.75          0.000000       0.0     0.0          1.0\n",
       "2066         1.75  3.00          0.000000       0.0     0.0          1.0\n",
       "...           ...   ...               ...       ...     ...          ...\n",
       "4213          NaN  3.75          0.090909       0.0     0.0          0.0\n",
       "947          2.75  4.00          0.000000       0.0     0.0          0.0\n",
       "2342          NaN   NaN               NaN       NaN     NaN          NaN\n",
       "994           NaN  3.50          0.000000       0.0     0.0          0.0\n",
       "3003         2.75  2.75          0.181818       0.0     0.0          1.0\n",
       "\n",
       "[2121 rows x 6 columns]"
      ]
     },
     "execution_count": 40,
     "metadata": {},
     "output_type": "execute_result"
    }
   ],
   "source": [
    "y_overall"
   ]
  },
  {
   "cell_type": "code",
   "execution_count": 41,
   "id": "89c5fc7d",
   "metadata": {},
   "outputs": [],
   "source": [
    "y_overall['eviction'] = y_overall['eviction'].fillna(y_overall['eviction'].mode()[0])\n",
    "y_overall['layoff'] = y_overall['layoff'].fillna(y_overall['layoff'].mode()[0])\n",
    "y_overall['jobTraining'] = y_overall['jobTraining'].fillna(y_overall['jobTraining'].mode()[0])"
   ]
  },
  {
   "cell_type": "code",
   "execution_count": 47,
   "id": "679a5cea",
   "metadata": {},
   "outputs": [],
   "source": [
    "y_overall['gpa'] = y_overall_continuous[:,0]\n",
    "y_overall['grit'] = y_overall_continuous[:,1]\n",
    "y_overall['materialHardship'] = y_overall_continuous[:,2]"
   ]
  },
  {
   "cell_type": "code",
   "execution_count": 50,
   "id": "8609d9fb",
   "metadata": {},
   "outputs": [
    {
     "data": {
      "text/html": [
       "<div>\n",
       "<style scoped>\n",
       "    .dataframe tbody tr th:only-of-type {\n",
       "        vertical-align: middle;\n",
       "    }\n",
       "\n",
       "    .dataframe tbody tr th {\n",
       "        vertical-align: top;\n",
       "    }\n",
       "\n",
       "    .dataframe thead th {\n",
       "        text-align: right;\n",
       "    }\n",
       "</style>\n",
       "<table border=\"1\" class=\"dataframe\">\n",
       "  <thead>\n",
       "    <tr style=\"text-align: right;\">\n",
       "      <th></th>\n",
       "      <th>gpa</th>\n",
       "      <th>grit</th>\n",
       "      <th>materialHardship</th>\n",
       "      <th>eviction</th>\n",
       "      <th>layoff</th>\n",
       "      <th>jobTraining</th>\n",
       "    </tr>\n",
       "    <tr>\n",
       "      <th>challengeID</th>\n",
       "      <th></th>\n",
       "      <th></th>\n",
       "      <th></th>\n",
       "      <th></th>\n",
       "      <th></th>\n",
       "      <th></th>\n",
       "    </tr>\n",
       "  </thead>\n",
       "  <tbody>\n",
       "    <tr>\n",
       "      <th>1838</th>\n",
       "      <td>3.000000</td>\n",
       "      <td>3.500000</td>\n",
       "      <td>0.000000</td>\n",
       "      <td>0.0</td>\n",
       "      <td>0.0</td>\n",
       "      <td>0.0</td>\n",
       "    </tr>\n",
       "    <tr>\n",
       "      <th>4229</th>\n",
       "      <td>3.250000</td>\n",
       "      <td>3.500000</td>\n",
       "      <td>0.000000</td>\n",
       "      <td>0.0</td>\n",
       "      <td>0.0</td>\n",
       "      <td>0.0</td>\n",
       "    </tr>\n",
       "    <tr>\n",
       "      <th>1771</th>\n",
       "      <td>1.250000</td>\n",
       "      <td>3.000000</td>\n",
       "      <td>0.090909</td>\n",
       "      <td>0.0</td>\n",
       "      <td>0.0</td>\n",
       "      <td>0.0</td>\n",
       "    </tr>\n",
       "    <tr>\n",
       "      <th>1596</th>\n",
       "      <td>3.250000</td>\n",
       "      <td>3.750000</td>\n",
       "      <td>0.000000</td>\n",
       "      <td>0.0</td>\n",
       "      <td>0.0</td>\n",
       "      <td>1.0</td>\n",
       "    </tr>\n",
       "    <tr>\n",
       "      <th>2066</th>\n",
       "      <td>1.750000</td>\n",
       "      <td>3.000000</td>\n",
       "      <td>0.000000</td>\n",
       "      <td>0.0</td>\n",
       "      <td>0.0</td>\n",
       "      <td>1.0</td>\n",
       "    </tr>\n",
       "    <tr>\n",
       "      <th>...</th>\n",
       "      <td>...</td>\n",
       "      <td>...</td>\n",
       "      <td>...</td>\n",
       "      <td>...</td>\n",
       "      <td>...</td>\n",
       "      <td>...</td>\n",
       "    </tr>\n",
       "    <tr>\n",
       "      <th>4213</th>\n",
       "      <td>4.000000</td>\n",
       "      <td>3.750000</td>\n",
       "      <td>0.090909</td>\n",
       "      <td>0.0</td>\n",
       "      <td>0.0</td>\n",
       "      <td>0.0</td>\n",
       "    </tr>\n",
       "    <tr>\n",
       "      <th>947</th>\n",
       "      <td>2.750000</td>\n",
       "      <td>4.000000</td>\n",
       "      <td>0.000000</td>\n",
       "      <td>0.0</td>\n",
       "      <td>0.0</td>\n",
       "      <td>0.0</td>\n",
       "    </tr>\n",
       "    <tr>\n",
       "      <th>2342</th>\n",
       "      <td>2.866738</td>\n",
       "      <td>3.427539</td>\n",
       "      <td>0.103745</td>\n",
       "      <td>0.0</td>\n",
       "      <td>0.0</td>\n",
       "      <td>0.0</td>\n",
       "    </tr>\n",
       "    <tr>\n",
       "      <th>994</th>\n",
       "      <td>3.250000</td>\n",
       "      <td>3.500000</td>\n",
       "      <td>0.000000</td>\n",
       "      <td>0.0</td>\n",
       "      <td>0.0</td>\n",
       "      <td>0.0</td>\n",
       "    </tr>\n",
       "    <tr>\n",
       "      <th>3003</th>\n",
       "      <td>2.750000</td>\n",
       "      <td>2.750000</td>\n",
       "      <td>0.181818</td>\n",
       "      <td>0.0</td>\n",
       "      <td>0.0</td>\n",
       "      <td>1.0</td>\n",
       "    </tr>\n",
       "  </tbody>\n",
       "</table>\n",
       "<p>2121 rows × 6 columns</p>\n",
       "</div>"
      ],
      "text/plain": [
       "                  gpa      grit  materialHardship  eviction  layoff  \\\n",
       "challengeID                                                           \n",
       "1838         3.000000  3.500000          0.000000       0.0     0.0   \n",
       "4229         3.250000  3.500000          0.000000       0.0     0.0   \n",
       "1771         1.250000  3.000000          0.090909       0.0     0.0   \n",
       "1596         3.250000  3.750000          0.000000       0.0     0.0   \n",
       "2066         1.750000  3.000000          0.000000       0.0     0.0   \n",
       "...               ...       ...               ...       ...     ...   \n",
       "4213         4.000000  3.750000          0.090909       0.0     0.0   \n",
       "947          2.750000  4.000000          0.000000       0.0     0.0   \n",
       "2342         2.866738  3.427539          0.103745       0.0     0.0   \n",
       "994          3.250000  3.500000          0.000000       0.0     0.0   \n",
       "3003         2.750000  2.750000          0.181818       0.0     0.0   \n",
       "\n",
       "             jobTraining  \n",
       "challengeID               \n",
       "1838                 0.0  \n",
       "4229                 0.0  \n",
       "1771                 0.0  \n",
       "1596                 1.0  \n",
       "2066                 1.0  \n",
       "...                  ...  \n",
       "4213                 0.0  \n",
       "947                  0.0  \n",
       "2342                 0.0  \n",
       "994                  0.0  \n",
       "3003                 1.0  \n",
       "\n",
       "[2121 rows x 6 columns]"
      ]
     },
     "execution_count": 50,
     "metadata": {},
     "output_type": "execute_result"
    }
   ],
   "source": [
    "y_overall"
   ]
  },
  {
   "cell_type": "code",
   "execution_count": 51,
   "id": "e363a803",
   "metadata": {},
   "outputs": [],
   "source": [
    "X_train, X_test, y_train, y_test = train_test_split(X_overall, y_overall, test_size = 0.3, random_state= 123)"
   ]
  },
  {
   "cell_type": "code",
   "execution_count": 52,
   "id": "8f01bda3",
   "metadata": {},
   "outputs": [],
   "source": [
    "y_train.rename(columns={0:'gpa',1:'grit',2:'materialHardship', 3: 'eviction', 4:'layoff', 5:'jobTraining'}, inplace=True)"
   ]
  },
  {
   "cell_type": "code",
   "execution_count": 53,
   "id": "bb0cb1b2",
   "metadata": {},
   "outputs": [],
   "source": [
    "y_test.rename(columns={0:'gpa',1:'grit',2:'materialHardship', 3: 'eviction', 4:'layoff', 5:'jobTraining'}, inplace=True)"
   ]
  },
  {
   "cell_type": "code",
   "execution_count": 54,
   "id": "cf98d222",
   "metadata": {},
   "outputs": [
    {
     "data": {
      "text/plain": [
       "array([[<AxesSubplot:title={'center':'materialHardship'}>,\n",
       "        <AxesSubplot:title={'center':'gpa'}>],\n",
       "       [<AxesSubplot:title={'center':'grit'}>, <AxesSubplot:>]],\n",
       "      dtype=object)"
      ]
     },
     "execution_count": 54,
     "metadata": {},
     "output_type": "execute_result"
    },
    {
     "data": {
      "image/png": "[encoded data removed]",
      "text/plain": [
       "<Figure size 432x288 with 4 Axes>"
      ]
     },
     "metadata": {
      "needs_background": "light"
     },
     "output_type": "display_data"
    }
   ],
   "source": [
    "y_train[['materialHardship','gpa','grit']].hist(bins=50)"
   ]
  },
  {
   "cell_type": "code",
   "execution_count": 152,
   "id": "d684fe1c",
   "metadata": {},
   "outputs": [
    {
     "data": {
      "text/plain": [
       "1723    0.000000\n",
       "1697    0.209084\n",
       "1616    0.000000\n",
       "1890    0.000000\n",
       "463     0.209084\n",
       "          ...   \n",
       "1593    0.000000\n",
       "1147    1.000000\n",
       "1766    0.209084\n",
       "1122    0.000000\n",
       "1346    0.209084\n",
       "Name: layoff, Length: 1484, dtype: float64"
      ]
     },
     "execution_count": 152,
     "metadata": {},
     "output_type": "execute_result"
    }
   ],
   "source": [
    "y_train['layoff']"
   ]
  },
  {
   "cell_type": "code",
   "execution_count": 55,
   "id": "26c4fb4b",
   "metadata": {},
   "outputs": [],
   "source": [
    "y_train_gpa = y_train['gpa']\n",
    "y_train_grit = y_train['grit']\n",
    "y_train_eviction = y_train['eviction']\n",
    "y_train_materialHardship = y_train['materialHardship']\n",
    "y_train_layoff = y_train['layoff']\n",
    "y_train_jobTraining = y_train['jobTraining']"
   ]
  },
  {
   "cell_type": "code",
   "execution_count": 56,
   "id": "008bb567",
   "metadata": {},
   "outputs": [],
   "source": [
    "y_test_gpa = y_test['gpa']\n",
    "y_test_grit = y_test['grit']\n",
    "y_test_eviction = y_test['eviction']\n",
    "y_test_materialHardship = y_test['materialHardship']\n",
    "y_test_layoff = y_test['layoff']\n",
    "y_test_jobTraining = y_test['jobTraining']"
   ]
  },
  {
   "cell_type": "code",
   "execution_count": 57,
   "id": "5e27affa",
   "metadata": {},
   "outputs": [
    {
     "data": {
      "text/plain": [
       "array([[ 3.450e+03, -9.000e+00, -9.000e+00, ...,  0.000e+00,  1.000e+00,\n",
       "         1.000e+00],\n",
       "       [ 2.196e+03, -3.000e+00,  3.800e+01, ...,  1.000e+00,  1.000e+00,\n",
       "         1.000e+00],\n",
       "       [ 2.100e+03, -9.000e+00, -9.000e+00, ...,  1.000e+00,  1.000e+00,\n",
       "         1.000e+00],\n",
       "       ...,\n",
       "       [ 2.136e+03,  0.000e+00,  3.400e+01, ...,  0.000e+00,  0.000e+00,\n",
       "         0.000e+00],\n",
       "       [ 4.173e+03,  1.000e+00, -3.000e+00, ...,  0.000e+00,  0.000e+00,\n",
       "         0.000e+00],\n",
       "       [ 5.620e+02,  0.000e+00,  4.800e+01, ...,  0.000e+00,  1.000e+00,\n",
       "         0.000e+00]])"
      ]
     },
     "execution_count": 57,
     "metadata": {},
     "output_type": "execute_result"
    }
   ],
   "source": [
    "X_train"
   ]
  },
  {
   "cell_type": "code",
   "execution_count": 58,
   "id": "5be144ab",
   "metadata": {},
   "outputs": [],
   "source": [
    "normalizer = StandardScaler()\n",
    "X_train_scaled = normalizer.fit_transform(X_train)"
   ]
  },
  {
   "cell_type": "code",
   "execution_count": 45,
   "id": "44c297cf",
   "metadata": {},
   "outputs": [],
   "source": [
    "baseline1 = LinearRegression(normalize = False) # Features already standardized so normalize is False\n",
    "baseline1_params = params = [{'fit_intercept': [True, False] }]\n",
    "grid = GridSearchCV(baseline1,\n",
    "                         param_grid=baseline1_params,\n",
    "                         scoring='neg_mean_squared_error', #sklearn optimizing by maximizing negative MSE\n",
    "                         n_jobs=1,\n",
    "                         verbose=2,\n",
    "                         cv=5)"
   ]
  },
  {
   "cell_type": "code",
   "execution_count": 73,
   "id": "d2a33f9a",
   "metadata": {},
   "outputs": [],
   "source": [
    "from sklearn.linear_model import LogisticRegression\n",
    "baseline2 = LogisticRegression(penalty= 'none')"
   ]
  },
  {
   "cell_type": "code",
   "execution_count": 78,
   "id": "2dbf4237",
   "metadata": {},
   "outputs": [
    {
     "data": {
      "text/plain": [
       "LogisticRegression(penalty='none')"
      ]
     },
     "execution_count": 78,
     "metadata": {},
     "output_type": "execute_result"
    }
   ],
   "source": [
    "baseline2.fit(X_train_scaled, y_train_layoff)"
   ]
  },
  {
   "cell_type": "code",
   "execution_count": 79,
   "id": "83d2fda9",
   "metadata": {},
   "outputs": [
    {
     "data": {
      "text/plain": [
       "0.7660910518053375"
      ]
     },
     "execution_count": 79,
     "metadata": {},
     "output_type": "execute_result"
    }
   ],
   "source": [
    "baseline2.score(X_test_scaled, y_test_layoff)"
   ]
  },
  {
   "cell_type": "code",
   "execution_count": 81,
   "id": "aaaac007",
   "metadata": {},
   "outputs": [],
   "source": [
    "from sklearn.ensemble import RandomForestClassifier\n",
    "classifier1 = RandomForestClassifier(max_depth=100)"
   ]
  },
  {
   "cell_type": "code",
   "execution_count": 86,
   "id": "70e82aab",
   "metadata": {},
   "outputs": [
    {
     "data": {
      "text/plain": [
       "RandomForestClassifier(max_depth=100)"
      ]
     },
     "execution_count": 86,
     "metadata": {},
     "output_type": "execute_result"
    }
   ],
   "source": [
    "classifier1.fit(X_train_scaled, y_train_eviction)"
   ]
  },
  {
   "cell_type": "code",
   "execution_count": 87,
   "id": "1d3368de",
   "metadata": {},
   "outputs": [
    {
     "data": {
      "text/plain": [
       "0.9638932496075353"
      ]
     },
     "execution_count": 87,
     "metadata": {},
     "output_type": "execute_result"
    }
   ],
   "source": [
    "classifier1.score(X_test_scaled,y_test_eviction)"
   ]
  },
  {
   "cell_type": "code",
   "execution_count": 106,
   "id": "e6d8636c",
   "metadata": {},
   "outputs": [],
   "source": [
    "from sklearn.ensemble import GradientBoostingClassifier\n",
    "classifier2 = GradientBoostingClassifier(n_estimators=1000, \n",
    "max_depth=100, \n",
    "learning_rate=0.01, \n",
    "subsample=0.5, \n",
    "max_features='sqrt', \n",
    "loss='deviance', \n",
    "random_state=123)"
   ]
  },
  {
   "cell_type": "code",
   "execution_count": 107,
   "id": "f8a53b74",
   "metadata": {},
   "outputs": [
    {
     "data": {
      "text/plain": [
       "GradientBoostingClassifier(learning_rate=0.01, max_depth=100,\n",
       "                           max_features='sqrt', n_estimators=5000,\n",
       "                           random_state=123, subsample=0.5)"
      ]
     },
     "execution_count": 107,
     "metadata": {},
     "output_type": "execute_result"
    }
   ],
   "source": [
    "classifier2.fit(X_train_scaled, y_train_layoff)"
   ]
  },
  {
   "cell_type": "code",
   "execution_count": 108,
   "id": "f4350f88",
   "metadata": {},
   "outputs": [
    {
     "data": {
      "text/plain": [
       "0.8916797488226059"
      ]
     },
     "execution_count": 108,
     "metadata": {},
     "output_type": "execute_result"
    }
   ],
   "source": [
    "classifier2.score(X_test_scaled,y_test_layoff)"
   ]
  },
  {
   "cell_type": "code",
   "execution_count": 73,
   "id": "ec601285",
   "metadata": {},
   "outputs": [
    {
     "name": "stdout",
     "output_type": "stream",
     "text": [
      "Fitting 5 folds for each of 2 candidates, totalling 10 fits\n"
     ]
    },
    {
     "name": "stderr",
     "output_type": "stream",
     "text": [
      "/Users/khyatikhandelwal/opt/anaconda3/lib/python3.9/site-packages/sklearn/linear_model/_base.py:148: FutureWarning: 'normalize' was deprecated in version 1.0 and will be removed in 1.2. Please leave the normalize parameter to its default value to silence this warning. The default behavior of this estimator is to not do any normalization. If normalization is needed please use sklearn.preprocessing.StandardScaler instead.\n",
      "  warnings.warn(\n"
     ]
    },
    {
     "name": "stdout",
     "output_type": "stream",
     "text": [
      "[CV] END .................................fit_intercept=True; total time=   1.0s\n"
     ]
    },
    {
     "name": "stderr",
     "output_type": "stream",
     "text": [
      "/Users/khyatikhandelwal/opt/anaconda3/lib/python3.9/site-packages/sklearn/linear_model/_base.py:148: FutureWarning: 'normalize' was deprecated in version 1.0 and will be removed in 1.2. Please leave the normalize parameter to its default value to silence this warning. The default behavior of this estimator is to not do any normalization. If normalization is needed please use sklearn.preprocessing.StandardScaler instead.\n",
      "  warnings.warn(\n"
     ]
    },
    {
     "name": "stdout",
     "output_type": "stream",
     "text": [
      "[CV] END .................................fit_intercept=True; total time=   0.8s\n"
     ]
    },
    {
     "name": "stderr",
     "output_type": "stream",
     "text": [
      "/Users/khyatikhandelwal/opt/anaconda3/lib/python3.9/site-packages/sklearn/linear_model/_base.py:148: FutureWarning: 'normalize' was deprecated in version 1.0 and will be removed in 1.2. Please leave the normalize parameter to its default value to silence this warning. The default behavior of this estimator is to not do any normalization. If normalization is needed please use sklearn.preprocessing.StandardScaler instead.\n",
      "  warnings.warn(\n"
     ]
    },
    {
     "name": "stdout",
     "output_type": "stream",
     "text": [
      "[CV] END .................................fit_intercept=True; total time=   0.8s\n"
     ]
    },
    {
     "name": "stderr",
     "output_type": "stream",
     "text": [
      "/Users/khyatikhandelwal/opt/anaconda3/lib/python3.9/site-packages/sklearn/linear_model/_base.py:148: FutureWarning: 'normalize' was deprecated in version 1.0 and will be removed in 1.2. Please leave the normalize parameter to its default value to silence this warning. The default behavior of this estimator is to not do any normalization. If normalization is needed please use sklearn.preprocessing.StandardScaler instead.\n",
      "  warnings.warn(\n"
     ]
    },
    {
     "name": "stdout",
     "output_type": "stream",
     "text": [
      "[CV] END .................................fit_intercept=True; total time=   1.0s\n"
     ]
    },
    {
     "name": "stderr",
     "output_type": "stream",
     "text": [
      "/Users/khyatikhandelwal/opt/anaconda3/lib/python3.9/site-packages/sklearn/linear_model/_base.py:148: FutureWarning: 'normalize' was deprecated in version 1.0 and will be removed in 1.2. Please leave the normalize parameter to its default value to silence this warning. The default behavior of this estimator is to not do any normalization. If normalization is needed please use sklearn.preprocessing.StandardScaler instead.\n",
      "  warnings.warn(\n"
     ]
    },
    {
     "name": "stdout",
     "output_type": "stream",
     "text": [
      "[CV] END .................................fit_intercept=True; total time=   1.1s\n"
     ]
    },
    {
     "name": "stderr",
     "output_type": "stream",
     "text": [
      "/Users/khyatikhandelwal/opt/anaconda3/lib/python3.9/site-packages/sklearn/linear_model/_base.py:148: FutureWarning: 'normalize' was deprecated in version 1.0 and will be removed in 1.2. Please leave the normalize parameter to its default value to silence this warning. The default behavior of this estimator is to not do any normalization. If normalization is needed please use sklearn.preprocessing.StandardScaler instead.\n",
      "  warnings.warn(\n"
     ]
    },
    {
     "name": "stdout",
     "output_type": "stream",
     "text": [
      "[CV] END ................................fit_intercept=False; total time=   1.0s\n"
     ]
    },
    {
     "name": "stderr",
     "output_type": "stream",
     "text": [
      "/Users/khyatikhandelwal/opt/anaconda3/lib/python3.9/site-packages/sklearn/linear_model/_base.py:148: FutureWarning: 'normalize' was deprecated in version 1.0 and will be removed in 1.2. Please leave the normalize parameter to its default value to silence this warning. The default behavior of this estimator is to not do any normalization. If normalization is needed please use sklearn.preprocessing.StandardScaler instead.\n",
      "  warnings.warn(\n"
     ]
    },
    {
     "name": "stdout",
     "output_type": "stream",
     "text": [
      "[CV] END ................................fit_intercept=False; total time=   1.0s\n"
     ]
    },
    {
     "name": "stderr",
     "output_type": "stream",
     "text": [
      "/Users/khyatikhandelwal/opt/anaconda3/lib/python3.9/site-packages/sklearn/linear_model/_base.py:148: FutureWarning: 'normalize' was deprecated in version 1.0 and will be removed in 1.2. Please leave the normalize parameter to its default value to silence this warning. The default behavior of this estimator is to not do any normalization. If normalization is needed please use sklearn.preprocessing.StandardScaler instead.\n",
      "  warnings.warn(\n"
     ]
    },
    {
     "name": "stdout",
     "output_type": "stream",
     "text": [
      "[CV] END ................................fit_intercept=False; total time=   1.1s\n"
     ]
    },
    {
     "name": "stderr",
     "output_type": "stream",
     "text": [
      "/Users/khyatikhandelwal/opt/anaconda3/lib/python3.9/site-packages/sklearn/linear_model/_base.py:148: FutureWarning: 'normalize' was deprecated in version 1.0 and will be removed in 1.2. Please leave the normalize parameter to its default value to silence this warning. The default behavior of this estimator is to not do any normalization. If normalization is needed please use sklearn.preprocessing.StandardScaler instead.\n",
      "  warnings.warn(\n"
     ]
    },
    {
     "name": "stdout",
     "output_type": "stream",
     "text": [
      "[CV] END ................................fit_intercept=False; total time=   1.2s\n"
     ]
    },
    {
     "name": "stderr",
     "output_type": "stream",
     "text": [
      "/Users/khyatikhandelwal/opt/anaconda3/lib/python3.9/site-packages/sklearn/linear_model/_base.py:148: FutureWarning: 'normalize' was deprecated in version 1.0 and will be removed in 1.2. Please leave the normalize parameter to its default value to silence this warning. The default behavior of this estimator is to not do any normalization. If normalization is needed please use sklearn.preprocessing.StandardScaler instead.\n",
      "  warnings.warn(\n"
     ]
    },
    {
     "name": "stdout",
     "output_type": "stream",
     "text": [
      "[CV] END ................................fit_intercept=False; total time=   1.0s\n"
     ]
    },
    {
     "name": "stderr",
     "output_type": "stream",
     "text": [
      "/Users/khyatikhandelwal/opt/anaconda3/lib/python3.9/site-packages/sklearn/linear_model/_base.py:148: FutureWarning: 'normalize' was deprecated in version 1.0 and will be removed in 1.2. Please leave the normalize parameter to its default value to silence this warning. The default behavior of this estimator is to not do any normalization. If normalization is needed please use sklearn.preprocessing.StandardScaler instead.\n",
      "  warnings.warn(\n"
     ]
    },
    {
     "data": {
      "text/plain": [
       "GridSearchCV(cv=5, estimator=LinearRegression(normalize=False), n_jobs=1,\n",
       "             param_grid=[{'fit_intercept': [True, False]}],\n",
       "             scoring='neg_mean_squared_error', verbose=2)"
      ]
     },
     "execution_count": 73,
     "metadata": {},
     "output_type": "execute_result"
    }
   ],
   "source": [
    "grid.fit(X_train_scaled, np.array(y_train_jobTraining))"
   ]
  },
  {
   "cell_type": "code",
   "execution_count": 74,
   "id": "27031429",
   "metadata": {},
   "outputs": [
    {
     "data": {
      "text/plain": [
       "0.33106700764470254"
      ]
     },
     "execution_count": 74,
     "metadata": {},
     "output_type": "execute_result"
    }
   ],
   "source": [
    "abs(grid.best_score_)"
   ]
  },
  {
   "cell_type": "code",
   "execution_count": 67,
   "id": "2b357d2b",
   "metadata": {},
   "outputs": [],
   "source": [
    "normalizer = StandardScaler()\n",
    "X_test_scaled = normalizer.fit_transform(X_test)"
   ]
  },
  {
   "cell_type": "code",
   "execution_count": 76,
   "id": "7fd71187",
   "metadata": {
    "scrolled": true
   },
   "outputs": [
    {
     "data": {
      "text/plain": [
       "0.3512748718648361"
      ]
     },
     "execution_count": 76,
     "metadata": {},
     "output_type": "execute_result"
    }
   ],
   "source": [
    "mean_squared_error(y_test_jobTraining, grid.predict(X_test_scaled))"
   ]
  },
  {
   "cell_type": "code",
   "execution_count": 77,
   "id": "1277365b",
   "metadata": {},
   "outputs": [],
   "source": [
    "from sklearn.linear_model import Lasso\n",
    "baseline_2 = Lasso() # Features already standardized so normalize is False\n",
    "baseline1_params = params = [{'fit_intercept': [True, False] }]\n",
    "grid_2 = GridSearchCV(baseline_2,\n",
    "                         param_grid=baseline1_params,\n",
    "                         scoring='neg_mean_squared_error', #sklearn optimizing by maximizing negative MSE\n",
    "                         n_jobs=1,\n",
    "                         verbose=2,\n",
    "                         cv=5)"
   ]
  },
  {
   "cell_type": "code",
   "execution_count": 88,
   "id": "ea1ff7d5",
   "metadata": {},
   "outputs": [
    {
     "name": "stdout",
     "output_type": "stream",
     "text": [
      "Fitting 5 folds for each of 2 candidates, totalling 10 fits\n",
      "[CV] END .................................fit_intercept=True; total time=   0.2s\n",
      "[CV] END .................................fit_intercept=True; total time=   0.1s\n",
      "[CV] END .................................fit_intercept=True; total time=   0.1s\n",
      "[CV] END .................................fit_intercept=True; total time=   0.1s\n",
      "[CV] END .................................fit_intercept=True; total time=   0.2s\n",
      "[CV] END ................................fit_intercept=False; total time=   0.0s\n",
      "[CV] END ................................fit_intercept=False; total time=   0.0s\n",
      "[CV] END ................................fit_intercept=False; total time=   0.1s\n",
      "[CV] END ................................fit_intercept=False; total time=   0.0s\n",
      "[CV] END ................................fit_intercept=False; total time=   0.1s\n"
     ]
    },
    {
     "data": {
      "text/plain": [
       "GridSearchCV(cv=5, estimator=Lasso(), n_jobs=1,\n",
       "             param_grid=[{'fit_intercept': [True, False]}],\n",
       "             scoring='neg_mean_squared_error', verbose=2)"
      ]
     },
     "execution_count": 88,
     "metadata": {},
     "output_type": "execute_result"
    }
   ],
   "source": [
    "grid_2.fit(X_train_scaled, np.array(y_train_jobTraining))"
   ]
  },
  {
   "cell_type": "code",
   "execution_count": 89,
   "id": "abceca4d",
   "metadata": {},
   "outputs": [
    {
     "data": {
      "text/plain": [
       "0.11718269106346114"
      ]
     },
     "execution_count": 89,
     "metadata": {},
     "output_type": "execute_result"
    }
   ],
   "source": [
    "mean_squared_error(y_test_jobTraining, grid_2.predict(X_test_scaled))"
   ]
  },
  {
   "cell_type": "code",
   "execution_count": 91,
   "id": "f912a36e",
   "metadata": {},
   "outputs": [],
   "source": [
    "from sklearn.linear_model import Ridge\n",
    "baseline_3 = Ridge() # Features already standardized so normalize is False\n",
    "baseline1_params = params = [{'fit_intercept': [True, False] }]\n",
    "grid_3 = GridSearchCV(baseline_3,\n",
    "                         param_grid=baseline1_params,\n",
    "                         scoring='neg_mean_squared_error', #sklearn optimizing by maximizing negative MSE\n",
    "                         n_jobs=1,\n",
    "                         verbose=2,\n",
    "                         cv=5)"
   ]
  },
  {
   "cell_type": "code",
   "execution_count": 102,
   "id": "15b506a8",
   "metadata": {},
   "outputs": [
    {
     "name": "stdout",
     "output_type": "stream",
     "text": [
      "Fitting 5 folds for each of 2 candidates, totalling 10 fits\n",
      "[CV] END .................................fit_intercept=True; total time=   0.3s\n",
      "[CV] END .................................fit_intercept=True; total time=   0.2s\n",
      "[CV] END .................................fit_intercept=True; total time=   0.2s\n",
      "[CV] END .................................fit_intercept=True; total time=   0.2s\n",
      "[CV] END .................................fit_intercept=True; total time=   0.2s\n",
      "[CV] END ................................fit_intercept=False; total time=   0.2s\n",
      "[CV] END ................................fit_intercept=False; total time=   0.2s\n",
      "[CV] END ................................fit_intercept=False; total time=   0.2s\n",
      "[CV] END ................................fit_intercept=False; total time=   0.2s\n",
      "[CV] END ................................fit_intercept=False; total time=   0.2s\n"
     ]
    },
    {
     "data": {
      "text/plain": [
       "GridSearchCV(cv=5, estimator=Ridge(), n_jobs=1,\n",
       "             param_grid=[{'fit_intercept': [True, False]}],\n",
       "             scoring='neg_mean_squared_error', verbose=2)"
      ]
     },
     "execution_count": 102,
     "metadata": {},
     "output_type": "execute_result"
    }
   ],
   "source": [
    "grid_3.fit(X_train_scaled, np.array(y_train_jobTraining))"
   ]
  },
  {
   "cell_type": "code",
   "execution_count": 103,
   "id": "e25cf79f",
   "metadata": {},
   "outputs": [
    {
     "data": {
      "text/plain": [
       "0.3455334950300636"
      ]
     },
     "execution_count": 103,
     "metadata": {},
     "output_type": "execute_result"
    }
   ],
   "source": [
    "mean_squared_error(y_test_jobTraining, grid_3.predict(X_test_scaled))"
   ]
  },
  {
   "cell_type": "code",
   "execution_count": 141,
   "id": "5515eac4",
   "metadata": {},
   "outputs": [],
   "source": [
    "from sklearn.ensemble import RandomForestRegressor, GradientBoostingRegressor \n",
    "tree1 = RandomForestRegressor(max_depth=100)\n",
    "tree2 = GradientBoostingRegressor(n_estimators= 200)"
   ]
  },
  {
   "cell_type": "code",
   "execution_count": 117,
   "id": "264fb4d2",
   "metadata": {},
   "outputs": [
    {
     "data": {
      "text/plain": [
       "RandomForestRegressor(max_depth=100)"
      ]
     },
     "execution_count": 117,
     "metadata": {},
     "output_type": "execute_result"
    }
   ],
   "source": [
    "tree1.fit(X_train_scaled, np.array(y_train_eviction))"
   ]
  },
  {
   "cell_type": "code",
   "execution_count": 118,
   "id": "295f3032",
   "metadata": {},
   "outputs": [
    {
     "data": {
      "text/plain": [
       "0.049481108396726654"
      ]
     },
     "execution_count": 118,
     "metadata": {},
     "output_type": "execute_result"
    }
   ],
   "source": [
    "mean_squared_error(y_test_eviction, tree1.predict(X_test_scaled))"
   ]
  },
  {
   "cell_type": "code",
   "execution_count": 142,
   "id": "4ff8da05",
   "metadata": {},
   "outputs": [
    {
     "data": {
      "text/plain": [
       "GradientBoostingRegressor(n_estimators=200)"
      ]
     },
     "execution_count": 142,
     "metadata": {},
     "output_type": "execute_result"
    }
   ],
   "source": [
    "tree2.fit(X_train_scaled, np.array(y_train_layoff))"
   ]
  },
  {
   "cell_type": "code",
   "execution_count": 144,
   "id": "8347d16d",
   "metadata": {},
   "outputs": [
    {
     "data": {
      "text/plain": [
       "0.10826824986231454"
      ]
     },
     "execution_count": 144,
     "metadata": {},
     "output_type": "execute_result"
    }
   ],
   "source": [
    "mean_squared_error(y_test_layoff, tree2.predict(X_test_scaled))"
   ]
  },
  {
   "cell_type": "code",
   "execution_count": null,
   "id": "a7e41069",
   "metadata": {},
   "outputs": [],
   "source": [
    "mean_squared_error(y_test_gpa, grid_search.predict(X_test_scaled))"
   ]
  }
 ],
 "metadata": {
  "kernelspec": {
   "display_name": "Python 3 (ipykernel)",
   "language": "python",
   "name": "python3"
  },
  "language_info": {
   "codemirror_mode": {
    "name": "ipython",
    "version": 3
   },
   "file_extension": ".py",
   "mimetype": "text/x-python",
   "name": "python",
   "nbconvert_exporter": "python",
   "pygments_lexer": "ipython3",
   "version": "3.9.12"
  }
 },
 "nbformat": 4,
 "nbformat_minor": 5
}
