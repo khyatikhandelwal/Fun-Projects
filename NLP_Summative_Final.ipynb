{
 "cells": [
  {
   "cell_type": "code",
   "execution_count": 1,
   "id": "3177734b",
   "metadata": {
    "id": "A-gRlXTIebcs"
   },
   "outputs": [],
   "source": [
    "# Load relevant packages\n",
    "\n",
    "import pandas as pd\n",
    "import numpy as np\n",
    "import re\n",
    "import csv\n",
    "import operator\n",
    "import random\n",
    "import pickle\n",
    "\n",
    "from sklearn.model_selection import train_test_split\n",
    "from sklearn.metrics import classification_report, f1_score\n",
    "from matplotlib import pyplot as plt\n",
    "from collections import defaultdict, Counter\n",
    "\n",
    "from sklearn.feature_extraction import _stop_words\n",
    "from sklearn.feature_extraction import _stop_words\n",
    "from sklearn.manifold import TSNE\n",
    "from sklearn.model_selection import train_test_split\n",
    "from sklearn.metrics import accuracy_score\n",
    "\n",
    "from torch import nn, optim\n",
    "from torch.nn import functional as F\n",
    "from torch.utils.data import Dataset, DataLoader"
   ]
  },
  {
   "cell_type": "code",
   "execution_count": 2,
   "id": "cbd61a5e",
   "metadata": {
    "id": "K7zDIf9AUN44"
   },
   "outputs": [],
   "source": [
    "import torch"
   ]
  },
  {
   "cell_type": "code",
   "execution_count": 3,
   "id": "9be49cdd",
   "metadata": {
    "id": "48G05L3gf2oI"
   },
   "outputs": [],
   "source": [
    "df = pd.read_csv(\"founta2018_formative2.csv\")"
   ]
  },
  {
   "cell_type": "code",
   "execution_count": 4,
   "id": "5ac84b1e",
   "metadata": {
    "colab": {
     "base_uri": "https://localhost:8080/",
     "height": 204
    },
    "id": "2s6YkjuHf4_K",
    "outputId": "256ef633-bc93-4759-afd0-16b410c6f9a4"
   },
   "outputs": [
    {
     "data": {
      "text/html": [
       "\n",
       "  <div id=\"df-17d5a2e7-5415-47de-8561-b1bdc9822bb3\">\n",
       "    <div class=\"colab-df-container\">\n",
       "      <div>\n",
       "<style scoped>\n",
       "    .dataframe tbody tr th:only-of-type {\n",
       "        vertical-align: middle;\n",
       "    }\n",
       "\n",
       "    .dataframe tbody tr th {\n",
       "        vertical-align: top;\n",
       "    }\n",
       "\n",
       "    .dataframe thead th {\n",
       "        text-align: right;\n",
       "    }\n",
       "</style>\n",
       "<table border=\"1\" class=\"dataframe\">\n",
       "  <thead>\n",
       "    <tr style=\"text-align: right;\">\n",
       "      <th></th>\n",
       "      <th>tweet</th>\n",
       "      <th>label</th>\n",
       "    </tr>\n",
       "  </thead>\n",
       "  <tbody>\n",
       "    <tr>\n",
       "      <th>42083</th>\n",
       "      <td>MK Dons Boss Robbie Neilson Hails Leicester Yo...</td>\n",
       "      <td>normal</td>\n",
       "    </tr>\n",
       "    <tr>\n",
       "      <th>72731</th>\n",
       "      <td>EXO's Sehun shares future plans for upcoming s...</td>\n",
       "      <td>normal</td>\n",
       "    </tr>\n",
       "    <tr>\n",
       "      <th>71150</th>\n",
       "      <td>What if I've recharged my number with 303 on 2...</td>\n",
       "      <td>normal</td>\n",
       "    </tr>\n",
       "    <tr>\n",
       "      <th>50169</th>\n",
       "      <td>Nice Move-in ready House with great views in w...</td>\n",
       "      <td>spam</td>\n",
       "    </tr>\n",
       "    <tr>\n",
       "      <th>36734</th>\n",
       "      <td>I wish I was an ear. They literally need to ea...</td>\n",
       "      <td>normal</td>\n",
       "    </tr>\n",
       "  </tbody>\n",
       "</table>\n",
       "</div>\n",
       "      <button class=\"colab-df-convert\" onclick=\"convertToInteractive('df-17d5a2e7-5415-47de-8561-b1bdc9822bb3')\"\n",
       "              title=\"Convert this dataframe to an interactive table.\"\n",
       "              style=\"display:none;\">\n",
       "        \n",
       "  <svg xmlns=\"http://www.w3.org/2000/svg\" height=\"24px\"viewBox=\"0 0 24 24\"\n",
       "       width=\"24px\">\n",
       "    <path d=\"M0 0h24v24H0V0z\" fill=\"none\"/>\n",
       "    <path d=\"M18.56 5.44l.94 2.06.94-2.06 2.06-.94-2.06-.94-.94-2.06-.94 2.06-2.06.94zm-11 1L8.5 8.5l.94-2.06 2.06-.94-2.06-.94L8.5 2.5l-.94 2.06-2.06.94zm10 10l.94 2.06.94-2.06 2.06-.94-2.06-.94-.94-2.06-.94 2.06-2.06.94z\"/><path d=\"M17.41 7.96l-1.37-1.37c-.4-.4-.92-.59-1.43-.59-.52 0-1.04.2-1.43.59L10.3 9.45l-7.72 7.72c-.78.78-.78 2.05 0 2.83L4 21.41c.39.39.9.59 1.41.59.51 0 1.02-.2 1.41-.59l7.78-7.78 2.81-2.81c.8-.78.8-2.07 0-2.86zM5.41 20L4 18.59l7.72-7.72 1.47 1.35L5.41 20z\"/>\n",
       "  </svg>\n",
       "      </button>\n",
       "      \n",
       "  <style>\n",
       "    .colab-df-container {\n",
       "      display:flex;\n",
       "      flex-wrap:wrap;\n",
       "      gap: 12px;\n",
       "    }\n",
       "\n",
       "    .colab-df-convert {\n",
       "      background-color: #E8F0FE;\n",
       "      border: none;\n",
       "      border-radius: 50%;\n",
       "      cursor: pointer;\n",
       "      display: none;\n",
       "      fill: #1967D2;\n",
       "      height: 32px;\n",
       "      padding: 0 0 0 0;\n",
       "      width: 32px;\n",
       "    }\n",
       "\n",
       "    .colab-df-convert:hover {\n",
       "      background-color: #E2EBFA;\n",
       "      box-shadow: 0px 1px 2px rgba(60, 64, 67, 0.3), 0px 1px 3px 1px rgba(60, 64, 67, 0.15);\n",
       "      fill: #174EA6;\n",
       "    }\n",
       "\n",
       "    [theme=dark] .colab-df-convert {\n",
       "      background-color: #3B4455;\n",
       "      fill: #D2E3FC;\n",
       "    }\n",
       "\n",
       "    [theme=dark] .colab-df-convert:hover {\n",
       "      background-color: #434B5C;\n",
       "      box-shadow: 0px 1px 3px 1px rgba(0, 0, 0, 0.15);\n",
       "      filter: drop-shadow(0px 1px 2px rgba(0, 0, 0, 0.3));\n",
       "      fill: #FFFFFF;\n",
       "    }\n",
       "  </style>\n",
       "\n",
       "      <script>\n",
       "        const buttonEl =\n",
       "          document.querySelector('#df-17d5a2e7-5415-47de-8561-b1bdc9822bb3 button.colab-df-convert');\n",
       "        buttonEl.style.display =\n",
       "          google.colab.kernel.accessAllowed ? 'block' : 'none';\n",
       "\n",
       "        async function convertToInteractive(key) {\n",
       "          const element = document.querySelector('#df-17d5a2e7-5415-47de-8561-b1bdc9822bb3');\n",
       "          const dataTable =\n",
       "            await google.colab.kernel.invokeFunction('convertToInteractive',\n",
       "                                                     [key], {});\n",
       "          if (!dataTable) return;\n",
       "\n",
       "          const docLinkHtml = 'Like what you see? Visit the ' +\n",
       "            '<a target=\"_blank\" href=https://colab.research.google.com/notebooks/data_table.ipynb>data table notebook</a>'\n",
       "            + ' to learn more about interactive tables.';\n",
       "          element.innerHTML = '';\n",
       "          dataTable['output_type'] = 'display_data';\n",
       "          await google.colab.output.renderOutput(dataTable, element);\n",
       "          const docLink = document.createElement('div');\n",
       "          docLink.innerHTML = docLinkHtml;\n",
       "          element.appendChild(docLink);\n",
       "        }\n",
       "      </script>\n",
       "    </div>\n",
       "  </div>\n",
       "  "
      ],
      "text/plain": [
       "                                                   tweet   label\n",
       "42083  MK Dons Boss Robbie Neilson Hails Leicester Yo...  normal\n",
       "72731  EXO's Sehun shares future plans for upcoming s...  normal\n",
       "71150  What if I've recharged my number with 303 on 2...  normal\n",
       "50169  Nice Move-in ready House with great views in w...    spam\n",
       "36734  I wish I was an ear. They literally need to ea...  normal"
      ]
     },
     "execution_count": 4,
     "metadata": {},
     "output_type": "execute_result"
    }
   ],
   "source": [
    "df.sample(5, random_state = 123)"
   ]
  },
  {
   "cell_type": "code",
   "execution_count": 5,
   "id": "b40fed46",
   "metadata": {
    "id": "g6cHhcTZf48i"
   },
   "outputs": [],
   "source": [
    "def clean_text(text):\n",
    "\n",
    "    #replace mentions and URLs with special token\n",
    "       text = re.sub(r\"@[A-Za-z0-9_-]+\",'USR',text)\n",
    "       text = re.sub(r\"http\\S+\",'URL',text)\n",
    "    \n",
    "    # remove newline and tab characters\n",
    "       text = text.replace('\\n',' ')\n",
    "       text = text.replace('\\t',' ')\n",
    "       text = text.replace('rt', ' ')\n",
    "\n",
    "       text = re.sub(r'[^\\x00-\\x7F]+', ' ', text)\n",
    "    \n",
    "    # strip whitespace\n",
    "       text = text.strip()\n",
    "    \n",
    "    # lowercase\n",
    "       text = text.lower()\n",
    "    \n",
    "       return text"
   ]
  },
  {
   "cell_type": "code",
   "execution_count": 6,
   "id": "015149f8",
   "metadata": {
    "id": "hX4QhwaTf45p"
   },
   "outputs": [],
   "source": [
    "# Clean tweets\n",
    "df[\"tweet\"] = df.tweet.apply(lambda x: clean_text(x))"
   ]
  },
  {
   "cell_type": "code",
   "execution_count": 7,
   "id": "00c3adff",
   "metadata": {
    "colab": {
     "base_uri": "https://localhost:8080/"
    },
    "id": "gfbB_fRqgAef",
    "outputId": "c57a1334-6df3-4959-88c4-33237eb88fac"
   },
   "outputs": [
    {
     "name": "stdout",
     "output_type": "stream",
     "text": [
      "99996 posts, of which 12710 were dropped for being duplicates.\n",
      "87286 posts remain. \n",
      "\n"
     ]
    }
   ],
   "source": [
    "def drop_dupl(df):\n",
    "\n",
    "    # save number of documents before dropping duplicates\n",
    "    n_docs = df.shape[0]\n",
    "\n",
    "    # drop duplicates\n",
    "    df.drop_duplicates(subset = ['tweet'], inplace=True)\n",
    "\n",
    "    print(f'{n_docs} posts, of which {n_docs - df.shape[0]} were dropped for being duplicates.')\n",
    "    print(f'{df.shape[0]} posts remain. \\n')\n",
    "    \n",
    "    return df\n",
    "\n",
    "df = drop_dupl(df)"
   ]
  },
  {
   "cell_type": "code",
   "execution_count": 8,
   "id": "8039fb41",
   "metadata": {
    "id": "TNPzAYlKgAbD"
   },
   "outputs": [],
   "source": [
    "with open('FastText.pickle', 'rb') as handle:\n",
    "    vecs = pickle.load(handle)"
   ]
  },
  {
   "cell_type": "code",
   "execution_count": 9,
   "id": "d54a0de9",
   "metadata": {
    "colab": {
     "base_uri": "https://localhost:8080/"
    },
    "id": "zWXYmPvJMVmF",
    "outputId": "f44d156f-40ad-45fa-f3d6-83ee67764f27"
   },
   "outputs": [
    {
     "data": {
      "text/plain": [
       "140447"
      ]
     },
     "execution_count": 9,
     "metadata": {},
     "output_type": "execute_result"
    }
   ],
   "source": [
    "len(vecs)"
   ]
  },
  {
   "cell_type": "code",
   "execution_count": 10,
   "id": "81a9bc8e",
   "metadata": {
    "id": "QHOR29rvgFad"
   },
   "outputs": [],
   "source": [
    "def lis(text):\n",
    "  return text.split(' ')"
   ]
  },
  {
   "cell_type": "code",
   "execution_count": 11,
   "id": "bee50e11",
   "metadata": {
    "id": "aGhaTVpJgFX0"
   },
   "outputs": [],
   "source": [
    "df['cleaned'] = df.tweet.apply(lis)"
   ]
  },
  {
   "cell_type": "code",
   "execution_count": 12,
   "id": "db514fd2",
   "metadata": {
    "colab": {
     "base_uri": "https://localhost:8080/",
     "height": 419
    },
    "id": "msvmnq9IgFVX",
    "outputId": "d347f2e2-f045-4f11-d4b4-e5af53eaa30d"
   },
   "outputs": [
    {
     "data": {
      "text/html": [
       "\n",
       "  <div id=\"df-88983b0a-aae0-4188-9d52-f9222991470d\">\n",
       "    <div class=\"colab-df-container\">\n",
       "      <div>\n",
       "<style scoped>\n",
       "    .dataframe tbody tr th:only-of-type {\n",
       "        vertical-align: middle;\n",
       "    }\n",
       "\n",
       "    .dataframe tbody tr th {\n",
       "        vertical-align: top;\n",
       "    }\n",
       "\n",
       "    .dataframe thead th {\n",
       "        text-align: right;\n",
       "    }\n",
       "</style>\n",
       "<table border=\"1\" class=\"dataframe\">\n",
       "  <thead>\n",
       "    <tr style=\"text-align: right;\">\n",
       "      <th></th>\n",
       "      <th>tweet</th>\n",
       "      <th>label</th>\n",
       "      <th>cleaned</th>\n",
       "    </tr>\n",
       "  </thead>\n",
       "  <tbody>\n",
       "    <tr>\n",
       "      <th>0</th>\n",
       "      <td>beats by dr. dre urbeats wired in-ear headphon...</td>\n",
       "      <td>3</td>\n",
       "      <td>[beats, by, dr., dre, urbeats, wired, in-ear, ...</td>\n",
       "    </tr>\n",
       "    <tr>\n",
       "      <th>1</th>\n",
       "      <td>rt usr: man it would fucking rule if we had a ...</td>\n",
       "      <td>2</td>\n",
       "      <td>[rt, usr:, man, it, would, fucking, rule, if, ...</td>\n",
       "    </tr>\n",
       "    <tr>\n",
       "      <th>2</th>\n",
       "      <td>it is time to draw close to him   father, i dr...</td>\n",
       "      <td>1</td>\n",
       "      <td>[it, is, time, to, draw, close, to, him, , , f...</td>\n",
       "    </tr>\n",
       "    <tr>\n",
       "      <th>3</th>\n",
       "      <td>if you notice me sta  to act different or dist...</td>\n",
       "      <td>1</td>\n",
       "      <td>[if, you, notice, me, sta, , to, act, differen...</td>\n",
       "    </tr>\n",
       "    <tr>\n",
       "      <th>4</th>\n",
       "      <td>forget unfollowers, i believe in growing. 7 ne...</td>\n",
       "      <td>1</td>\n",
       "      <td>[forget, unfollowers,, i, believe, in, growing...</td>\n",
       "    </tr>\n",
       "    <tr>\n",
       "      <th>...</th>\n",
       "      <td>...</td>\n",
       "      <td>...</td>\n",
       "      <td>...</td>\n",
       "    </tr>\n",
       "    <tr>\n",
       "      <th>99991</th>\n",
       "      <td>rt usr: my fucking queen url</td>\n",
       "      <td>2</td>\n",
       "      <td>[rt, usr:, my, fucking, queen, url]</td>\n",
       "    </tr>\n",
       "    <tr>\n",
       "      <th>99992</th>\n",
       "      <td>#osteporosis treated with #pemf - rebuild bone...</td>\n",
       "      <td>1</td>\n",
       "      <td>[#osteporosis, treated, with, #pemf, -, rebuil...</td>\n",
       "    </tr>\n",
       "    <tr>\n",
       "      <th>99993</th>\n",
       "      <td>usr why does my phone screen keeps flickring i...</td>\n",
       "      <td>1</td>\n",
       "      <td>[usr, why, does, my, phone, screen, keeps, fli...</td>\n",
       "    </tr>\n",
       "    <tr>\n",
       "      <th>99994</th>\n",
       "      <td>#bigdata vs. #reality ... but equally applies ...</td>\n",
       "      <td>1</td>\n",
       "      <td>[#bigdata, vs., #reality, ..., but, equally, a...</td>\n",
       "    </tr>\n",
       "    <tr>\n",
       "      <th>99995</th>\n",
       "      <td>you can do whatever you choose, if you first g...</td>\n",
       "      <td>1</td>\n",
       "      <td>[you, can, do, whatever, you, choose,, if, you...</td>\n",
       "    </tr>\n",
       "  </tbody>\n",
       "</table>\n",
       "<p>87286 rows × 3 columns</p>\n",
       "</div>\n",
       "      <button class=\"colab-df-convert\" onclick=\"convertToInteractive('df-88983b0a-aae0-4188-9d52-f9222991470d')\"\n",
       "              title=\"Convert this dataframe to an interactive table.\"\n",
       "              style=\"display:none;\">\n",
       "        \n",
       "  <svg xmlns=\"http://www.w3.org/2000/svg\" height=\"24px\"viewBox=\"0 0 24 24\"\n",
       "       width=\"24px\">\n",
       "    <path d=\"M0 0h24v24H0V0z\" fill=\"none\"/>\n",
       "    <path d=\"M18.56 5.44l.94 2.06.94-2.06 2.06-.94-2.06-.94-.94-2.06-.94 2.06-2.06.94zm-11 1L8.5 8.5l.94-2.06 2.06-.94-2.06-.94L8.5 2.5l-.94 2.06-2.06.94zm10 10l.94 2.06.94-2.06 2.06-.94-2.06-.94-.94-2.06-.94 2.06-2.06.94z\"/><path d=\"M17.41 7.96l-1.37-1.37c-.4-.4-.92-.59-1.43-.59-.52 0-1.04.2-1.43.59L10.3 9.45l-7.72 7.72c-.78.78-.78 2.05 0 2.83L4 21.41c.39.39.9.59 1.41.59.51 0 1.02-.2 1.41-.59l7.78-7.78 2.81-2.81c.8-.78.8-2.07 0-2.86zM5.41 20L4 18.59l7.72-7.72 1.47 1.35L5.41 20z\"/>\n",
       "  </svg>\n",
       "      </button>\n",
       "      \n",
       "  <style>\n",
       "    .colab-df-container {\n",
       "      display:flex;\n",
       "      flex-wrap:wrap;\n",
       "      gap: 12px;\n",
       "    }\n",
       "\n",
       "    .colab-df-convert {\n",
       "      background-color: #E8F0FE;\n",
       "      border: none;\n",
       "      border-radius: 50%;\n",
       "      cursor: pointer;\n",
       "      display: none;\n",
       "      fill: #1967D2;\n",
       "      height: 32px;\n",
       "      padding: 0 0 0 0;\n",
       "      width: 32px;\n",
       "    }\n",
       "\n",
       "    .colab-df-convert:hover {\n",
       "      background-color: #E2EBFA;\n",
       "      box-shadow: 0px 1px 2px rgba(60, 64, 67, 0.3), 0px 1px 3px 1px rgba(60, 64, 67, 0.15);\n",
       "      fill: #174EA6;\n",
       "    }\n",
       "\n",
       "    [theme=dark] .colab-df-convert {\n",
       "      background-color: #3B4455;\n",
       "      fill: #D2E3FC;\n",
       "    }\n",
       "\n",
       "    [theme=dark] .colab-df-convert:hover {\n",
       "      background-color: #434B5C;\n",
       "      box-shadow: 0px 1px 3px 1px rgba(0, 0, 0, 0.15);\n",
       "      filter: drop-shadow(0px 1px 2px rgba(0, 0, 0, 0.3));\n",
       "      fill: #FFFFFF;\n",
       "    }\n",
       "  </style>\n",
       "\n",
       "      <script>\n",
       "        const buttonEl =\n",
       "          document.querySelector('#df-88983b0a-aae0-4188-9d52-f9222991470d button.colab-df-convert');\n",
       "        buttonEl.style.display =\n",
       "          google.colab.kernel.accessAllowed ? 'block' : 'none';\n",
       "\n",
       "        async function convertToInteractive(key) {\n",
       "          const element = document.querySelector('#df-88983b0a-aae0-4188-9d52-f9222991470d');\n",
       "          const dataTable =\n",
       "            await google.colab.kernel.invokeFunction('convertToInteractive',\n",
       "                                                     [key], {});\n",
       "          if (!dataTable) return;\n",
       "\n",
       "          const docLinkHtml = 'Like what you see? Visit the ' +\n",
       "            '<a target=\"_blank\" href=https://colab.research.google.com/notebooks/data_table.ipynb>data table notebook</a>'\n",
       "            + ' to learn more about interactive tables.';\n",
       "          element.innerHTML = '';\n",
       "          dataTable['output_type'] = 'display_data';\n",
       "          await google.colab.output.renderOutput(dataTable, element);\n",
       "          const docLink = document.createElement('div');\n",
       "          docLink.innerHTML = docLinkHtml;\n",
       "          element.appendChild(docLink);\n",
       "        }\n",
       "      </script>\n",
       "    </div>\n",
       "  </div>\n",
       "  "
      ],
      "text/plain": [
       "                                                   tweet  label  \\\n",
       "0      beats by dr. dre urbeats wired in-ear headphon...      3   \n",
       "1      rt usr: man it would fucking rule if we had a ...      2   \n",
       "2      it is time to draw close to him   father, i dr...      1   \n",
       "3      if you notice me sta  to act different or dist...      1   \n",
       "4      forget unfollowers, i believe in growing. 7 ne...      1   \n",
       "...                                                  ...    ...   \n",
       "99991                       rt usr: my fucking queen url      2   \n",
       "99992  #osteporosis treated with #pemf - rebuild bone...      1   \n",
       "99993  usr why does my phone screen keeps flickring i...      1   \n",
       "99994  #bigdata vs. #reality ... but equally applies ...      1   \n",
       "99995  you can do whatever you choose, if you first g...      1   \n",
       "\n",
       "                                                 cleaned  \n",
       "0      [beats, by, dr., dre, urbeats, wired, in-ear, ...  \n",
       "1      [rt, usr:, man, it, would, fucking, rule, if, ...  \n",
       "2      [it, is, time, to, draw, close, to, him, , , f...  \n",
       "3      [if, you, notice, me, sta, , to, act, differen...  \n",
       "4      [forget, unfollowers,, i, believe, in, growing...  \n",
       "...                                                  ...  \n",
       "99991                [rt, usr:, my, fucking, queen, url]  \n",
       "99992  [#osteporosis, treated, with, #pemf, -, rebuil...  \n",
       "99993  [usr, why, does, my, phone, screen, keeps, fli...  \n",
       "99994  [#bigdata, vs., #reality, ..., but, equally, a...  \n",
       "99995  [you, can, do, whatever, you, choose,, if, you...  \n",
       "\n",
       "[87286 rows x 3 columns]"
      ]
     },
     "execution_count": 12,
     "metadata": {},
     "output_type": "execute_result"
    }
   ],
   "source": [
    "# Define list of labels\n",
    "labels = ['hateful', 'normal', 'abusive', 'spam']\n",
    "\n",
    "# Define dictionary for label look-up\n",
    "label2id = {'hateful': 0, 'normal': 1, 'abusive': 2, 'spam': 3}\n",
    "\n",
    "# Define dictionary for reverse label look-up\n",
    "id2label = {v: k for k, v in label2id.items()}\n",
    "\n",
    "# Convert labels\n",
    "df['label'] = df.label.apply(lambda x: label2id[x])\n",
    "\n",
    "# FOR DEBUGGING: Reduce dataset size to make the task more computationally tractable\n",
    "# data, _ = train_test_split(data, train_size=400, stratify=data['label'], random_state=0)\n",
    "\n",
    "# Inspect dataframe\n",
    "df"
   ]
  },
  {
   "cell_type": "code",
   "execution_count": 13,
   "id": "ae971f52",
   "metadata": {
    "id": "YWjmougKgMKd"
   },
   "outputs": [],
   "source": [
    "# Split data into training, development, and test sets\n",
    "train, dev_test = train_test_split(df, test_size=0.2, stratify=df['label'], random_state=0)\n",
    "dev, test = train_test_split(dev_test, test_size=0.5, stratify=dev_test['label'], random_state=0)"
   ]
  },
  {
   "cell_type": "code",
   "execution_count": 14,
   "id": "1c41e56e",
   "metadata": {
    "id": "R5wkJmWngMHW"
   },
   "outputs": [],
   "source": [
    "# Define function to compute abstract embedding\n",
    "def tweet2vec(a, vecs):\n",
    "    return np.array([vecs[w] for w in a if w not in _stop_words.ENGLISH_STOP_WORDS and w in vecs]).mean(axis=0)"
   ]
  },
  {
   "cell_type": "code",
   "execution_count": 15,
   "id": "3a0aa914",
   "metadata": {
    "colab": {
     "base_uri": "https://localhost:8080/",
     "height": 633
    },
    "id": "xFfgX2t3gMEJ",
    "outputId": "e0757313-24d5-485d-eb34-b76dd78c4910"
   },
   "outputs": [
    {
     "data": {
      "text/html": [
       "\n",
       "  <div id=\"df-a4241f35-091b-4053-8704-df01d48a15ce\">\n",
       "    <div class=\"colab-df-container\">\n",
       "      <div>\n",
       "<style scoped>\n",
       "    .dataframe tbody tr th:only-of-type {\n",
       "        vertical-align: middle;\n",
       "    }\n",
       "\n",
       "    .dataframe tbody tr th {\n",
       "        vertical-align: top;\n",
       "    }\n",
       "\n",
       "    .dataframe thead th {\n",
       "        text-align: right;\n",
       "    }\n",
       "</style>\n",
       "<table border=\"1\" class=\"dataframe\">\n",
       "  <thead>\n",
       "    <tr style=\"text-align: right;\">\n",
       "      <th></th>\n",
       "      <th>tweet</th>\n",
       "      <th>label</th>\n",
       "      <th>cleaned</th>\n",
       "      <th>vec</th>\n",
       "    </tr>\n",
       "  </thead>\n",
       "  <tbody>\n",
       "    <tr>\n",
       "      <th>0</th>\n",
       "      <td>beats by dr. dre urbeats wired in-ear headphon...</td>\n",
       "      <td>3</td>\n",
       "      <td>[beats, by, dr., dre, urbeats, wired, in-ear, ...</td>\n",
       "      <td>[0.1029635, 0.015414032, 0.039848752, -0.01176...</td>\n",
       "    </tr>\n",
       "    <tr>\n",
       "      <th>1</th>\n",
       "      <td>rt usr: man it would fucking rule if we had a ...</td>\n",
       "      <td>2</td>\n",
       "      <td>[rt, usr:, man, it, would, fucking, rule, if, ...</td>\n",
       "      <td>[0.120076925, 0.023571849, 0.04512241, -0.0145...</td>\n",
       "    </tr>\n",
       "    <tr>\n",
       "      <th>2</th>\n",
       "      <td>it is time to draw close to him   father, i dr...</td>\n",
       "      <td>1</td>\n",
       "      <td>[it, is, time, to, draw, close, to, him, , , f...</td>\n",
       "      <td>[0.05934707, 0.004570604, 0.024480723, -0.0053...</td>\n",
       "    </tr>\n",
       "    <tr>\n",
       "      <th>3</th>\n",
       "      <td>if you notice me sta  to act different or dist...</td>\n",
       "      <td>1</td>\n",
       "      <td>[if, you, notice, me, sta, , to, act, differen...</td>\n",
       "      <td>[0.07843587, 0.0015229215, 0.033906847, -0.005...</td>\n",
       "    </tr>\n",
       "    <tr>\n",
       "      <th>4</th>\n",
       "      <td>forget unfollowers, i believe in growing. 7 ne...</td>\n",
       "      <td>1</td>\n",
       "      <td>[forget, unfollowers,, i, believe, in, growing...</td>\n",
       "      <td>[0.10255028, 0.0099162245, 0.0412183, -0.00976...</td>\n",
       "    </tr>\n",
       "    <tr>\n",
       "      <th>...</th>\n",
       "      <td>...</td>\n",
       "      <td>...</td>\n",
       "      <td>...</td>\n",
       "      <td>...</td>\n",
       "    </tr>\n",
       "    <tr>\n",
       "      <th>99991</th>\n",
       "      <td>rt usr: my fucking queen url</td>\n",
       "      <td>2</td>\n",
       "      <td>[rt, usr:, my, fucking, queen, url]</td>\n",
       "      <td>[0.17864741, 0.052955687, 0.060966246, -0.0291...</td>\n",
       "    </tr>\n",
       "    <tr>\n",
       "      <th>99992</th>\n",
       "      <td>#osteporosis treated with #pemf - rebuild bone...</td>\n",
       "      <td>1</td>\n",
       "      <td>[#osteporosis, treated, with, #pemf, -, rebuil...</td>\n",
       "      <td>[0.09155674, 0.012652216, 0.035791688, -0.0099...</td>\n",
       "    </tr>\n",
       "    <tr>\n",
       "      <th>99993</th>\n",
       "      <td>usr why does my phone screen keeps flickring i...</td>\n",
       "      <td>1</td>\n",
       "      <td>[usr, why, does, my, phone, screen, keeps, fli...</td>\n",
       "      <td>[0.106647834, 0.013657742, 0.042137403, -0.011...</td>\n",
       "    </tr>\n",
       "    <tr>\n",
       "      <th>99994</th>\n",
       "      <td>#bigdata vs. #reality ... but equally applies ...</td>\n",
       "      <td>1</td>\n",
       "      <td>[#bigdata, vs., #reality, ..., but, equally, a...</td>\n",
       "      <td>[0.09347327, 0.005979382, 0.039065275, -0.0080...</td>\n",
       "    </tr>\n",
       "    <tr>\n",
       "      <th>99995</th>\n",
       "      <td>you can do whatever you choose, if you first g...</td>\n",
       "      <td>1</td>\n",
       "      <td>[you, can, do, whatever, you, choose,, if, you...</td>\n",
       "      <td>[0.13127932, 0.02737297, 0.048401862, -0.01760...</td>\n",
       "    </tr>\n",
       "  </tbody>\n",
       "</table>\n",
       "<p>87286 rows × 4 columns</p>\n",
       "</div>\n",
       "      <button class=\"colab-df-convert\" onclick=\"convertToInteractive('df-a4241f35-091b-4053-8704-df01d48a15ce')\"\n",
       "              title=\"Convert this dataframe to an interactive table.\"\n",
       "              style=\"display:none;\">\n",
       "        \n",
       "  <svg xmlns=\"http://www.w3.org/2000/svg\" height=\"24px\"viewBox=\"0 0 24 24\"\n",
       "       width=\"24px\">\n",
       "    <path d=\"M0 0h24v24H0V0z\" fill=\"none\"/>\n",
       "    <path d=\"M18.56 5.44l.94 2.06.94-2.06 2.06-.94-2.06-.94-.94-2.06-.94 2.06-2.06.94zm-11 1L8.5 8.5l.94-2.06 2.06-.94-2.06-.94L8.5 2.5l-.94 2.06-2.06.94zm10 10l.94 2.06.94-2.06 2.06-.94-2.06-.94-.94-2.06-.94 2.06-2.06.94z\"/><path d=\"M17.41 7.96l-1.37-1.37c-.4-.4-.92-.59-1.43-.59-.52 0-1.04.2-1.43.59L10.3 9.45l-7.72 7.72c-.78.78-.78 2.05 0 2.83L4 21.41c.39.39.9.59 1.41.59.51 0 1.02-.2 1.41-.59l7.78-7.78 2.81-2.81c.8-.78.8-2.07 0-2.86zM5.41 20L4 18.59l7.72-7.72 1.47 1.35L5.41 20z\"/>\n",
       "  </svg>\n",
       "      </button>\n",
       "      \n",
       "  <style>\n",
       "    .colab-df-container {\n",
       "      display:flex;\n",
       "      flex-wrap:wrap;\n",
       "      gap: 12px;\n",
       "    }\n",
       "\n",
       "    .colab-df-convert {\n",
       "      background-color: #E8F0FE;\n",
       "      border: none;\n",
       "      border-radius: 50%;\n",
       "      cursor: pointer;\n",
       "      display: none;\n",
       "      fill: #1967D2;\n",
       "      height: 32px;\n",
       "      padding: 0 0 0 0;\n",
       "      width: 32px;\n",
       "    }\n",
       "\n",
       "    .colab-df-convert:hover {\n",
       "      background-color: #E2EBFA;\n",
       "      box-shadow: 0px 1px 2px rgba(60, 64, 67, 0.3), 0px 1px 3px 1px rgba(60, 64, 67, 0.15);\n",
       "      fill: #174EA6;\n",
       "    }\n",
       "\n",
       "    [theme=dark] .colab-df-convert {\n",
       "      background-color: #3B4455;\n",
       "      fill: #D2E3FC;\n",
       "    }\n",
       "\n",
       "    [theme=dark] .colab-df-convert:hover {\n",
       "      background-color: #434B5C;\n",
       "      box-shadow: 0px 1px 3px 1px rgba(0, 0, 0, 0.15);\n",
       "      filter: drop-shadow(0px 1px 2px rgba(0, 0, 0, 0.3));\n",
       "      fill: #FFFFFF;\n",
       "    }\n",
       "  </style>\n",
       "\n",
       "      <script>\n",
       "        const buttonEl =\n",
       "          document.querySelector('#df-a4241f35-091b-4053-8704-df01d48a15ce button.colab-df-convert');\n",
       "        buttonEl.style.display =\n",
       "          google.colab.kernel.accessAllowed ? 'block' : 'none';\n",
       "\n",
       "        async function convertToInteractive(key) {\n",
       "          const element = document.querySelector('#df-a4241f35-091b-4053-8704-df01d48a15ce');\n",
       "          const dataTable =\n",
       "            await google.colab.kernel.invokeFunction('convertToInteractive',\n",
       "                                                     [key], {});\n",
       "          if (!dataTable) return;\n",
       "\n",
       "          const docLinkHtml = 'Like what you see? Visit the ' +\n",
       "            '<a target=\"_blank\" href=https://colab.research.google.com/notebooks/data_table.ipynb>data table notebook</a>'\n",
       "            + ' to learn more about interactive tables.';\n",
       "          element.innerHTML = '';\n",
       "          dataTable['output_type'] = 'display_data';\n",
       "          await google.colab.output.renderOutput(dataTable, element);\n",
       "          const docLink = document.createElement('div');\n",
       "          docLink.innerHTML = docLinkHtml;\n",
       "          element.appendChild(docLink);\n",
       "        }\n",
       "      </script>\n",
       "    </div>\n",
       "  </div>\n",
       "  "
      ],
      "text/plain": [
       "                                                   tweet  label  \\\n",
       "0      beats by dr. dre urbeats wired in-ear headphon...      3   \n",
       "1      rt usr: man it would fucking rule if we had a ...      2   \n",
       "2      it is time to draw close to him   father, i dr...      1   \n",
       "3      if you notice me sta  to act different or dist...      1   \n",
       "4      forget unfollowers, i believe in growing. 7 ne...      1   \n",
       "...                                                  ...    ...   \n",
       "99991                       rt usr: my fucking queen url      2   \n",
       "99992  #osteporosis treated with #pemf - rebuild bone...      1   \n",
       "99993  usr why does my phone screen keeps flickring i...      1   \n",
       "99994  #bigdata vs. #reality ... but equally applies ...      1   \n",
       "99995  you can do whatever you choose, if you first g...      1   \n",
       "\n",
       "                                                 cleaned  \\\n",
       "0      [beats, by, dr., dre, urbeats, wired, in-ear, ...   \n",
       "1      [rt, usr:, man, it, would, fucking, rule, if, ...   \n",
       "2      [it, is, time, to, draw, close, to, him, , , f...   \n",
       "3      [if, you, notice, me, sta, , to, act, differen...   \n",
       "4      [forget, unfollowers,, i, believe, in, growing...   \n",
       "...                                                  ...   \n",
       "99991                [rt, usr:, my, fucking, queen, url]   \n",
       "99992  [#osteporosis, treated, with, #pemf, -, rebuil...   \n",
       "99993  [usr, why, does, my, phone, screen, keeps, fli...   \n",
       "99994  [#bigdata, vs., #reality, ..., but, equally, a...   \n",
       "99995  [you, can, do, whatever, you, choose,, if, you...   \n",
       "\n",
       "                                                     vec  \n",
       "0      [0.1029635, 0.015414032, 0.039848752, -0.01176...  \n",
       "1      [0.120076925, 0.023571849, 0.04512241, -0.0145...  \n",
       "2      [0.05934707, 0.004570604, 0.024480723, -0.0053...  \n",
       "3      [0.07843587, 0.0015229215, 0.033906847, -0.005...  \n",
       "4      [0.10255028, 0.0099162245, 0.0412183, -0.00976...  \n",
       "...                                                  ...  \n",
       "99991  [0.17864741, 0.052955687, 0.060966246, -0.0291...  \n",
       "99992  [0.09155674, 0.012652216, 0.035791688, -0.0099...  \n",
       "99993  [0.106647834, 0.013657742, 0.042137403, -0.011...  \n",
       "99994  [0.09347327, 0.005979382, 0.039065275, -0.0080...  \n",
       "99995  [0.13127932, 0.02737297, 0.048401862, -0.01760...  \n",
       "\n",
       "[87286 rows x 4 columns]"
      ]
     },
     "execution_count": 15,
     "metadata": {},
     "output_type": "execute_result"
    }
   ],
   "source": [
    "# Generate abstract embeddings\n",
    "df['vec'] = df.cleaned.apply(lambda x: tweet2vec(x, vecs))\n",
    "\n",
    "# Inspect data\n",
    "df"
   ]
  },
  {
   "cell_type": "code",
   "execution_count": 24,
   "id": "49483fa9",
   "metadata": {
    "id": "COIW570qwcsB"
   },
   "outputs": [],
   "source": [
    "# Create dataset of vectors for t-SNE\n",
    "tsne_vectors = np.array(list(df['vec']))\n",
    "\n",
    "# Train t-SNE\n",
    "tsne = TSNE(n_components=2, verbose=0, perplexity=40,early_exaggeration=7, n_iter=2000, random_state=0)\n",
    "tsne_results = tsne.fit_transform(tsne_vectors)"
   ]
  },
  {
   "cell_type": "code",
   "execution_count": 25,
   "id": "d255977a",
   "metadata": {
    "colab": {
     "base_uri": "https://localhost:8080/",
     "height": 564
    },
    "id": "dbqppYwXwcpU",
    "outputId": "89444ba0-8e8d-424a-d8a6-90c446d2d8c9"
   },
   "outputs": [
    {
     "data": {
      "image/png": "[encoded data removed]",
      "text/plain": [
       "<Figure size 1200x600 with 1 Axes>"
      ]
     },
     "metadata": {},
     "output_type": "display_data"
    }
   ],
   "source": [
    "# Plot results\n",
    "colors = {'hateful':'red', 'normal': 'green', 'abusive': 'yellow', 'spam':'blue'}\n",
    "fig, ax = plt.subplots(1, figsize=(12, 6))\n",
    "\n",
    "for l in labels:\n",
    "    idx = [i for i, label in enumerate(df.label) if label == label2id[l]]\n",
    "    ax.scatter(tsne_results[idx, 0], tsne_results[idx, 1], label=l, alpha=0.1, c=colors[l], s=10)\n",
    "\n",
    "ax.set_title('t-SNE plot of tweet embeddings')\n",
    "ax.set_xlabel('t-SNE dimension 1')\n",
    "ax.set_ylabel('t-SNE dimension 2')\n",
    "ax.legend()\n",
    "\n",
    "plt.show()"
   ]
  },
  {
   "cell_type": "code",
   "execution_count": null,
   "id": "11624bb3",
   "metadata": {
    "id": "uMgY2NDjwcmL"
   },
   "outputs": [],
   "source": []
  },
  {
   "cell_type": "code",
   "execution_count": null,
   "id": "0573379a",
   "metadata": {
    "id": "gzwrQo-wwch-"
   },
   "outputs": [],
   "source": []
  },
  {
   "cell_type": "code",
   "execution_count": null,
   "id": "57be7bf3",
   "metadata": {
    "id": "FcFwjK-qgFSU"
   },
   "outputs": [],
   "source": [
    "# Define dataset class\n",
    "class LSTMDataset(Dataset):\n",
    "\n",
    "    def __init__(self, data, w2id):\n",
    "        \n",
    "        # Encode abstracts\n",
    "        self.tweets = list(data.cleaned.apply(lambda x: [w2id[w] if w in w2id else 1 for w in x]))\n",
    "        \n",
    "        # Store labels\n",
    "        self.labels = list(data.label)\n",
    "\n",
    "    def __len__(self):\n",
    "        return len(self.labels)\n",
    "\n",
    "    def __getitem__(self, idx):\n",
    "        tweet = self.tweets[idx]\n",
    "        label = self.labels[idx]\n",
    "        return tweet, label"
   ]
  },
  {
   "cell_type": "code",
   "execution_count": null,
   "id": "a9538717",
   "metadata": {
    "id": "3tvK77BqgFPX"
   },
   "outputs": [],
   "source": [
    "# Define collate function\n",
    "def lstm_collate(batch):\n",
    "    \n",
    "    # Store batch size\n",
    "    batch_size = len(batch)\n",
    "\n",
    "    # Separate abstracts and labels\n",
    "    tweets = [t for t, _ in batch]\n",
    "    labels = torch.tensor([l for _, l in batch]).long()\n",
    "\n",
    "    # Store length of longest abstract in batch\n",
    "    max_len = max(len(t) for t in tweets)\n",
    "\n",
    "    # Create padded abstract tensors\n",
    "    tweets_pad = torch.zeros((batch_size, max_len)).long()\n",
    "    for i, t in enumerate(tweets):\n",
    "        tweets_pad[i, :len(t)] = torch.tensor(t)\n",
    "\n",
    "    return tweets_pad, labels"
   ]
  },
  {
   "cell_type": "code",
   "execution_count": null,
   "id": "f400526e",
   "metadata": {
    "id": "N3TNO1tOgFMc"
   },
   "outputs": [],
   "source": [
    "# Define LSTM classifier\n",
    "class LSTMClassifier(nn.Module):\n",
    "    \n",
    "    def __init__(self, pretrained_emb, hidden_dim, output_dim):\n",
    "        \n",
    "        # Define network layers\n",
    "        super(LSTMClassifier, self).__init__()\n",
    "        self.embedding = nn.Embedding.from_pretrained(pretrained_emb, padding_idx=0)\n",
    "        self.lstm = nn.LSTM(pretrained_emb.shape[1], hidden_dim, batch_first=True)\n",
    "        self.linear = nn.Linear(hidden_dim, output_dim)\n",
    "        \n",
    "        # Define dropout\n",
    "        self.dropout = nn.Dropout(0.2)\n",
    "        \n",
    "    def forward(self, tweets):\n",
    "            \n",
    "        # Define flow of tensors through network\n",
    "        emb = self.embedding(tweets)\n",
    "        output, (hidden, cell) = self.lstm(self.dropout(emb))\n",
    "        return self.linear(self.dropout(output[:, -1, :]))"
   ]
  },
  {
   "cell_type": "code",
   "execution_count": null,
   "id": "2e63f2df",
   "metadata": {
    "id": "ExZNK5rdgAXu"
   },
   "outputs": [],
   "source": [
    "# Create dictionary for word look-up\n",
    "word_counter = Counter([w for a in train.cleaned for w in a if w in vecs.keys()])\n",
    "w2id = {w: i + 2 for i, w in enumerate(w for w, c in word_counter.most_common())}\n",
    "\n",
    "# Create dictionary for reverse word look-up\n",
    "id2w = {i: w for w, i in w2id.items()}"
   ]
  },
  {
   "cell_type": "code",
   "execution_count": null,
   "id": "e5b79926",
   "metadata": {
    "id": "-8svfMWygAUS"
   },
   "outputs": [],
   "source": [
    "# Create datasets\n",
    "train_dataset = LSTMDataset(train, w2id)\n",
    "dev_dataset = LSTMDataset(dev, w2id)\n",
    "test_dataset = LSTMDataset(test, w2id)"
   ]
  },
  {
   "cell_type": "code",
   "execution_count": null,
   "id": "19300074",
   "metadata": {
    "id": "xb32Ac64f42w"
   },
   "outputs": [],
   "source": [
    "# Create data loaders\n",
    "batch_size = 100\n",
    "\n",
    "train_loader = DataLoader(train_dataset, batch_size=batch_size, collate_fn=lstm_collate, shuffle=True)\n",
    "dev_loader = DataLoader(dev_dataset, batch_size=batch_size, collate_fn=lstm_collate)\n",
    "test_loader = DataLoader(test_dataset, batch_size=batch_size, collate_fn=lstm_collate)"
   ]
  },
  {
   "cell_type": "code",
   "execution_count": null,
   "id": "df7024fb",
   "metadata": {
    "id": "iF94GsCpJsbn"
   },
   "outputs": [],
   "source": [
    "# Create matrix of pretrained embeddings\n",
    "fasttext_emb = torch.tensor(np.array([vecs[id2w[i]] for i in range(2, len(id2w) + 2)])).float()\n",
    "fasttext_emb = torch.cat((torch.zeros((1, 100)), fasttext_emb.mean(axis=0, keepdim=True), fasttext_emb), axis=0)"
   ]
  },
  {
   "cell_type": "code",
   "execution_count": null,
   "id": "d1cffbb7",
   "metadata": {
    "id": "4hmmK70HJsZI"
   },
   "outputs": [],
   "source": [
    "# Initialize model\n",
    "model = LSTMClassifier(fasttext_emb, hidden_dim = 200, output_dim = 4)"
   ]
  },
  {
   "cell_type": "code",
   "execution_count": null,
   "id": "4ebc5a76",
   "metadata": {
    "id": "88dhakWoKHwU"
   },
   "outputs": [],
   "source": [
    "# Define optimizer and training objective\n",
    "optimizer = optim.Adam(model.parameters(), lr=0.01)\n",
    "criterion = nn.CrossEntropyLoss()"
   ]
  },
  {
   "cell_type": "code",
   "execution_count": null,
   "id": "3317a06a",
   "metadata": {
    "id": "XBnwtzifVWvU"
   },
   "outputs": [],
   "source": [
    "from tqdm import tqdm"
   ]
  },
  {
   "cell_type": "code",
   "execution_count": null,
   "id": "24411523",
   "metadata": {
    "colab": {
     "base_uri": "https://localhost:8080/"
    },
    "id": "6CZN1EicKHqW",
    "outputId": "6a2a6f13-2db7-4841-8637-9e37fc32d78b"
   },
   "outputs": [
    {
     "name": "stderr",
     "output_type": "stream",
     "text": [
      "100%|██████████| 699/699 [00:19<00:00, 36.26it/s]\n"
     ]
    },
    {
     "name": "stdout",
     "output_type": "stream",
     "text": [
      "Development accuracy after 1 epoch(s): 0.68\n"
     ]
    },
    {
     "name": "stderr",
     "output_type": "stream",
     "text": [
      "100%|██████████| 699/699 [00:18<00:00, 37.71it/s]\n"
     ]
    },
    {
     "name": "stdout",
     "output_type": "stream",
     "text": [
      "Development accuracy after 2 epoch(s): 0.70\n"
     ]
    },
    {
     "name": "stderr",
     "output_type": "stream",
     "text": [
      "100%|██████████| 699/699 [00:18<00:00, 36.84it/s]\n"
     ]
    },
    {
     "name": "stdout",
     "output_type": "stream",
     "text": [
      "Development accuracy after 3 epoch(s): 0.70\n"
     ]
    },
    {
     "name": "stderr",
     "output_type": "stream",
     "text": [
      "100%|██████████| 699/699 [00:18<00:00, 37.62it/s]\n"
     ]
    },
    {
     "name": "stdout",
     "output_type": "stream",
     "text": [
      "Development accuracy after 4 epoch(s): 0.70\n"
     ]
    },
    {
     "name": "stderr",
     "output_type": "stream",
     "text": [
      "100%|██████████| 699/699 [00:18<00:00, 37.50it/s]\n"
     ]
    },
    {
     "name": "stdout",
     "output_type": "stream",
     "text": [
      "Development accuracy after 5 epoch(s): 0.71\n"
     ]
    },
    {
     "name": "stderr",
     "output_type": "stream",
     "text": [
      "100%|██████████| 699/699 [00:18<00:00, 37.28it/s]\n"
     ]
    },
    {
     "name": "stdout",
     "output_type": "stream",
     "text": [
      "Development accuracy after 6 epoch(s): 0.71\n"
     ]
    },
    {
     "name": "stderr",
     "output_type": "stream",
     "text": [
      "100%|██████████| 699/699 [00:18<00:00, 37.65it/s]\n"
     ]
    },
    {
     "name": "stdout",
     "output_type": "stream",
     "text": [
      "Development accuracy after 7 epoch(s): 0.71\n"
     ]
    },
    {
     "name": "stderr",
     "output_type": "stream",
     "text": [
      "100%|██████████| 699/699 [00:18<00:00, 37.35it/s]\n"
     ]
    },
    {
     "name": "stdout",
     "output_type": "stream",
     "text": [
      "Development accuracy after 8 epoch(s): 0.71\n"
     ]
    },
    {
     "name": "stderr",
     "output_type": "stream",
     "text": [
      "100%|██████████| 699/699 [00:18<00:00, 38.03it/s]\n"
     ]
    },
    {
     "name": "stdout",
     "output_type": "stream",
     "text": [
      "Development accuracy after 9 epoch(s): 0.71\n"
     ]
    },
    {
     "name": "stderr",
     "output_type": "stream",
     "text": [
      "100%|██████████| 699/699 [00:18<00:00, 37.06it/s]\n"
     ]
    },
    {
     "name": "stdout",
     "output_type": "stream",
     "text": [
      "Development accuracy after 10 epoch(s): 0.72\n"
     ]
    },
    {
     "name": "stderr",
     "output_type": "stream",
     "text": [
      "100%|██████████| 699/699 [00:18<00:00, 37.50it/s]\n"
     ]
    },
    {
     "name": "stdout",
     "output_type": "stream",
     "text": [
      "Development accuracy after 11 epoch(s): 0.71\n"
     ]
    },
    {
     "name": "stderr",
     "output_type": "stream",
     "text": [
      "100%|██████████| 699/699 [00:19<00:00, 36.31it/s]\n"
     ]
    },
    {
     "name": "stdout",
     "output_type": "stream",
     "text": [
      "Development accuracy after 12 epoch(s): 0.72\n"
     ]
    },
    {
     "name": "stderr",
     "output_type": "stream",
     "text": [
      "100%|██████████| 699/699 [00:18<00:00, 37.80it/s]\n"
     ]
    },
    {
     "name": "stdout",
     "output_type": "stream",
     "text": [
      "Development accuracy after 13 epoch(s): 0.71\n"
     ]
    },
    {
     "name": "stderr",
     "output_type": "stream",
     "text": [
      "100%|██████████| 699/699 [00:19<00:00, 36.74it/s]\n"
     ]
    },
    {
     "name": "stdout",
     "output_type": "stream",
     "text": [
      "Development accuracy after 14 epoch(s): 0.71\n"
     ]
    },
    {
     "name": "stderr",
     "output_type": "stream",
     "text": [
      "100%|██████████| 699/699 [00:18<00:00, 37.59it/s]\n"
     ]
    },
    {
     "name": "stdout",
     "output_type": "stream",
     "text": [
      "Development accuracy after 15 epoch(s): 0.72\n"
     ]
    }
   ],
   "source": [
    "# Train model\n",
    "for e in range(1, 16):\n",
    "\n",
    "    model.train()\n",
    "\n",
    "    for i, b in enumerate(tqdm(train_loader)):\n",
    "        \n",
    "        # Perform forward pass\n",
    "        optimizer.zero_grad()\n",
    "        tweets, lbls = [t for t in b]\n",
    "        output = model(tweets)\n",
    "        loss = criterion(output, lbls)\n",
    "        \n",
    "        # Perform backpropagation and update weights\n",
    "        loss.backward()\n",
    "        optimizer.step()\n",
    "\n",
    "    # Evaluate model on development data\n",
    "    model.eval()\n",
    "\n",
    "    y_true = list()\n",
    "    y_pred = list()\n",
    "\n",
    "    with torch.no_grad():\n",
    "        for b in dev_loader:\n",
    "            tweets, lbls = [t for t in b]\n",
    "            output = model(tweets)\n",
    "            max_output = output.argmax(dim=1)\n",
    "            y_true.extend(lbls.tolist())\n",
    "            y_pred.extend(max_output.tolist())\n",
    "            \n",
    "    print('Development accuracy after {} epoch(s): {:.2f}'.format(e, accuracy_score(y_true, y_pred)))"
   ]
  },
  {
   "cell_type": "code",
   "execution_count": null,
   "id": "02fd3a0d",
   "metadata": {
    "id": "BxnrGxBGWVBv"
   },
   "outputs": [],
   "source": [
    "from sklearn.metrics import classification_report, confusion_matrix"
   ]
  },
  {
   "cell_type": "code",
   "execution_count": null,
   "id": "7a278b2c",
   "metadata": {
    "colab": {
     "base_uri": "https://localhost:8080/"
    },
    "id": "tJaz7VtVKHlX",
    "outputId": "38960d27-3a5f-48a8-b5ff-9fb13c4242cd"
   },
   "outputs": [
    {
     "name": "stdout",
     "output_type": "stream",
     "text": [
      "Test accuracy: 0.72\n",
      "              precision    recall  f1-score   support\n",
      "\n",
      "           0       0.00      0.00      0.00       407\n",
      "           1       0.73      0.93      0.81      5058\n",
      "           2       0.74      0.71      0.72      2014\n",
      "           3       0.62      0.15      0.24      1250\n",
      "\n",
      "    accuracy                           0.72      8729\n",
      "   macro avg       0.52      0.45      0.45      8729\n",
      "weighted avg       0.68      0.72      0.67      8729\n",
      "\n",
      "[[   0  235  172    0]\n",
      " [   0 4694  257  107]\n",
      " [   0  566 1440    8]\n",
      " [   0  972   90  188]]\n"
     ]
    },
    {
     "name": "stderr",
     "output_type": "stream",
     "text": [
      "/usr/local/lib/python3.9/dist-packages/sklearn/metrics/_classification.py:1344: UndefinedMetricWarning: Precision and F-score are ill-defined and being set to 0.0 in labels with no predicted samples. Use `zero_division` parameter to control this behavior.\n",
      "  _warn_prf(average, modifier, msg_start, len(result))\n",
      "/usr/local/lib/python3.9/dist-packages/sklearn/metrics/_classification.py:1344: UndefinedMetricWarning: Precision and F-score are ill-defined and being set to 0.0 in labels with no predicted samples. Use `zero_division` parameter to control this behavior.\n",
      "  _warn_prf(average, modifier, msg_start, len(result))\n",
      "/usr/local/lib/python3.9/dist-packages/sklearn/metrics/_classification.py:1344: UndefinedMetricWarning: Precision and F-score are ill-defined and being set to 0.0 in labels with no predicted samples. Use `zero_division` parameter to control this behavior.\n",
      "  _warn_prf(average, modifier, msg_start, len(result))\n"
     ]
    }
   ],
   "source": [
    "# Evaluate model on test data\n",
    "model.eval()\n",
    "\n",
    "y_true = list()\n",
    "y_pred = list()\n",
    "\n",
    "with torch.no_grad():\n",
    "    for b in test_loader:\n",
    "        tweets, lbls = [t for t in b]\n",
    "        output = model(tweets)\n",
    "        max_output = output.argmax(dim=1)\n",
    "        y_true.extend(lbls.tolist())\n",
    "        y_pred.extend(max_output.tolist())\n",
    "\n",
    "print('Test accuracy: {:.2f}'.format(accuracy_score(y_true, y_pred)))\n",
    "print(classification_report(y_true,y_pred))\n",
    "print(confusion_matrix(y_true,y_pred))"
   ]
  },
  {
   "cell_type": "code",
   "execution_count": null,
   "id": "dc26f632",
   "metadata": {
    "id": "y388aP9eKHiB"
   },
   "outputs": [],
   "source": [
    "# Split data into training, development, and test sets\n",
    "train, dev_test = train_test_split(df, test_size=0.2, stratify=df['label'], random_state=0)\n",
    "dev, test = train_test_split(dev_test, test_size=0.5, stratify=dev_test['label'], random_state=0)"
   ]
  },
  {
   "cell_type": "code",
   "execution_count": null,
   "id": "9b1552d4",
   "metadata": {
    "colab": {
     "base_uri": "https://localhost:8080/",
     "height": 419
    },
    "id": "ICYXdvClJsV9",
    "outputId": "06088539-0e13-44fb-db4c-1d115e61756a"
   },
   "outputs": [
    {
     "data": {
      "text/html": [
       "\n",
       "  <div id=\"df-b29632e7-85a2-4d3c-88f0-382cfcbc624f\">\n",
       "    <div class=\"colab-df-container\">\n",
       "      <div>\n",
       "<style scoped>\n",
       "    .dataframe tbody tr th:only-of-type {\n",
       "        vertical-align: middle;\n",
       "    }\n",
       "\n",
       "    .dataframe tbody tr th {\n",
       "        vertical-align: top;\n",
       "    }\n",
       "\n",
       "    .dataframe thead th {\n",
       "        text-align: right;\n",
       "    }\n",
       "</style>\n",
       "<table border=\"1\" class=\"dataframe\">\n",
       "  <thead>\n",
       "    <tr style=\"text-align: right;\">\n",
       "      <th></th>\n",
       "      <th>tweet</th>\n",
       "      <th>label</th>\n",
       "      <th>cleaned</th>\n",
       "      <th>vec</th>\n",
       "    </tr>\n",
       "  </thead>\n",
       "  <tbody>\n",
       "    <tr>\n",
       "      <th>77802</th>\n",
       "      <td>so gis has now learnt how to trot and canter s...</td>\n",
       "      <td>1</td>\n",
       "      <td>[so, gis, has, now, learnt, how, to, trot, and...</td>\n",
       "      <td>[0.09307726, 0.011459598, 0.037373397, -0.0102...</td>\n",
       "    </tr>\n",
       "    <tr>\n",
       "      <th>19695</th>\n",
       "      <td>usr there's literally nothing else to be said ...</td>\n",
       "      <td>1</td>\n",
       "      <td>[usr, there's, literally, nothing, else, to, b...</td>\n",
       "      <td>[0.11274307, 0.023323642, 0.04166504, -0.01504...</td>\n",
       "    </tr>\n",
       "    <tr>\n",
       "      <th>49298</th>\n",
       "      <td>please rt? #moms #babies #parenting #dads cogn...</td>\n",
       "      <td>3</td>\n",
       "      <td>[please, rt?, #moms, #babies, #parenting, #dad...</td>\n",
       "      <td>[0.09264697, 0.0076755006, 0.03841908, -0.0087...</td>\n",
       "    </tr>\n",
       "    <tr>\n",
       "      <th>88118</th>\n",
       "      <td>i pampered myself with trefiel's the pamper cl...</td>\n",
       "      <td>3</td>\n",
       "      <td>[i, pampered, myself, with, trefiel's, the, pa...</td>\n",
       "      <td>[0.080530435, 0.005117874, 0.033886973, -0.006...</td>\n",
       "    </tr>\n",
       "    <tr>\n",
       "      <th>34842</th>\n",
       "      <td>rt usr: la fucking reina url</td>\n",
       "      <td>2</td>\n",
       "      <td>[rt, usr:, la, fucking, reina, url]</td>\n",
       "      <td>[0.16218947, 0.04061074, 0.05832408, -0.024288...</td>\n",
       "    </tr>\n",
       "    <tr>\n",
       "      <th>...</th>\n",
       "      <td>...</td>\n",
       "      <td>...</td>\n",
       "      <td>...</td>\n",
       "      <td>...</td>\n",
       "    </tr>\n",
       "    <tr>\n",
       "      <th>55785</th>\n",
       "      <td>f4499: japanese wooden lacquer ware small dini...</td>\n",
       "      <td>1</td>\n",
       "      <td>[f4499:, japanese, wooden, lacquer, ware, smal...</td>\n",
       "      <td>[0.108665645, 0.018960224, 0.041736055, -0.013...</td>\n",
       "    </tr>\n",
       "    <tr>\n",
       "      <th>80175</th>\n",
       "      <td>#atxgig handyman type needed, housing availabl...</td>\n",
       "      <td>3</td>\n",
       "      <td>[#atxgig, handyman, type, needed,, housing, av...</td>\n",
       "      <td>[0.076918125, 0.0069906013, 0.03158841, -0.007...</td>\n",
       "    </tr>\n",
       "    <tr>\n",
       "      <th>64254</th>\n",
       "      <td>dexta daps releases debut album  intro  for fr...</td>\n",
       "      <td>1</td>\n",
       "      <td>[dexta, daps, releases, debut, album, , intro,...</td>\n",
       "      <td>[0.07884348, 0.0067577246, 0.03268014, -0.0076...</td>\n",
       "    </tr>\n",
       "    <tr>\n",
       "      <th>6042</th>\n",
       "      <td>usr no need to get triggered babe. sometimes y...</td>\n",
       "      <td>1</td>\n",
       "      <td>[usr, no, need, to, get, triggered, babe., som...</td>\n",
       "      <td>[0.11494832, 0.019189008, 0.043759897, -0.0134...</td>\n",
       "    </tr>\n",
       "    <tr>\n",
       "      <th>10082</th>\n",
       "      <td>you can discover the last 20 visits to your pr...</td>\n",
       "      <td>3</td>\n",
       "      <td>[you, can, discover, the, last, 20, visits, to...</td>\n",
       "      <td>[0.097036995, 0.0040866435, 0.041191187, -0.00...</td>\n",
       "    </tr>\n",
       "  </tbody>\n",
       "</table>\n",
       "<p>69828 rows × 4 columns</p>\n",
       "</div>\n",
       "      <button class=\"colab-df-convert\" onclick=\"convertToInteractive('df-b29632e7-85a2-4d3c-88f0-382cfcbc624f')\"\n",
       "              title=\"Convert this dataframe to an interactive table.\"\n",
       "              style=\"display:none;\">\n",
       "        \n",
       "  <svg xmlns=\"http://www.w3.org/2000/svg\" height=\"24px\"viewBox=\"0 0 24 24\"\n",
       "       width=\"24px\">\n",
       "    <path d=\"M0 0h24v24H0V0z\" fill=\"none\"/>\n",
       "    <path d=\"M18.56 5.44l.94 2.06.94-2.06 2.06-.94-2.06-.94-.94-2.06-.94 2.06-2.06.94zm-11 1L8.5 8.5l.94-2.06 2.06-.94-2.06-.94L8.5 2.5l-.94 2.06-2.06.94zm10 10l.94 2.06.94-2.06 2.06-.94-2.06-.94-.94-2.06-.94 2.06-2.06.94z\"/><path d=\"M17.41 7.96l-1.37-1.37c-.4-.4-.92-.59-1.43-.59-.52 0-1.04.2-1.43.59L10.3 9.45l-7.72 7.72c-.78.78-.78 2.05 0 2.83L4 21.41c.39.39.9.59 1.41.59.51 0 1.02-.2 1.41-.59l7.78-7.78 2.81-2.81c.8-.78.8-2.07 0-2.86zM5.41 20L4 18.59l7.72-7.72 1.47 1.35L5.41 20z\"/>\n",
       "  </svg>\n",
       "      </button>\n",
       "      \n",
       "  <style>\n",
       "    .colab-df-container {\n",
       "      display:flex;\n",
       "      flex-wrap:wrap;\n",
       "      gap: 12px;\n",
       "    }\n",
       "\n",
       "    .colab-df-convert {\n",
       "      background-color: #E8F0FE;\n",
       "      border: none;\n",
       "      border-radius: 50%;\n",
       "      cursor: pointer;\n",
       "      display: none;\n",
       "      fill: #1967D2;\n",
       "      height: 32px;\n",
       "      padding: 0 0 0 0;\n",
       "      width: 32px;\n",
       "    }\n",
       "\n",
       "    .colab-df-convert:hover {\n",
       "      background-color: #E2EBFA;\n",
       "      box-shadow: 0px 1px 2px rgba(60, 64, 67, 0.3), 0px 1px 3px 1px rgba(60, 64, 67, 0.15);\n",
       "      fill: #174EA6;\n",
       "    }\n",
       "\n",
       "    [theme=dark] .colab-df-convert {\n",
       "      background-color: #3B4455;\n",
       "      fill: #D2E3FC;\n",
       "    }\n",
       "\n",
       "    [theme=dark] .colab-df-convert:hover {\n",
       "      background-color: #434B5C;\n",
       "      box-shadow: 0px 1px 3px 1px rgba(0, 0, 0, 0.15);\n",
       "      filter: drop-shadow(0px 1px 2px rgba(0, 0, 0, 0.3));\n",
       "      fill: #FFFFFF;\n",
       "    }\n",
       "  </style>\n",
       "\n",
       "      <script>\n",
       "        const buttonEl =\n",
       "          document.querySelector('#df-b29632e7-85a2-4d3c-88f0-382cfcbc624f button.colab-df-convert');\n",
       "        buttonEl.style.display =\n",
       "          google.colab.kernel.accessAllowed ? 'block' : 'none';\n",
       "\n",
       "        async function convertToInteractive(key) {\n",
       "          const element = document.querySelector('#df-b29632e7-85a2-4d3c-88f0-382cfcbc624f');\n",
       "          const dataTable =\n",
       "            await google.colab.kernel.invokeFunction('convertToInteractive',\n",
       "                                                     [key], {});\n",
       "          if (!dataTable) return;\n",
       "\n",
       "          const docLinkHtml = 'Like what you see? Visit the ' +\n",
       "            '<a target=\"_blank\" href=https://colab.research.google.com/notebooks/data_table.ipynb>data table notebook</a>'\n",
       "            + ' to learn more about interactive tables.';\n",
       "          element.innerHTML = '';\n",
       "          dataTable['output_type'] = 'display_data';\n",
       "          await google.colab.output.renderOutput(dataTable, element);\n",
       "          const docLink = document.createElement('div');\n",
       "          docLink.innerHTML = docLinkHtml;\n",
       "          element.appendChild(docLink);\n",
       "        }\n",
       "      </script>\n",
       "    </div>\n",
       "  </div>\n",
       "  "
      ],
      "text/plain": [
       "                                                   tweet  label  \\\n",
       "77802  so gis has now learnt how to trot and canter s...      1   \n",
       "19695  usr there's literally nothing else to be said ...      1   \n",
       "49298  please rt? #moms #babies #parenting #dads cogn...      3   \n",
       "88118  i pampered myself with trefiel's the pamper cl...      3   \n",
       "34842                       rt usr: la fucking reina url      2   \n",
       "...                                                  ...    ...   \n",
       "55785  f4499: japanese wooden lacquer ware small dini...      1   \n",
       "80175  #atxgig handyman type needed, housing availabl...      3   \n",
       "64254  dexta daps releases debut album  intro  for fr...      1   \n",
       "6042   usr no need to get triggered babe. sometimes y...      1   \n",
       "10082  you can discover the last 20 visits to your pr...      3   \n",
       "\n",
       "                                                 cleaned  \\\n",
       "77802  [so, gis, has, now, learnt, how, to, trot, and...   \n",
       "19695  [usr, there's, literally, nothing, else, to, b...   \n",
       "49298  [please, rt?, #moms, #babies, #parenting, #dad...   \n",
       "88118  [i, pampered, myself, with, trefiel's, the, pa...   \n",
       "34842                [rt, usr:, la, fucking, reina, url]   \n",
       "...                                                  ...   \n",
       "55785  [f4499:, japanese, wooden, lacquer, ware, smal...   \n",
       "80175  [#atxgig, handyman, type, needed,, housing, av...   \n",
       "64254  [dexta, daps, releases, debut, album, , intro,...   \n",
       "6042   [usr, no, need, to, get, triggered, babe., som...   \n",
       "10082  [you, can, discover, the, last, 20, visits, to...   \n",
       "\n",
       "                                                     vec  \n",
       "77802  [0.09307726, 0.011459598, 0.037373397, -0.0102...  \n",
       "19695  [0.11274307, 0.023323642, 0.04166504, -0.01504...  \n",
       "49298  [0.09264697, 0.0076755006, 0.03841908, -0.0087...  \n",
       "88118  [0.080530435, 0.005117874, 0.033886973, -0.006...  \n",
       "34842  [0.16218947, 0.04061074, 0.05832408, -0.024288...  \n",
       "...                                                  ...  \n",
       "55785  [0.108665645, 0.018960224, 0.041736055, -0.013...  \n",
       "80175  [0.076918125, 0.0069906013, 0.03158841, -0.007...  \n",
       "64254  [0.07884348, 0.0067577246, 0.03268014, -0.0076...  \n",
       "6042   [0.11494832, 0.019189008, 0.043759897, -0.0134...  \n",
       "10082  [0.097036995, 0.0040866435, 0.041191187, -0.00...  \n",
       "\n",
       "[69828 rows x 4 columns]"
      ]
     },
     "execution_count": 41,
     "metadata": {},
     "output_type": "execute_result"
    }
   ],
   "source": [
    "train"
   ]
  },
  {
   "cell_type": "code",
   "execution_count": null,
   "id": "0756ac5a",
   "metadata": {
    "id": "ed0PbiT9Yrj1"
   },
   "outputs": [],
   "source": [
    "X_train = train['vec']\n",
    "y_train = train['label']"
   ]
  },
  {
   "cell_type": "code",
   "execution_count": null,
   "id": "a7ef0b23",
   "metadata": {
    "id": "WkGbTY-DZX46"
   },
   "outputs": [],
   "source": [
    "import pandas as pd\n",
    "\n",
    "# Convert labels to integers starting from 0\n",
    "y_train = pd.Series(y_train).astype('category').cat.codes\n"
   ]
  },
  {
   "cell_type": "code",
   "execution_count": null,
   "id": "f46170a5",
   "metadata": {
    "colab": {
     "base_uri": "https://localhost:8080/"
    },
    "id": "8t65EPIAcFwF",
    "outputId": "5549720a-fc40-49f7-8483-32dccd9bf291"
   },
   "outputs": [
    {
     "name": "stdout",
     "output_type": "stream",
     "text": [
      "Classification accuracy: 76.97%\n",
      "[[   9  372  396    9]\n",
      " [  27 8660  486 1083]\n",
      " [   9  461 3449   35]\n",
      " [   4  992  147 1319]]\n",
      "              precision    recall  f1-score   support\n",
      "\n",
      "           0       0.18      0.01      0.02       786\n",
      "           1       0.83      0.84      0.84     10256\n",
      "           2       0.77      0.87      0.82      3954\n",
      "           3       0.54      0.54      0.54      2462\n",
      "\n",
      "    accuracy                           0.77     17458\n",
      "   macro avg       0.58      0.57      0.55     17458\n",
      "weighted avg       0.74      0.77      0.75     17458\n",
      "\n"
     ]
    }
   ],
   "source": [
    "import pandas as pd\n",
    "from sklearn.feature_extraction.text import CountVectorizer\n",
    "from sklearn.naive_bayes import MultinomialNB\n",
    "from sklearn.model_selection import train_test_split\n",
    "from sklearn.metrics import confusion_matrix, classification_report\n",
    "\n",
    "\n",
    "# Convert the 'cleaned' column to a list of strings\n",
    "documents = df['tweet']\n",
    "\n",
    "# Create the bag-of-words embedding\n",
    "vectorizer = CountVectorizer()\n",
    "X = vectorizer.fit_transform(documents)\n",
    "y = df['label'].values\n",
    "\n",
    "# Split the dataset into train and test sets\n",
    "X_train, X_test, y_train, y_test = train_test_split(X, y, test_size=0.2, random_state=42)\n",
    "\n",
    "# Train a Multinomial Naive Bayes classifier on the train set\n",
    "clf = MultinomialNB()\n",
    "clf.fit(X_train, y_train)\n",
    "\n",
    "# Predict the labels for the test set\n",
    "y_pred = clf.predict(X_test)\n",
    "\n",
    "# Evaluate the classifier on the test set\n",
    "accuracy = clf.score(X_test, y_test)\n",
    "print(\"Classification accuracy: {:.2f}%\".format(accuracy * 100))\n",
    "print(confusion_matrix(y_test,y_pred))\n",
    "print(classification_report(y_test,y_pred))"
   ]
  },
  {
   "cell_type": "code",
   "execution_count": null,
   "id": "9dc8afc3",
   "metadata": {
    "id": "E3lDZQPYYDpV"
   },
   "outputs": [],
   "source": [
    "from sklearn.pipeline import Pipeline"
   ]
  },
  {
   "cell_type": "code",
   "execution_count": null,
   "id": "56d1dedb",
   "metadata": {
    "id": "Z_g_dLtvYenB"
   },
   "outputs": [],
   "source": [
    "import numpy as np"
   ]
  },
  {
   "cell_type": "code",
   "execution_count": null,
   "id": "1aabe324",
   "metadata": {
    "id": "sut2FbqIYbUB"
   },
   "outputs": [],
   "source": [
    "X_train = X_train.todense() "
   ]
  },
  {
   "cell_type": "code",
   "execution_count": null,
   "id": "a1e6d205",
   "metadata": {
    "id": "76tfqvMZZHQl"
   },
   "outputs": [],
   "source": [
    "X_test = X_test.todense() "
   ]
  },
  {
   "cell_type": "code",
   "execution_count": null,
   "id": "e57f13ed",
   "metadata": {
    "id": "cm62re6fYrIu"
   },
   "outputs": [],
   "source": [
    "X_train = np.asarray(X_train)"
   ]
  },
  {
   "cell_type": "code",
   "execution_count": null,
   "id": "40ff9812",
   "metadata": {
    "id": "v1sh84PFZHqM"
   },
   "outputs": [],
   "source": [
    "X_test = np.asarray(X_test)"
   ]
  },
  {
   "cell_type": "code",
   "execution_count": null,
   "id": "4766db5d",
   "metadata": {
    "colab": {
     "base_uri": "https://localhost:8080/",
     "height": 124
    },
    "id": "G5eQkpIOXbVu",
    "outputId": "12179416-2f85-4ca5-9ef9-ae05aa9da69f"
   },
   "outputs": [
    {
     "data": {
      "text/html": [
       "<style>#sk-container-id-2 {color: black;background-color: white;}#sk-container-id-2 pre{padding: 0;}#sk-container-id-2 div.sk-toggleable {background-color: white;}#sk-container-id-2 label.sk-toggleable__label {cursor: pointer;display: block;width: 100%;margin-bottom: 0;padding: 0.3em;box-sizing: border-box;text-align: center;}#sk-container-id-2 label.sk-toggleable__label-arrow:before {content: \"▸\";float: left;margin-right: 0.25em;color: #696969;}#sk-container-id-2 label.sk-toggleable__label-arrow:hover:before {color: black;}#sk-container-id-2 div.sk-estimator:hover label.sk-toggleable__label-arrow:before {color: black;}#sk-container-id-2 div.sk-toggleable__content {max-height: 0;max-width: 0;overflow: hidden;text-align: left;background-color: #f0f8ff;}#sk-container-id-2 div.sk-toggleable__content pre {margin: 0.2em;color: black;border-radius: 0.25em;background-color: #f0f8ff;}#sk-container-id-2 input.sk-toggleable__control:checked~div.sk-toggleable__content {max-height: 200px;max-width: 100%;overflow: auto;}#sk-container-id-2 input.sk-toggleable__control:checked~label.sk-toggleable__label-arrow:before {content: \"▾\";}#sk-container-id-2 div.sk-estimator input.sk-toggleable__control:checked~label.sk-toggleable__label {background-color: #d4ebff;}#sk-container-id-2 div.sk-label input.sk-toggleable__control:checked~label.sk-toggleable__label {background-color: #d4ebff;}#sk-container-id-2 input.sk-hidden--visually {border: 0;clip: rect(1px 1px 1px 1px);clip: rect(1px, 1px, 1px, 1px);height: 1px;margin: -1px;overflow: hidden;padding: 0;position: absolute;width: 1px;}#sk-container-id-2 div.sk-estimator {font-family: monospace;background-color: #f0f8ff;border: 1px dotted black;border-radius: 0.25em;box-sizing: border-box;margin-bottom: 0.5em;}#sk-container-id-2 div.sk-estimator:hover {background-color: #d4ebff;}#sk-container-id-2 div.sk-parallel-item::after {content: \"\";width: 100%;border-bottom: 1px solid gray;flex-grow: 1;}#sk-container-id-2 div.sk-label:hover label.sk-toggleable__label {background-color: #d4ebff;}#sk-container-id-2 div.sk-serial::before {content: \"\";position: absolute;border-left: 1px solid gray;box-sizing: border-box;top: 0;bottom: 0;left: 50%;z-index: 0;}#sk-container-id-2 div.sk-serial {display: flex;flex-direction: column;align-items: center;background-color: white;padding-right: 0.2em;padding-left: 0.2em;position: relative;}#sk-container-id-2 div.sk-item {position: relative;z-index: 1;}#sk-container-id-2 div.sk-parallel {display: flex;align-items: stretch;justify-content: center;background-color: white;position: relative;}#sk-container-id-2 div.sk-item::before, #sk-container-id-2 div.sk-parallel-item::before {content: \"\";position: absolute;border-left: 1px solid gray;box-sizing: border-box;top: 0;bottom: 0;left: 50%;z-index: -1;}#sk-container-id-2 div.sk-parallel-item {display: flex;flex-direction: column;z-index: 1;position: relative;background-color: white;}#sk-container-id-2 div.sk-parallel-item:first-child::after {align-self: flex-end;width: 50%;}#sk-container-id-2 div.sk-parallel-item:last-child::after {align-self: flex-start;width: 50%;}#sk-container-id-2 div.sk-parallel-item:only-child::after {width: 0;}#sk-container-id-2 div.sk-dashed-wrapped {border: 1px dashed gray;margin: 0 0.4em 0.5em 0.4em;box-sizing: border-box;padding-bottom: 0.4em;background-color: white;}#sk-container-id-2 div.sk-label label {font-family: monospace;font-weight: bold;display: inline-block;line-height: 1.2em;}#sk-container-id-2 div.sk-label-container {text-align: center;}#sk-container-id-2 div.sk-container {/* jupyter's `normalize.less` sets `[hidden] { display: none; }` but bootstrap.min.css set `[hidden] { display: none !important; }` so we also need the `!important` here to be able to override the default hidden behavior on the sphinx rendered scikit-learn.org. See: https://github.com/scikit-learn/scikit-learn/issues/21755 */display: inline-block !important;position: relative;}#sk-container-id-2 div.sk-text-repr-fallback {display: none;}</style><div id=\"sk-container-id-2\" class=\"sk-top-container\"><div class=\"sk-text-repr-fallback\"><pre>Pipeline(steps=[(&#x27;Normalizing&#x27;, MinMaxScaler()),\n",
       "                (&#x27;MultinomialNB&#x27;, MultinomialNB())])</pre><b>In a Jupyter environment, please rerun this cell to show the HTML representation or trust the notebook. <br />On GitHub, the HTML representation is unable to render, please try loading this page with nbviewer.org.</b></div><div class=\"sk-container\" hidden><div class=\"sk-item sk-dashed-wrapped\"><div class=\"sk-label-container\"><div class=\"sk-label sk-toggleable\"><input class=\"sk-toggleable__control sk-hidden--visually\" id=\"sk-estimator-id-4\" type=\"checkbox\" ><label for=\"sk-estimator-id-4\" class=\"sk-toggleable__label sk-toggleable__label-arrow\">Pipeline</label><div class=\"sk-toggleable__content\"><pre>Pipeline(steps=[(&#x27;Normalizing&#x27;, MinMaxScaler()),\n",
       "                (&#x27;MultinomialNB&#x27;, MultinomialNB())])</pre></div></div></div><div class=\"sk-serial\"><div class=\"sk-item\"><div class=\"sk-estimator sk-toggleable\"><input class=\"sk-toggleable__control sk-hidden--visually\" id=\"sk-estimator-id-5\" type=\"checkbox\" ><label for=\"sk-estimator-id-5\" class=\"sk-toggleable__label sk-toggleable__label-arrow\">MinMaxScaler</label><div class=\"sk-toggleable__content\"><pre>MinMaxScaler()</pre></div></div></div><div class=\"sk-item\"><div class=\"sk-estimator sk-toggleable\"><input class=\"sk-toggleable__control sk-hidden--visually\" id=\"sk-estimator-id-6\" type=\"checkbox\" ><label for=\"sk-estimator-id-6\" class=\"sk-toggleable__label sk-toggleable__label-arrow\">MultinomialNB</label><div class=\"sk-toggleable__content\"><pre>MultinomialNB()</pre></div></div></div></div></div></div></div>"
      ],
      "text/plain": [
       "Pipeline(steps=[('Normalizing', MinMaxScaler()),\n",
       "                ('MultinomialNB', MultinomialNB())])"
      ]
     },
     "execution_count": 39,
     "metadata": {},
     "output_type": "execute_result"
    }
   ],
   "source": [
    "from sklearn.preprocessing import MinMaxScaler\n",
    "p = Pipeline([('Normalizing',MinMaxScaler()),('MultinomialNB',MultinomialNB())])\n",
    "p.fit(X_train,y_train) "
   ]
  },
  {
   "cell_type": "code",
   "execution_count": null,
   "id": "df609007",
   "metadata": {
    "colab": {
     "base_uri": "https://localhost:8080/"
    },
    "id": "MmwXIjOXXfbK",
    "outputId": "860b13fa-a9da-4cbd-c0c5-80f0ae5815be"
   },
   "outputs": [
    {
     "name": "stdout",
     "output_type": "stream",
     "text": [
      "[[   4  460  317    5]\n",
      " [  18 9003  525  710]\n",
      " [   7 1409 2508   30]\n",
      " [   3 1310  162  987]]\n",
      "              precision    recall  f1-score   support\n",
      "\n",
      "           0       0.12      0.01      0.01       786\n",
      "           1       0.74      0.88      0.80     10256\n",
      "           2       0.71      0.63      0.67      3954\n",
      "           3       0.57      0.40      0.47      2462\n",
      "\n",
      "    accuracy                           0.72     17458\n",
      "   macro avg       0.54      0.48      0.49     17458\n",
      "weighted avg       0.68      0.72      0.69     17458\n",
      "\n"
     ]
    }
   ],
   "source": [
    "y_pred_mnb = p.predict(X_test)\n",
    "\n",
    "# Evaluate the classifier on the test set\n",
    "print(confusion_matrix(y_test,y_pred_mnb))\n",
    "print(classification_report(y_test,y_pred_mnb))"
   ]
  },
  {
   "cell_type": "code",
   "execution_count": 47,
   "id": "dd18f00c",
   "metadata": {
    "id": "P02sV4GxcaKj"
   },
   "outputs": [],
   "source": [
    "# Load relevant packages\n",
    "\n",
    "import pandas as pd\n",
    "import numpy as np\n",
    "import re\n",
    "import csv\n",
    "import operator\n",
    "import random\n",
    "import pickle\n",
    "\n",
    "from sklearn.model_selection import train_test_split\n",
    "from sklearn.metrics import classification_report, f1_score\n",
    "from matplotlib import pyplot as plt\n",
    "from collections import defaultdict, Counter"
   ]
  },
  {
   "cell_type": "code",
   "execution_count": 89,
   "id": "66a7ab17",
   "metadata": {
    "id": "lds6K_5rTFTn"
   },
   "outputs": [],
   "source": [
    "df = pd.read_csv(\"founta2018_formative2.csv\")"
   ]
  },
  {
   "cell_type": "code",
   "execution_count": 90,
   "id": "02f79c59",
   "metadata": {
    "colab": {
     "base_uri": "https://localhost:8080/",
     "height": 204
    },
    "id": "SxjPIYtVcYal",
    "outputId": "b8918b0e-cd53-41e1-bb61-867c8b513d07"
   },
   "outputs": [
    {
     "data": {
      "text/html": [
       "\n",
       "  <div id=\"df-f5165e09-3cfe-4015-bb9a-d23fc7cf011d\">\n",
       "    <div class=\"colab-df-container\">\n",
       "      <div>\n",
       "<style scoped>\n",
       "    .dataframe tbody tr th:only-of-type {\n",
       "        vertical-align: middle;\n",
       "    }\n",
       "\n",
       "    .dataframe tbody tr th {\n",
       "        vertical-align: top;\n",
       "    }\n",
       "\n",
       "    .dataframe thead th {\n",
       "        text-align: right;\n",
       "    }\n",
       "</style>\n",
       "<table border=\"1\" class=\"dataframe\">\n",
       "  <thead>\n",
       "    <tr style=\"text-align: right;\">\n",
       "      <th></th>\n",
       "      <th>tweet</th>\n",
       "      <th>label</th>\n",
       "    </tr>\n",
       "  </thead>\n",
       "  <tbody>\n",
       "    <tr>\n",
       "      <th>42083</th>\n",
       "      <td>MK Dons Boss Robbie Neilson Hails Leicester Yo...</td>\n",
       "      <td>normal</td>\n",
       "    </tr>\n",
       "    <tr>\n",
       "      <th>72731</th>\n",
       "      <td>EXO's Sehun shares future plans for upcoming s...</td>\n",
       "      <td>normal</td>\n",
       "    </tr>\n",
       "    <tr>\n",
       "      <th>71150</th>\n",
       "      <td>What if I've recharged my number with 303 on 2...</td>\n",
       "      <td>normal</td>\n",
       "    </tr>\n",
       "    <tr>\n",
       "      <th>50169</th>\n",
       "      <td>Nice Move-in ready House with great views in w...</td>\n",
       "      <td>spam</td>\n",
       "    </tr>\n",
       "    <tr>\n",
       "      <th>36734</th>\n",
       "      <td>I wish I was an ear. They literally need to ea...</td>\n",
       "      <td>normal</td>\n",
       "    </tr>\n",
       "  </tbody>\n",
       "</table>\n",
       "</div>\n",
       "      <button class=\"colab-df-convert\" onclick=\"convertToInteractive('df-f5165e09-3cfe-4015-bb9a-d23fc7cf011d')\"\n",
       "              title=\"Convert this dataframe to an interactive table.\"\n",
       "              style=\"display:none;\">\n",
       "        \n",
       "  <svg xmlns=\"http://www.w3.org/2000/svg\" height=\"24px\"viewBox=\"0 0 24 24\"\n",
       "       width=\"24px\">\n",
       "    <path d=\"M0 0h24v24H0V0z\" fill=\"none\"/>\n",
       "    <path d=\"M18.56 5.44l.94 2.06.94-2.06 2.06-.94-2.06-.94-.94-2.06-.94 2.06-2.06.94zm-11 1L8.5 8.5l.94-2.06 2.06-.94-2.06-.94L8.5 2.5l-.94 2.06-2.06.94zm10 10l.94 2.06.94-2.06 2.06-.94-2.06-.94-.94-2.06-.94 2.06-2.06.94z\"/><path d=\"M17.41 7.96l-1.37-1.37c-.4-.4-.92-.59-1.43-.59-.52 0-1.04.2-1.43.59L10.3 9.45l-7.72 7.72c-.78.78-.78 2.05 0 2.83L4 21.41c.39.39.9.59 1.41.59.51 0 1.02-.2 1.41-.59l7.78-7.78 2.81-2.81c.8-.78.8-2.07 0-2.86zM5.41 20L4 18.59l7.72-7.72 1.47 1.35L5.41 20z\"/>\n",
       "  </svg>\n",
       "      </button>\n",
       "      \n",
       "  <style>\n",
       "    .colab-df-container {\n",
       "      display:flex;\n",
       "      flex-wrap:wrap;\n",
       "      gap: 12px;\n",
       "    }\n",
       "\n",
       "    .colab-df-convert {\n",
       "      background-color: #E8F0FE;\n",
       "      border: none;\n",
       "      border-radius: 50%;\n",
       "      cursor: pointer;\n",
       "      display: none;\n",
       "      fill: #1967D2;\n",
       "      height: 32px;\n",
       "      padding: 0 0 0 0;\n",
       "      width: 32px;\n",
       "    }\n",
       "\n",
       "    .colab-df-convert:hover {\n",
       "      background-color: #E2EBFA;\n",
       "      box-shadow: 0px 1px 2px rgba(60, 64, 67, 0.3), 0px 1px 3px 1px rgba(60, 64, 67, 0.15);\n",
       "      fill: #174EA6;\n",
       "    }\n",
       "\n",
       "    [theme=dark] .colab-df-convert {\n",
       "      background-color: #3B4455;\n",
       "      fill: #D2E3FC;\n",
       "    }\n",
       "\n",
       "    [theme=dark] .colab-df-convert:hover {\n",
       "      background-color: #434B5C;\n",
       "      box-shadow: 0px 1px 3px 1px rgba(0, 0, 0, 0.15);\n",
       "      filter: drop-shadow(0px 1px 2px rgba(0, 0, 0, 0.3));\n",
       "      fill: #FFFFFF;\n",
       "    }\n",
       "  </style>\n",
       "\n",
       "      <script>\n",
       "        const buttonEl =\n",
       "          document.querySelector('#df-f5165e09-3cfe-4015-bb9a-d23fc7cf011d button.colab-df-convert');\n",
       "        buttonEl.style.display =\n",
       "          google.colab.kernel.accessAllowed ? 'block' : 'none';\n",
       "\n",
       "        async function convertToInteractive(key) {\n",
       "          const element = document.querySelector('#df-f5165e09-3cfe-4015-bb9a-d23fc7cf011d');\n",
       "          const dataTable =\n",
       "            await google.colab.kernel.invokeFunction('convertToInteractive',\n",
       "                                                     [key], {});\n",
       "          if (!dataTable) return;\n",
       "\n",
       "          const docLinkHtml = 'Like what you see? Visit the ' +\n",
       "            '<a target=\"_blank\" href=https://colab.research.google.com/notebooks/data_table.ipynb>data table notebook</a>'\n",
       "            + ' to learn more about interactive tables.';\n",
       "          element.innerHTML = '';\n",
       "          dataTable['output_type'] = 'display_data';\n",
       "          await google.colab.output.renderOutput(dataTable, element);\n",
       "          const docLink = document.createElement('div');\n",
       "          docLink.innerHTML = docLinkHtml;\n",
       "          element.appendChild(docLink);\n",
       "        }\n",
       "      </script>\n",
       "    </div>\n",
       "  </div>\n",
       "  "
      ],
      "text/plain": [
       "                                                   tweet   label\n",
       "42083  MK Dons Boss Robbie Neilson Hails Leicester Yo...  normal\n",
       "72731  EXO's Sehun shares future plans for upcoming s...  normal\n",
       "71150  What if I've recharged my number with 303 on 2...  normal\n",
       "50169  Nice Move-in ready House with great views in w...    spam\n",
       "36734  I wish I was an ear. They literally need to ea...  normal"
      ]
     },
     "execution_count": 90,
     "metadata": {},
     "output_type": "execute_result"
    }
   ],
   "source": [
    "df.sample(5, random_state = 123)"
   ]
  },
  {
   "cell_type": "code",
   "execution_count": 91,
   "id": "591919ae",
   "metadata": {
    "id": "zAt1bWzMcja1"
   },
   "outputs": [],
   "source": [
    "def clean_text(text):\n",
    "\n",
    "    #replace mentions and URLs with special token\n",
    "       text = re.sub(r\"@[A-Za-z0-9_-]+\",'USR',text)\n",
    "       text = re.sub(r\"http\\S+\",'URL',text)\n",
    "    \n",
    "    # remove newline and tab characters\n",
    "       text = text.replace('\\n',' ')\n",
    "       text = text.replace('\\t',' ')\n",
    "       text = text.replace('rt', ' ')\n",
    "\n",
    "       text = re.sub(r'[^\\x00-\\x7F]+', ' ', text)\n",
    "    \n",
    "    # strip whitespace\n",
    "       text = text.strip()\n",
    "    \n",
    "    # lowercase\n",
    "       text = text.lower()\n",
    "    \n",
    "       return text"
   ]
  },
  {
   "cell_type": "code",
   "execution_count": 92,
   "id": "e3b38c67",
   "metadata": {
    "id": "dyNBSG0UmUHB"
   },
   "outputs": [],
   "source": [
    "# Clean tweets\n",
    "df[\"tweet\"] = df.tweet.apply(lambda x: clean_text(x))"
   ]
  },
  {
   "cell_type": "code",
   "execution_count": 93,
   "id": "bcf2743b",
   "metadata": {
    "colab": {
     "base_uri": "https://localhost:8080/"
    },
    "id": "x_z8HrVZcwYR",
    "outputId": "652b5e7d-b10a-43b0-db52-96a247cc4a9b"
   },
   "outputs": [
    {
     "name": "stdout",
     "output_type": "stream",
     "text": [
      "99996 posts, of which 12710 were dropped for being duplicates.\n",
      "87286 posts remain. \n",
      "\n"
     ]
    }
   ],
   "source": [
    "def drop_dupl(df):\n",
    "\n",
    "    # save number of documents before dropping duplicates\n",
    "    n_docs = df.shape[0]\n",
    "\n",
    "    # drop duplicates\n",
    "    df.drop_duplicates(subset = ['tweet'], inplace=True)\n",
    "\n",
    "    print(f'{n_docs} posts, of which {n_docs - df.shape[0]} were dropped for being duplicates.')\n",
    "    print(f'{df.shape[0]} posts remain. \\n')\n",
    "    \n",
    "    return df\n",
    "\n",
    "df = drop_dupl(df)"
   ]
  },
  {
   "cell_type": "code",
   "execution_count": null,
   "id": "53b4e4b5",
   "metadata": {
    "id": "gPuTkBgDd-j7"
   },
   "outputs": [],
   "source": [
    "with open('FastTextDictionary.pickle', 'rb') as handle:\n",
    "    FastText = pickle.load(handle)"
   ]
  },
  {
   "cell_type": "code",
   "execution_count": 94,
   "id": "d1024c0a",
   "metadata": {
    "id": "kdBT6EaAm_AO"
   },
   "outputs": [],
   "source": [
    "def lis(text):\n",
    "  return text.split(' ')"
   ]
  },
  {
   "cell_type": "code",
   "execution_count": 95,
   "id": "25d42973",
   "metadata": {
    "id": "b1XyCKt2nwPb"
   },
   "outputs": [],
   "source": [
    "df['cleaned'] = df.tweet.apply(lis)"
   ]
  },
  {
   "cell_type": "code",
   "execution_count": 66,
   "id": "043c77ff",
   "metadata": {
    "id": "gOeE2x2Hc_Rr"
   },
   "outputs": [],
   "source": [
    "df.label.replace({\"hateful\":\"hateful\",\"abusive\": \"non-hateful\", \"normal\": \"non-hateful\", \"spam\": \"non-hateful\"}, inplace = True)"
   ]
  },
  {
   "cell_type": "code",
   "execution_count": 67,
   "id": "37efda2c",
   "metadata": {
    "colab": {
     "base_uri": "https://localhost:8080/"
    },
    "id": "q7EQ5LKLdefK",
    "outputId": "c7b500cd-bb81-4897-b84a-0be9fbe43dc1"
   },
   "outputs": [
    {
     "name": "stdout",
     "output_type": "stream",
     "text": [
      "87286 entries in the dataset\n",
      "83219 total entries labelled as non-hateful; 4.66% of total entries labelled as hateful\n",
      "\n"
     ]
    }
   ],
   "source": [
    "n_toxic = df[df.label==\"non-hateful\"].shape[0]\n",
    "prop_toxic = df[df.label==\"hateful\"].shape[0]/df.shape[0]\n",
    "\n",
    "print(f\"{df.shape[0]} entries in the dataset\")\n",
    "print(\"{} total entries labelled as non-hateful; {:.2%} of total entries labelled as hateful\\n\".format(n_toxic, prop_toxic)) "
   ]
  },
  {
   "cell_type": "code",
   "execution_count": 68,
   "id": "f2d70969",
   "metadata": {
    "id": "cXQIQBgZU1st"
   },
   "outputs": [],
   "source": [
    "df2 = df[df['label']==\"hateful\"]\n",
    "df3 = pd.concat([df,df2])"
   ]
  },
  {
   "cell_type": "code",
   "execution_count": 69,
   "id": "20dca024",
   "metadata": {
    "id": "MA2XbIhnU-rQ"
   },
   "outputs": [],
   "source": [
    "df= pd.concat([df3,df2])"
   ]
  },
  {
   "cell_type": "code",
   "execution_count": 70,
   "id": "b385c9b2",
   "metadata": {
    "id": "lmV7cOM2oY8T"
   },
   "outputs": [],
   "source": [
    "df4 = df[df['label'] == \"non-hateful\"].sample(30000)\n",
    "df4 = df4.reset_index()"
   ]
  },
  {
   "cell_type": "code",
   "execution_count": 71,
   "id": "a80b3dd0",
   "metadata": {
    "id": "89MhbfZQoY29"
   },
   "outputs": [],
   "source": [
    "drop_list = [i for i in df4['index']]"
   ]
  },
  {
   "cell_type": "code",
   "execution_count": 72,
   "id": "baf1b6b8",
   "metadata": {
    "id": "Jw0WYI5PoYt5"
   },
   "outputs": [],
   "source": [
    "df = df.drop(drop_list, axis = 0)"
   ]
  },
  {
   "cell_type": "code",
   "execution_count": 73,
   "id": "2d0f1953",
   "metadata": {
    "colab": {
     "base_uri": "https://localhost:8080/"
    },
    "id": "UJXzXg5vpIZG",
    "outputId": "1b6c755f-392d-46a5-adbd-be9f234362f7"
   },
   "outputs": [
    {
     "data": {
      "text/plain": [
       "65420"
      ]
     },
     "execution_count": 73,
     "metadata": {},
     "output_type": "execute_result"
    }
   ],
   "source": [
    "len(df)"
   ]
  },
  {
   "cell_type": "code",
   "execution_count": 74,
   "id": "7539b42c",
   "metadata": {
    "colab": {
     "base_uri": "https://localhost:8080/"
    },
    "id": "tm035tHVpNjK",
    "outputId": "8a4b72cc-7158-491b-c073-54b4418556f9"
   },
   "outputs": [
    {
     "name": "stdout",
     "output_type": "stream",
     "text": [
      "65420 entries in the dataset\n",
      "53219 total entries labelled as toxic; 18.65% of total entries labelled as toxic\n",
      "\n"
     ]
    }
   ],
   "source": [
    "n_toxic = df[df.label==\"non-hateful\"].shape[0]\n",
    "prop_toxic = df[df.label==\"hateful\"].shape[0]/df.shape[0]\n",
    "\n",
    "print(f\"{df.shape[0]} entries in the dataset\")\n",
    "print(\"{} total entries labelled as toxic; {:.2%} of total entries labelled as toxic\\n\".format(n_toxic, prop_toxic)) "
   ]
  },
  {
   "cell_type": "code",
   "execution_count": 75,
   "id": "b3dec90b",
   "metadata": {
    "colab": {
     "base_uri": "https://localhost:8080/",
     "height": 204
    },
    "id": "fDUkh92MoO7G",
    "outputId": "613af361-9b6a-4c9f-ccd2-9f6d6a6bc8cc"
   },
   "outputs": [
    {
     "data": {
      "text/html": [
       "\n",
       "  <div id=\"df-6bacf3d4-9069-4292-9371-ee579e29378d\">\n",
       "    <div class=\"colab-df-container\">\n",
       "      <div>\n",
       "<style scoped>\n",
       "    .dataframe tbody tr th:only-of-type {\n",
       "        vertical-align: middle;\n",
       "    }\n",
       "\n",
       "    .dataframe tbody tr th {\n",
       "        vertical-align: top;\n",
       "    }\n",
       "\n",
       "    .dataframe thead th {\n",
       "        text-align: right;\n",
       "    }\n",
       "</style>\n",
       "<table border=\"1\" class=\"dataframe\">\n",
       "  <thead>\n",
       "    <tr style=\"text-align: right;\">\n",
       "      <th></th>\n",
       "      <th>tweet</th>\n",
       "      <th>label</th>\n",
       "      <th>cleaned</th>\n",
       "    </tr>\n",
       "  </thead>\n",
       "  <tbody>\n",
       "    <tr>\n",
       "      <th>1</th>\n",
       "      <td>rt usr: man it would fucking rule if we had a ...</td>\n",
       "      <td>non-hateful</td>\n",
       "      <td>[rt, usr:, man, it, would, fucking, rule, if, ...</td>\n",
       "    </tr>\n",
       "    <tr>\n",
       "      <th>2</th>\n",
       "      <td>it is time to draw close to him   father, i dr...</td>\n",
       "      <td>non-hateful</td>\n",
       "      <td>[it, is, time, to, draw, close, to, him, , , f...</td>\n",
       "    </tr>\n",
       "    <tr>\n",
       "      <th>3</th>\n",
       "      <td>if you notice me sta  to act different or dist...</td>\n",
       "      <td>non-hateful</td>\n",
       "      <td>[if, you, notice, me, sta, , to, act, differen...</td>\n",
       "    </tr>\n",
       "    <tr>\n",
       "      <th>4</th>\n",
       "      <td>forget unfollowers, i believe in growing. 7 ne...</td>\n",
       "      <td>non-hateful</td>\n",
       "      <td>[forget, unfollowers,, i, believe, in, growing...</td>\n",
       "    </tr>\n",
       "    <tr>\n",
       "      <th>5</th>\n",
       "      <td>rt usr: hate being sexually frustrated like i ...</td>\n",
       "      <td>non-hateful</td>\n",
       "      <td>[rt, usr:, hate, being, sexually, frustrated, ...</td>\n",
       "    </tr>\n",
       "  </tbody>\n",
       "</table>\n",
       "</div>\n",
       "      <button class=\"colab-df-convert\" onclick=\"convertToInteractive('df-6bacf3d4-9069-4292-9371-ee579e29378d')\"\n",
       "              title=\"Convert this dataframe to an interactive table.\"\n",
       "              style=\"display:none;\">\n",
       "        \n",
       "  <svg xmlns=\"http://www.w3.org/2000/svg\" height=\"24px\"viewBox=\"0 0 24 24\"\n",
       "       width=\"24px\">\n",
       "    <path d=\"M0 0h24v24H0V0z\" fill=\"none\"/>\n",
       "    <path d=\"M18.56 5.44l.94 2.06.94-2.06 2.06-.94-2.06-.94-.94-2.06-.94 2.06-2.06.94zm-11 1L8.5 8.5l.94-2.06 2.06-.94-2.06-.94L8.5 2.5l-.94 2.06-2.06.94zm10 10l.94 2.06.94-2.06 2.06-.94-2.06-.94-.94-2.06-.94 2.06-2.06.94z\"/><path d=\"M17.41 7.96l-1.37-1.37c-.4-.4-.92-.59-1.43-.59-.52 0-1.04.2-1.43.59L10.3 9.45l-7.72 7.72c-.78.78-.78 2.05 0 2.83L4 21.41c.39.39.9.59 1.41.59.51 0 1.02-.2 1.41-.59l7.78-7.78 2.81-2.81c.8-.78.8-2.07 0-2.86zM5.41 20L4 18.59l7.72-7.72 1.47 1.35L5.41 20z\"/>\n",
       "  </svg>\n",
       "      </button>\n",
       "      \n",
       "  <style>\n",
       "    .colab-df-container {\n",
       "      display:flex;\n",
       "      flex-wrap:wrap;\n",
       "      gap: 12px;\n",
       "    }\n",
       "\n",
       "    .colab-df-convert {\n",
       "      background-color: #E8F0FE;\n",
       "      border: none;\n",
       "      border-radius: 50%;\n",
       "      cursor: pointer;\n",
       "      display: none;\n",
       "      fill: #1967D2;\n",
       "      height: 32px;\n",
       "      padding: 0 0 0 0;\n",
       "      width: 32px;\n",
       "    }\n",
       "\n",
       "    .colab-df-convert:hover {\n",
       "      background-color: #E2EBFA;\n",
       "      box-shadow: 0px 1px 2px rgba(60, 64, 67, 0.3), 0px 1px 3px 1px rgba(60, 64, 67, 0.15);\n",
       "      fill: #174EA6;\n",
       "    }\n",
       "\n",
       "    [theme=dark] .colab-df-convert {\n",
       "      background-color: #3B4455;\n",
       "      fill: #D2E3FC;\n",
       "    }\n",
       "\n",
       "    [theme=dark] .colab-df-convert:hover {\n",
       "      background-color: #434B5C;\n",
       "      box-shadow: 0px 1px 3px 1px rgba(0, 0, 0, 0.15);\n",
       "      filter: drop-shadow(0px 1px 2px rgba(0, 0, 0, 0.3));\n",
       "      fill: #FFFFFF;\n",
       "    }\n",
       "  </style>\n",
       "\n",
       "      <script>\n",
       "        const buttonEl =\n",
       "          document.querySelector('#df-6bacf3d4-9069-4292-9371-ee579e29378d button.colab-df-convert');\n",
       "        buttonEl.style.display =\n",
       "          google.colab.kernel.accessAllowed ? 'block' : 'none';\n",
       "\n",
       "        async function convertToInteractive(key) {\n",
       "          const element = document.querySelector('#df-6bacf3d4-9069-4292-9371-ee579e29378d');\n",
       "          const dataTable =\n",
       "            await google.colab.kernel.invokeFunction('convertToInteractive',\n",
       "                                                     [key], {});\n",
       "          if (!dataTable) return;\n",
       "\n",
       "          const docLinkHtml = 'Like what you see? Visit the ' +\n",
       "            '<a target=\"_blank\" href=https://colab.research.google.com/notebooks/data_table.ipynb>data table notebook</a>'\n",
       "            + ' to learn more about interactive tables.';\n",
       "          element.innerHTML = '';\n",
       "          dataTable['output_type'] = 'display_data';\n",
       "          await google.colab.output.renderOutput(dataTable, element);\n",
       "          const docLink = document.createElement('div');\n",
       "          docLink.innerHTML = docLinkHtml;\n",
       "          element.appendChild(docLink);\n",
       "        }\n",
       "      </script>\n",
       "    </div>\n",
       "  </div>\n",
       "  "
      ],
      "text/plain": [
       "                                               tweet        label  \\\n",
       "1  rt usr: man it would fucking rule if we had a ...  non-hateful   \n",
       "2  it is time to draw close to him   father, i dr...  non-hateful   \n",
       "3  if you notice me sta  to act different or dist...  non-hateful   \n",
       "4  forget unfollowers, i believe in growing. 7 ne...  non-hateful   \n",
       "5  rt usr: hate being sexually frustrated like i ...  non-hateful   \n",
       "\n",
       "                                             cleaned  \n",
       "1  [rt, usr:, man, it, would, fucking, rule, if, ...  \n",
       "2  [it, is, time, to, draw, close, to, him, , , f...  \n",
       "3  [if, you, notice, me, sta, , to, act, differen...  \n",
       "4  [forget, unfollowers,, i, believe, in, growing...  \n",
       "5  [rt, usr:, hate, being, sexually, frustrated, ...  "
      ]
     },
     "execution_count": 75,
     "metadata": {},
     "output_type": "execute_result"
    }
   ],
   "source": [
    "df.head(5)"
   ]
  },
  {
   "cell_type": "code",
   "execution_count": 96,
   "id": "fbbbc3be",
   "metadata": {
    "id": "8V1lr33AruJk"
   },
   "outputs": [],
   "source": [
    "# Split data into training, development, and test sets\n",
    "train, dev_test = train_test_split(df, test_size=0.2, stratify=df['label'], random_state=0)\n",
    "dev, test = train_test_split(dev_test, test_size=0.5, stratify=dev_test['label'], random_state=0)"
   ]
  },
  {
   "cell_type": "code",
   "execution_count": 58,
   "id": "cf4af817",
   "metadata": {
    "colab": {
     "base_uri": "https://localhost:8080/"
    },
    "id": "fjnpfjaqsVYd",
    "outputId": "9f8ece2f-f6d7-4a76-94e3-3e25860a55c2"
   },
   "outputs": [
    {
     "name": "stdout",
     "output_type": "stream",
     "text": [
      "Looking in indexes: https://pypi.org/simple, https://us-python.pkg.dev/colab-wheels/public/simple/\n",
      "Requirement already satisfied: transformers in /usr/local/lib/python3.9/dist-packages (4.27.4)\n",
      "Requirement already satisfied: requests in /usr/local/lib/python3.9/dist-packages (from transformers) (2.27.1)\n",
      "Requirement already satisfied: tqdm>=4.27 in /usr/local/lib/python3.9/dist-packages (from transformers) (4.65.0)\n",
      "Requirement already satisfied: numpy>=1.17 in /usr/local/lib/python3.9/dist-packages (from transformers) (1.22.4)\n",
      "Requirement already satisfied: huggingface-hub<1.0,>=0.11.0 in /usr/local/lib/python3.9/dist-packages (from transformers) (0.13.3)\n",
      "Requirement already satisfied: packaging>=20.0 in /usr/local/lib/python3.9/dist-packages (from transformers) (23.0)\n",
      "Requirement already satisfied: regex!=2019.12.17 in /usr/local/lib/python3.9/dist-packages (from transformers) (2022.10.31)\n",
      "Requirement already satisfied: pyyaml>=5.1 in /usr/local/lib/python3.9/dist-packages (from transformers) (6.0)\n",
      "Requirement already satisfied: filelock in /usr/local/lib/python3.9/dist-packages (from transformers) (3.10.7)\n",
      "Requirement already satisfied: tokenizers!=0.11.3,<0.14,>=0.11.1 in /usr/local/lib/python3.9/dist-packages (from transformers) (0.13.2)\n",
      "Requirement already satisfied: typing-extensions>=3.7.4.3 in /usr/local/lib/python3.9/dist-packages (from huggingface-hub<1.0,>=0.11.0->transformers) (4.5.0)\n",
      "Requirement already satisfied: charset-normalizer~=2.0.0 in /usr/local/lib/python3.9/dist-packages (from requests->transformers) (2.0.12)\n",
      "Requirement already satisfied: idna<4,>=2.5 in /usr/local/lib/python3.9/dist-packages (from requests->transformers) (3.4)\n",
      "Requirement already satisfied: urllib3<1.27,>=1.21.1 in /usr/local/lib/python3.9/dist-packages (from requests->transformers) (1.26.15)\n",
      "Requirement already satisfied: certifi>=2017.4.17 in /usr/local/lib/python3.9/dist-packages (from requests->transformers) (2022.12.7)\n"
     ]
    }
   ],
   "source": [
    "!pip install transformers"
   ]
  },
  {
   "cell_type": "code",
   "execution_count": 59,
   "id": "e6e8ae76",
   "metadata": {
    "id": "A9tBTN_GsPEv"
   },
   "outputs": [],
   "source": [
    "import pickle\n",
    "import numpy as np\n",
    "import pandas as pd\n",
    "import torch\n",
    "import warnings\n",
    "\n",
    "from collections import defaultdict, Counter\n",
    "from string import punctuation\n",
    "from matplotlib import pyplot as plt\n",
    "from nltk.util import bigrams\n",
    "from tqdm import tqdm\n",
    "\n",
    "from sklearn.feature_extraction import _stop_words\n",
    "from sklearn.manifold import TSNE\n",
    "from sklearn.model_selection import train_test_split\n",
    "from sklearn.metrics import accuracy_score\n",
    "\n",
    "from torch import nn, optim\n",
    "from torch.nn import functional as F\n",
    "from torch.utils.data import Dataset, DataLoader\n",
    "\n",
    "from transformers import BertModel, BertTokenizer\n",
    "\n",
    "warnings.filterwarnings(\"ignore\", category=FutureWarning)"
   ]
  },
  {
   "cell_type": "code",
   "execution_count": 97,
   "id": "50f747b5",
   "metadata": {
    "id": "MT9kn77UsA8F"
   },
   "outputs": [],
   "source": [
    "# Define dataset class\n",
    "class BERTDataset(Dataset):\n",
    "\n",
    "    def __init__(self, data):\n",
    "        \n",
    "        # Initialize tokenizer\n",
    "        self.tok = BertTokenizer.from_pretrained('bert-base-uncased')\n",
    "        \n",
    "        # Truncate and encode abstracts\n",
    "        self.tweets = (data.cleaned.apply(self.tok.encode, max_length=50, truncation=True))\n",
    "        \n",
    "        # Store labels\n",
    "        self.labels = list(data.label)\n",
    "\n",
    "    def __len__(self):\n",
    "        return len(self.labels)\n",
    "\n",
    "    def __getitem__(self, idx):\n",
    "        tweet = self.tweets[idx]\n",
    "        label = self.labels[idx]\n",
    "        return tweet, label"
   ]
  },
  {
   "cell_type": "code",
   "execution_count": 98,
   "id": "6d85a98c",
   "metadata": {
    "id": "NfDmYdZ3sf3e"
   },
   "outputs": [],
   "source": [
    "def bert_collate(batch):\n",
    "    # Store batch size\n",
    "    batch_size = len(batch)\n",
    "    \n",
    "    # Separate tweets and labels\n",
    "    tweets = [t for t, l in batch]\n",
    "    labels = [l for t, l in batch]\n",
    "    \n",
    "    # Check that all labels are valid\n",
    "    valid_labels = {\"hateful\", \"normal\", \"abusive\", \"spam\"}\n",
    "    if not set(labels).issubset(valid_labels):\n",
    "        raise ValueError(\"Invalid label found in batch: {}\".format(labels))\n",
    "    \n",
    "    # Convert labels to integers\n",
    "    label2id = {\"hateful\": 0, \"normal\": 1, \"abusive\" : 2, \"spam\": 3}\n",
    "    label_ids = torch.tensor([label2id[l] for l in labels]).long()\n",
    "    \n",
    "    # Store length of longest tweet in batch\n",
    "    max_len = max(len(t) for t in tweets)\n",
    "    \n",
    "    # Create padded tweet and attention mask tensors\n",
    "    tweets_pad = torch.zeros((batch_size, max_len)).long()\n",
    "    masks_pad = torch.zeros((batch_size, max_len)).long()\n",
    "    for i, t in enumerate(tweets):\n",
    "        tweets_pad[i, :len(t)] = torch.tensor(t)\n",
    "        masks_pad[i, :len(t)] = 1\n",
    "    \n",
    "    return tweets_pad, masks_pad, label_ids"
   ]
  },
  {
   "cell_type": "code",
   "execution_count": 99,
   "id": "2934778e",
   "metadata": {
    "id": "BzZmO21nslND"
   },
   "outputs": [],
   "source": [
    "import torch\n",
    "import torch.nn as nn\n",
    "from transformers import BertModel\n",
    "\n",
    "# Create the BertClassifier class\n",
    "\n",
    "class BertClassifier_RELU(nn.Module):\n",
    "    \n",
    "    def __init__(self, freeze_bert=False):\n",
    "        super(BertClassifier,self).__init__()\n",
    "        \n",
    "        # Specify hidden size of Bert, hidden size of our classifier, and number of labels\n",
    "        D_in, H, D_out = 768, 50 , 4\n",
    "        \n",
    "        self.bert = BertModel.from_pretrained('bert-base-uncased')\n",
    "        \n",
    "        self.classifier = nn.Sequential(\n",
    "                            nn.Linear(D_in, H),\n",
    "                            nn.ReLU(),\n",
    "                            nn.Linear(H, D_out))\n",
    "        \n",
    "        # Freeze the Bert Model\n",
    "        if freeze_bert:\n",
    "            for param in self.bert.parameters():\n",
    "                param.requires_grad = False\n",
    "    \n",
    "    def forward(self,input_ids,attention_mask, output_attentions=True):\n",
    "\n",
    "        outputs = self.bert(input_ids=input_ids,\n",
    "                           attention_mask = attention_mask, output_attentions=True)\n",
    "        \n",
    "        overall = outputs\n",
    "\n",
    "        attentions = outputs.attentions\n",
    "        \n",
    "        # Extract the last hidden state of the token `[CLS]` for classification task\n",
    "        last_hidden_state_cls = outputs[0][:,0,:]\n",
    "        \n",
    "        # Feed input to classifier to compute logits\n",
    "        logits = self.classifier(last_hidden_state_cls)\n",
    "        \n",
    "        return logits, overall, attentions"
   ]
  },
  {
   "cell_type": "code",
   "execution_count": 119,
   "id": "13398ee8",
   "metadata": {
    "id": "gPeGTxH5bxSb"
   },
   "outputs": [],
   "source": [
    "# Define BERT classifier\n",
    "class BERTClassifier(nn.Module):\n",
    "\n",
    "    def __init__(self):\n",
    "        \n",
    "        # Define network layers\n",
    "        super(BERTClassifier, self).__init__()\n",
    "        self.bert = BertModel.from_pretrained('bert-base-uncased')\n",
    "        self.linear = nn.Linear(768, 4)\n",
    "        \n",
    "        # Define dropout\n",
    "        self.dropout = nn.Dropout(0.2)\n",
    "        \n",
    "        # Freeze BERT layers\n",
    "        for n, p in self.bert.named_parameters():\n",
    "            p.requires_grad = False\n",
    "\n",
    "    def forward(self, tweets, masks, output_attentions=True):\n",
    "        \n",
    "        # Define flow of tensors through network\n",
    "        outputs = self.bert(tweets, attention_mask=masks, output_attentions = True)\n",
    "        attentions = outputs.attentions\n",
    "        output_bert = self.bert(tweets, attention_mask=masks)[0].mean(axis=1)\n",
    "        return self.linear(self.dropout(output_bert)), outputs, attentions"
   ]
  },
  {
   "cell_type": "code",
   "execution_count": 100,
   "id": "814b14db",
   "metadata": {
    "id": "9Ca_1jmcNuXt"
   },
   "outputs": [],
   "source": [
    "train = train.reset_index()\n",
    "dev = dev.reset_index()\n",
    "test = test.reset_index()"
   ]
  },
  {
   "cell_type": "code",
   "execution_count": 110,
   "id": "257594bf",
   "metadata": {
    "id": "uM4oPaflsngP"
   },
   "outputs": [],
   "source": [
    "# Create datasets\n",
    "train_dataset = BERTDataset(train)\n",
    "dev_dataset = BERTDataset(dev)\n",
    "test_dataset = BERTDataset(test)"
   ]
  },
  {
   "cell_type": "code",
   "execution_count": 111,
   "id": "5353f18d",
   "metadata": {
    "id": "E9uVIdYvs9ik"
   },
   "outputs": [],
   "source": [
    "# Create data loaders\n",
    "train_loader = DataLoader(train_dataset, batch_size=100, collate_fn=bert_collate, shuffle=True)\n",
    "dev_loader = DataLoader(dev_dataset, batch_size=100, collate_fn=bert_collate)\n",
    "test_loader = DataLoader(test_dataset, batch_size=100, collate_fn=bert_collate)"
   ]
  },
  {
   "cell_type": "code",
   "execution_count": 120,
   "id": "0463e4fe",
   "metadata": {
    "colab": {
     "base_uri": "https://localhost:8080/"
    },
    "id": "1cmluLJ6tPuj",
    "outputId": "fbe5ef0c-c249-49b0-ff80-3e4d744d4313"
   },
   "outputs": [
    {
     "name": "stderr",
     "output_type": "stream",
     "text": [
      "Some weights of the model checkpoint at bert-base-uncased were not used when initializing BertModel: ['cls.seq_relationship.weight', 'cls.predictions.transform.dense.bias', 'cls.seq_relationship.bias', 'cls.predictions.transform.LayerNorm.bias', 'cls.predictions.decoder.weight', 'cls.predictions.bias', 'cls.predictions.transform.dense.weight', 'cls.predictions.transform.LayerNorm.weight']\n",
      "- This IS expected if you are initializing BertModel from the checkpoint of a model trained on another task or with another architecture (e.g. initializing a BertForSequenceClassification model from a BertForPreTraining model).\n",
      "- This IS NOT expected if you are initializing BertModel from the checkpoint of a model that you expect to be exactly identical (initializing a BertForSequenceClassification model from a BertForSequenceClassification model).\n"
     ]
    }
   ],
   "source": [
    "# Initialize model\n",
    "model = BERTClassifier()"
   ]
  },
  {
   "cell_type": "code",
   "execution_count": 38,
   "id": "2b9b06f5",
   "metadata": {
    "colab": {
     "base_uri": "https://localhost:8080/"
    },
    "id": "Zh8zGxLTpUzD",
    "outputId": "bc9f4936-bd01-4415-8d09-e2b2b25bc3bc"
   },
   "outputs": [
    {
     "name": "stdout",
     "output_type": "stream",
     "text": [
      "Looking in indexes: https://pypi.org/simple, https://us-python.pkg.dev/colab-wheels/public/simple/\n",
      "Collecting sadice\n",
      "  Downloading sadice-0.1.3-py3-none-any.whl (6.6 kB)\n",
      "Requirement already satisfied: torch<2.0.0,>=1.0.0 in /usr/local/lib/python3.9/dist-packages (from sadice) (1.13.1+cu116)\n",
      "Requirement already satisfied: typing-extensions in /usr/local/lib/python3.9/dist-packages (from torch<2.0.0,>=1.0.0->sadice) (4.5.0)\n",
      "Installing collected packages: sadice\n",
      "Successfully installed sadice-0.1.3\n"
     ]
    }
   ],
   "source": [
    "!pip install sadice"
   ]
  },
  {
   "cell_type": "code",
   "execution_count": 39,
   "id": "908ea3a3",
   "metadata": {
    "id": "vmTrnHXTccZ4"
   },
   "outputs": [],
   "source": [
    "from sadice import SelfAdjDiceLoss\n",
    "\n",
    "criterion = SelfAdjDiceLoss()"
   ]
  },
  {
   "cell_type": "code",
   "execution_count": 30,
   "id": "f0ae51cf",
   "metadata": {
    "id": "m7H-1O6X128w"
   },
   "outputs": [],
   "source": [
    "import torch.nn as nn\n",
    "\n",
    "class F1Loss(nn.Module):\n",
    "    def __init__(self, eps=1e-7):\n",
    "        super().__init__()\n",
    "        self.eps = eps\n",
    "\n",
    "    def forward(self, y_pred, y_true):\n",
    "        tp = (y_pred * y_true).sum(dim=0)\n",
    "        fp = (y_pred * (1 - y_true)).sum(dim=0)\n",
    "        fn = ((1 - y_pred) * y_true).sum(dim=0)\n",
    "\n",
    "        precision = tp / (tp + fp + self.eps)\n",
    "        recall = tp / (tp + fn + self.eps)\n",
    "        f1 = 2 * (precision * recall) / (precision + recall + self.eps)\n",
    "\n",
    "        return 1 - f1.mean()"
   ]
  },
  {
   "cell_type": "code",
   "execution_count": 84,
   "id": "15b14932",
   "metadata": {
    "id": "vC481yaF3sCX"
   },
   "outputs": [],
   "source": [
    "import torch.nn as nn\n",
    "\n",
    "class WeightedCrossEntropyLoss(nn.Module):\n",
    "    def __init__(self, weights=None):\n",
    "        super().__init__()\n",
    "        self.weights = weights\n",
    "\n",
    "    def forward(self, input, target):\n",
    "        log_probs = nn.functional.log_softmax(input, dim=1)\n",
    "        loss = nn.functional.nll_loss(log_probs, target, weight=self.weights)\n",
    "        return loss"
   ]
  },
  {
   "cell_type": "code",
   "execution_count": 121,
   "id": "c56aa03d",
   "metadata": {
    "id": "RXMlqTM-tR2L"
   },
   "outputs": [],
   "source": [
    "# Define optimizer and training objective\n",
    "optimizer = optim.Adam(model.parameters(), lr=0.01)\n",
    "criterion = nn.CrossEntropyLoss()"
   ]
  },
  {
   "cell_type": "code",
   "execution_count": 105,
   "id": "b86a416b",
   "metadata": {
    "colab": {
     "base_uri": "https://localhost:8080/"
    },
    "id": "bJ5gS-O1_E58",
    "outputId": "d9301215-cd81-4060-f2a0-fa09aad4a19b"
   },
   "outputs": [
    {
     "name": "stdout",
     "output_type": "stream",
     "text": [
      "88\n"
     ]
    }
   ],
   "source": [
    "print(len(dev_loader))"
   ]
  },
  {
   "cell_type": "code",
   "execution_count": 116,
   "id": "d9cb0ff5",
   "metadata": {
    "id": "HyX17U4GpHB1"
   },
   "outputs": [],
   "source": [
    "from sklearn.metrics import confusion_matrix, classification_report"
   ]
  },
  {
   "cell_type": "code",
   "execution_count": 122,
   "id": "02043ef7",
   "metadata": {
    "colab": {
     "base_uri": "https://localhost:8080/"
    },
    "id": "hQUbhjwStYof",
    "outputId": "3511e4ef-a478-471e-e391-b66a4f667185"
   },
   "outputs": [
    {
     "name": "stderr",
     "output_type": "stream",
     "text": [
      "100%|██████████| 699/699 [24:01<00:00,  2.06s/it]\n"
     ]
    },
    {
     "name": "stdout",
     "output_type": "stream",
     "text": [
      "Finished epoch 1\n",
      "Accuracy after 1 epoch(s): 0.74\n",
      "[[  58  263   79    7]\n",
      " [  20 4568   60  410]\n",
      " [ 108  530 1322   53]\n",
      " [   0  656   50  545]]\n",
      "              precision    recall  f1-score   support\n",
      "\n",
      "           0       0.31      0.14      0.20       407\n",
      "           1       0.76      0.90      0.82      5058\n",
      "           2       0.87      0.66      0.75      2013\n",
      "           3       0.54      0.44      0.48      1251\n",
      "\n",
      "    accuracy                           0.74      8729\n",
      "   macro avg       0.62      0.53      0.56      8729\n",
      "weighted avg       0.73      0.74      0.73      8729\n",
      "\n"
     ]
    },
    {
     "name": "stderr",
     "output_type": "stream",
     "text": [
      "100%|██████████| 699/699 [23:55<00:00,  2.05s/it]\n"
     ]
    },
    {
     "name": "stdout",
     "output_type": "stream",
     "text": [
      "Finished epoch 2\n",
      "Accuracy after 2 epoch(s): 0.76\n",
      "[[  24  155  222    6]\n",
      " [  19 4251  302  486]\n",
      " [  10  187 1790   26]\n",
      " [   0  601   80  570]]\n",
      "              precision    recall  f1-score   support\n",
      "\n",
      "           0       0.45      0.06      0.10       407\n",
      "           1       0.82      0.84      0.83      5058\n",
      "           2       0.75      0.89      0.81      2013\n",
      "           3       0.52      0.46      0.49      1251\n",
      "\n",
      "    accuracy                           0.76      8729\n",
      "   macro avg       0.64      0.56      0.56      8729\n",
      "weighted avg       0.74      0.76      0.74      8729\n",
      "\n"
     ]
    },
    {
     "name": "stderr",
     "output_type": "stream",
     "text": [
      "100%|██████████| 699/699 [24:00<00:00,  2.06s/it]\n"
     ]
    },
    {
     "name": "stdout",
     "output_type": "stream",
     "text": [
      "Finished epoch 3\n",
      "Accuracy after 3 epoch(s): 0.77\n",
      "[[   7  224  174    2]\n",
      " [   5 4797  161   95]\n",
      " [   5  330 1672    6]\n",
      " [   0  982   62  207]]\n",
      "              precision    recall  f1-score   support\n",
      "\n",
      "           0       0.41      0.02      0.03       407\n",
      "           1       0.76      0.95      0.84      5058\n",
      "           2       0.81      0.83      0.82      2013\n",
      "           3       0.67      0.17      0.27      1251\n",
      "\n",
      "    accuracy                           0.77      8729\n",
      "   macro avg       0.66      0.49      0.49      8729\n",
      "weighted avg       0.74      0.77      0.72      8729\n",
      "\n"
     ]
    },
    {
     "name": "stderr",
     "output_type": "stream",
     "text": [
      "100%|██████████| 699/699 [23:52<00:00,  2.05s/it]\n"
     ]
    },
    {
     "name": "stdout",
     "output_type": "stream",
     "text": [
      "Finished epoch 4\n",
      "Accuracy after 4 epoch(s): 0.76\n",
      "[[  21  246  138    2]\n",
      " [   8 4824   99  127]\n",
      " [  23  422 1556   12]\n",
      " [   0  941   56  254]]\n",
      "              precision    recall  f1-score   support\n",
      "\n",
      "           0       0.40      0.05      0.09       407\n",
      "           1       0.75      0.95      0.84      5058\n",
      "           2       0.84      0.77      0.81      2013\n",
      "           3       0.64      0.20      0.31      1251\n",
      "\n",
      "    accuracy                           0.76      8729\n",
      "   macro avg       0.66      0.50      0.51      8729\n",
      "weighted avg       0.74      0.76      0.72      8729\n",
      "\n"
     ]
    }
   ],
   "source": [
    "# Train model\n",
    "for e in range(4):\n",
    "\n",
    "    model.train()\n",
    "\n",
    "    for i, b in enumerate(tqdm(train_loader)):\n",
    "\n",
    "        # Perform forward pass\n",
    "        optimizer.zero_grad()\n",
    "        tweets, masks, lbls = [t for t in b]\n",
    "        output,overall,attn = model(tweets, masks, output_attentions= True)\n",
    "        loss = criterion(output, lbls)\n",
    "        \n",
    "        # Perform backpropagation and update weights\n",
    "        loss.backward()\n",
    "        optimizer.step()\n",
    "  \n",
    "    # Evaluate model on development data\n",
    "    model.eval()\n",
    "\n",
    "    y_true = list()\n",
    "    y_pred = list()\n",
    "\n",
    "    with torch.no_grad():\n",
    "        for b in dev_loader:\n",
    "            tweets, masks, lbls = [t for t in b]\n",
    "            output,overall,attn = model(tweets, masks)\n",
    "            max_output = output.argmax(dim=1)\n",
    "            y_true.extend(lbls.tolist())\n",
    "            y_pred.extend(max_output.tolist())\n",
    "\n",
    "    print(\"Finished epoch\", e+1)\n",
    "\n",
    "    print('Accuracy after {} epoch(s): {:.2f}'.format(e+1, accuracy_score(y_true, y_pred)))\n",
    "    print(confusion_matrix(y_true,y_pred))\n",
    "    print(classification_report(y_true,y_pred))"
   ]
  },
  {
   "cell_type": "code",
   "execution_count": 123,
   "id": "0e76f9fa",
   "metadata": {
    "id": "UaM6UO2PfLB0"
   },
   "outputs": [],
   "source": [
    "torch.save(model.state_dict(), 'bert_finding_attention_50len.pth')"
   ]
  },
  {
   "cell_type": "code",
   "execution_count": 124,
   "id": "a4272879",
   "metadata": {
    "id": "flxcbVJbcTNb"
   },
   "outputs": [],
   "source": [
    "from transformers import BertTokenizer\n",
    "\n",
    "# Instantiate tokenizer\n",
    "tokenizer = BertTokenizer.from_pretrained('bert-base-uncased')"
   ]
  },
  {
   "cell_type": "code",
   "execution_count": 125,
   "id": "490b4328",
   "metadata": {
    "id": "5XM8Yo2ucFze"
   },
   "outputs": [],
   "source": [
    "def display_sentence_attention(model, tokenizer, sentence):\n",
    "    model.eval()\n",
    "    tokens = tokenizer.tokenize(sentence)\n",
    "    indexed_tokens = tokenizer.convert_tokens_to_ids(tokens)\n",
    "    tensor_tokens = torch.tensor([indexed_tokens])\n",
    "\n",
    "    # Create attention masks\n",
    "    attention_mask = [1] * len(tokens)\n",
    "\n",
    "    # Convert inputs to PyTorch tensors\n",
    "    tensor_mask = torch.tensor([attention_mask])\n",
    "\n",
    "    # Predict label and get attention scores\n",
    "    with torch.no_grad():\n",
    "        #outputs, attn_scores = model(tensor_tokens, tensor_mask, return_dict=False, output_attentions=True)\n",
    "        outputs, all, attn_scores = model(tensor_tokens, tensor_mask, output_attentions=True)\n",
    "        pred_label = torch.argmax(outputs).item()\n",
    "\n",
    "    # Decode attention scores and display highlighted sentence\n",
    "    attn_scores = _decode_output({'attentions': attn_scores})\n",
    "    display(HTML(f'<strong>Predicted Label:</strong> {pred_label}'))\n",
    "    for layer in range(len(attn_scores['aa']['attn'])):\n",
    "        for head in range(len(attn_scores['aa']['attn'][layer])):\n",
    "            display(HTML(f'<strong>Layer {layer+1} Head {head+1}:</strong>'))\n",
    "            disp_attn_tokens(tokens, attn_scores['aa']['attn'], layer, head)"
   ]
  },
  {
   "cell_type": "code",
   "execution_count": 126,
   "id": "be505a3a",
   "metadata": {
    "id": "HIKDZZR_VOjR"
   },
   "outputs": [],
   "source": [
    "import matplotlib.pyplot as plt\n",
    "import seaborn as sns\n",
    "import numpy as np\n",
    "\n",
    "import matplotlib.pyplot as plt\n",
    "import numpy as np\n",
    "\n",
    "import matplotlib.pyplot as plt\n",
    "import numpy as np\n",
    "from IPython.core.display import HTML\n",
    "import html"
   ]
  },
  {
   "cell_type": "code",
   "execution_count": 232,
   "id": "13d74d0c",
   "metadata": {
    "id": "zfjTrcIna3O1"
   },
   "outputs": [],
   "source": [
    "import html\n",
    "\n",
    "def display_attention(tokens, attn_matrix, layer=-1, head=0, direction='ba'):\n",
    "    token_weights = attn_matrix[layer][head].detach().cpu().numpy()\n",
    "    tokens = [t for t in tokens if t != tokenizer.pad_token]\n",
    "    attention_weights = token_weights[direction == 'ba'][0]\n",
    "    highlighted_text = []\n",
    "    for i, (token, weight) in enumerate(zip(tokens, attention_weights)):\n",
    "        if weight != 0:\n",
    "            # Calculate the background color for the current token based on its attention weight\n",
    "            color = f'rgba(255,0,0,{weight:.8f})'\n",
    "            # If this isn't the first token in the sentence, calculate the color for the previous token as well\n",
    "            if i > 0:\n",
    "                prev_weight = attention_weights[i-1]\n",
    "                if prev_weight != 0:\n",
    "                    prev_color = f'rgba(255,0,0,{prev_weight:.8f})'\n",
    "                else:\n",
    "                    prev_color = 'white'\n",
    "            else:\n",
    "                prev_color = 'white'\n",
    "            # Add the current token to the highlighted text string with a gradient background color\n",
    "            highlighted_text.append(f'<span style=\"background: linear-gradient(to right, {prev_color}, {color})\">{html.escape(str(token))}</span>')\n",
    "        else:\n",
    "            highlighted_text.append(str(token))\n",
    "    highlighted_text = ' '.join(highlighted_text)\n",
    "    display(HTML(highlighted_text))"
   ]
  },
  {
   "cell_type": "code",
   "execution_count": 178,
   "id": "35107e0f",
   "metadata": {
    "id": "nCGX5J88b6-q"
   },
   "outputs": [],
   "source": [
    "def display_attention_2(tokens, attn_matrix, layer=-1, head=0, direction='ba'):\n",
    "    token_weights = attn_matrix[layer][head].detach().cpu().numpy()\n",
    "    attention_weights = token_weights[direction == 'ba'][0][:len(tokens)]\n",
    "    tokens = [t for t in tokens if t != tokenizer.pad_token]\n",
    "    highlighted_text = []\n",
    "    for i, (token, weight) in enumerate(zip(tokens, attention_weights)):\n",
    "        color = f'rgba(255,0,0,{weight:.2f})'\n",
    "        highlighted_text.append(f'<span style=\"background-color: {color}\">{html.escape(token)}</span>')\n",
    "    highlighted_text = ' '.join(highlighted_text)\n",
    "    display(HTML(highlighted_text))\n"
   ]
  },
  {
   "cell_type": "code",
   "execution_count": 250,
   "id": "33983ec9",
   "metadata": {
    "colab": {
     "base_uri": "https://localhost:8080/",
     "height": 34
    },
    "id": "k9O6VX-0VTXz",
    "outputId": "7ffe0575-d4a0-4b11-ee3e-2cf419516366"
   },
   "outputs": [
    {
     "data": {
      "text/html": [
       "<span style=\"background: linear-gradient(to right, white, rgba(255,100,100,0.00376967))\">[CLS]</span> <span style=\"background: linear-gradient(to right, rgba(255,100,100,0.00376967), rgba(255,100,100,0.01153744))\">if</span> <span style=\"background: linear-gradient(to right, rgba(255,100,100,0.01153744), rgba(255,100,100,0.00357115))\">you&#x27;re</span> <span style=\"background: linear-gradient(to right, rgba(255,100,100,0.00357115), rgba(255,100,100,0.49035209))\">a</span> <span style=\"background: linear-gradient(to right, rgba(255,100,100,0.49035209), rgba(255,100,100,0.00922917))\">black</span> <span style=\"background: linear-gradient(to right, rgba(255,100,100,0.00922917), rgba(255,100,100,0.01693956))\">person,</span> <span style=\"background: linear-gradient(to right, rgba(255,100,100,0.01693956), rgba(255,100,100,0.01100610))\">kill</span> <span style=\"background: linear-gradient(to right, rgba(255,100,100,0.01100610), rgba(255,100,100,0.00734088))\">yourself!!!!</span> <span style=\"background: linear-gradient(to right, rgba(255,100,100,0.00734088), rgba(255,100,100,0.00383532))\">url</span> <span style=\"background: linear-gradient(to right, rgba(255,100,100,0.00383532), rgba(255,100,100,0.00826935))\">[SEP]</span>"
      ],
      "text/plain": [
       "<IPython.core.display.HTML object>"
      ]
     },
     "metadata": {},
     "output_type": "display_data"
    }
   ],
   "source": [
    "\n",
    "input_text = \"If you're a black person, kill yourself!!!! url\"\n",
    "tokens = tokenizer.encode_plus(input_text, max_length=128, truncation=True, padding='max_length', return_tensors='pt')\n",
    "\n",
    "# Get BERT model predictions and attentions\n",
    "predictions, outputs, attentions = model(tokens['input_ids'], tokens['attention_mask'])\n",
    "\n",
    "\n",
    "# Reshape attention tensor\n",
    "n_heads = attentions[11].shape[1]\n",
    "attn_matrix = attentions[-1].reshape(n_heads, tokens['input_ids'].shape[1], tokens['input_ids'].shape[1])\n",
    "\n",
    "decoded_tokens = tokenizer.decode(tokens['input_ids'][0])\n",
    "decoded_tokens = decoded_tokens.split(' ')\n",
    "\n",
    "display_attention(decoded_tokens, attn_matrix, layer= 1, head=11)\n"
   ]
  },
  {
   "cell_type": "code",
   "execution_count": 133,
   "id": "fef158e7",
   "metadata": {
    "colab": {
     "base_uri": "https://localhost:8080/"
    },
    "id": "qz7cuAB4eK4p",
    "outputId": "1dd300c4-232a-4377-89dd-e496075895a2"
   },
   "outputs": [
    {
     "data": {
      "text/plain": [
       "64557    the improve troupe changed the names of all th...\n",
       "Name: tweet, dtype: object"
      ]
     },
     "execution_count": 133,
     "metadata": {},
     "output_type": "execute_result"
    }
   ],
   "source": [
    "df['tweet'][df['label']==\"hateful\"].sample(1)"
   ]
  },
  {
   "cell_type": "code",
   "execution_count": 136,
   "id": "98ce19a9",
   "metadata": {
    "colab": {
     "base_uri": "https://localhost:8080/"
    },
    "id": "KrhxV2KAeunq",
    "outputId": "3bc3a577-00f2-4b77-835f-7a0147baa6f7"
   },
   "outputs": [
    {
     "name": "stdout",
     "output_type": "stream",
     "text": [
      "Test accuracy: 0.77\n",
      "[[  18  243  144    2]\n",
      " [   9 4815  108  126]\n",
      " [  20  407 1577   10]\n",
      " [   0  922   49  279]]\n",
      "              precision    recall  f1-score   support\n",
      "\n",
      "           0       0.38      0.04      0.08       407\n",
      "           1       0.75      0.95      0.84      5058\n",
      "           2       0.84      0.78      0.81      2014\n",
      "           3       0.67      0.22      0.33      1250\n",
      "\n",
      "    accuracy                           0.77      8729\n",
      "   macro avg       0.66      0.50      0.52      8729\n",
      "weighted avg       0.74      0.77      0.73      8729\n",
      "\n"
     ]
    }
   ],
   "source": [
    "from sklearn.metrics import classification_report, confusion_matrix\n",
    "\n",
    "model.eval()\n",
    "\n",
    "y_true = list()\n",
    "y_pred = list()\n",
    "\n",
    "with torch.no_grad():\n",
    "    for b in test_loader:\n",
    "        tweets, masks, lbls = [t for t in b]\n",
    "        output, overall, attn = model(tweets, masks)\n",
    "        max_output = output.argmax(dim=1)\n",
    "        y_true.extend(lbls.tolist())\n",
    "        y_pred.extend(max_output.tolist())\n",
    "\n",
    "print('Test accuracy: {:.2f}'.format(accuracy_score(y_true, y_pred)))\n",
    "print(confusion_matrix(y_true,y_pred))\n",
    "print(classification_report(y_true, y_pred))"
   ]
  },
  {
   "cell_type": "code",
   "execution_count": 138,
   "id": "5129dd6e",
   "metadata": {
    "id": "e24mLyP6h1QA"
   },
   "outputs": [],
   "source": [
    "schema = {0:\"hateful\",1:\"normal\", 2:\"abusive\", 3:\"spam\"}\n",
    "test['pred'] = [schema[i] for i in y_pred]"
   ]
  },
  {
   "cell_type": "code",
   "execution_count": 197,
   "id": "9bb89f87",
   "metadata": {
    "colab": {
     "base_uri": "https://localhost:8080/",
     "height": 204
    },
    "id": "4EfjF1v3jAin",
    "outputId": "d00c6a5c-f1df-4c3c-93fd-6f3a1e4e6ddc"
   },
   "outputs": [
    {
     "data": {
      "text/html": [
       "\n",
       "  <div id=\"df-df62b537-56ec-45ea-be43-c07bd018b970\">\n",
       "    <div class=\"colab-df-container\">\n",
       "      <div>\n",
       "<style scoped>\n",
       "    .dataframe tbody tr th:only-of-type {\n",
       "        vertical-align: middle;\n",
       "    }\n",
       "\n",
       "    .dataframe tbody tr th {\n",
       "        vertical-align: top;\n",
       "    }\n",
       "\n",
       "    .dataframe thead th {\n",
       "        text-align: right;\n",
       "    }\n",
       "</style>\n",
       "<table border=\"1\" class=\"dataframe\">\n",
       "  <thead>\n",
       "    <tr style=\"text-align: right;\">\n",
       "      <th></th>\n",
       "      <th>level_0</th>\n",
       "      <th>index</th>\n",
       "      <th>tweet</th>\n",
       "      <th>label</th>\n",
       "      <th>cleaned</th>\n",
       "      <th>pred</th>\n",
       "    </tr>\n",
       "  </thead>\n",
       "  <tbody>\n",
       "    <tr>\n",
       "      <th>184</th>\n",
       "      <td>4209</td>\n",
       "      <td>22183</td>\n",
       "      <td>usr usr too bad he's a xenophobic idiot with t...</td>\n",
       "      <td>hateful</td>\n",
       "      <td>[usr, usr, too, bad, he's, a, xenophobic, idio...</td>\n",
       "      <td>hateful</td>\n",
       "    </tr>\n",
       "    <tr>\n",
       "      <th>249</th>\n",
       "      <td>5258</td>\n",
       "      <td>73986</td>\n",
       "      <td>rt usr: i'm embarrassed for those that voted f...</td>\n",
       "      <td>hateful</td>\n",
       "      <td>[rt, usr:, i'm, embarrassed, for, those, that,...</td>\n",
       "      <td>hateful</td>\n",
       "    </tr>\n",
       "    <tr>\n",
       "      <th>312</th>\n",
       "      <td>6531</td>\n",
       "      <td>27101</td>\n",
       "      <td>professor: republicans criticize susan rice be...</td>\n",
       "      <td>hateful</td>\n",
       "      <td>[professor:, republicans, criticize, susan, ri...</td>\n",
       "      <td>hateful</td>\n",
       "    </tr>\n",
       "    <tr>\n",
       "      <th>218</th>\n",
       "      <td>4769</td>\n",
       "      <td>78749</td>\n",
       "      <td>rt usr: you know niggas hate water smh url</td>\n",
       "      <td>hateful</td>\n",
       "      <td>[rt, usr:, you, know, niggas, hate, water, smh...</td>\n",
       "      <td>hateful</td>\n",
       "    </tr>\n",
       "    <tr>\n",
       "      <th>93</th>\n",
       "      <td>2114</td>\n",
       "      <td>83496</td>\n",
       "      <td>usr usr he is rubbish, a subhuman idiot ! him ...</td>\n",
       "      <td>hateful</td>\n",
       "      <td>[usr, usr, he, is, rubbish,, a, subhuman, idio...</td>\n",
       "      <td>hateful</td>\n",
       "    </tr>\n",
       "  </tbody>\n",
       "</table>\n",
       "</div>\n",
       "      <button class=\"colab-df-convert\" onclick=\"convertToInteractive('df-df62b537-56ec-45ea-be43-c07bd018b970')\"\n",
       "              title=\"Convert this dataframe to an interactive table.\"\n",
       "              style=\"display:none;\">\n",
       "        \n",
       "  <svg xmlns=\"http://www.w3.org/2000/svg\" height=\"24px\"viewBox=\"0 0 24 24\"\n",
       "       width=\"24px\">\n",
       "    <path d=\"M0 0h24v24H0V0z\" fill=\"none\"/>\n",
       "    <path d=\"M18.56 5.44l.94 2.06.94-2.06 2.06-.94-2.06-.94-.94-2.06-.94 2.06-2.06.94zm-11 1L8.5 8.5l.94-2.06 2.06-.94-2.06-.94L8.5 2.5l-.94 2.06-2.06.94zm10 10l.94 2.06.94-2.06 2.06-.94-2.06-.94-.94-2.06-.94 2.06-2.06.94z\"/><path d=\"M17.41 7.96l-1.37-1.37c-.4-.4-.92-.59-1.43-.59-.52 0-1.04.2-1.43.59L10.3 9.45l-7.72 7.72c-.78.78-.78 2.05 0 2.83L4 21.41c.39.39.9.59 1.41.59.51 0 1.02-.2 1.41-.59l7.78-7.78 2.81-2.81c.8-.78.8-2.07 0-2.86zM5.41 20L4 18.59l7.72-7.72 1.47 1.35L5.41 20z\"/>\n",
       "  </svg>\n",
       "      </button>\n",
       "      \n",
       "  <style>\n",
       "    .colab-df-container {\n",
       "      display:flex;\n",
       "      flex-wrap:wrap;\n",
       "      gap: 12px;\n",
       "    }\n",
       "\n",
       "    .colab-df-convert {\n",
       "      background-color: #E8F0FE;\n",
       "      border: none;\n",
       "      border-radius: 50%;\n",
       "      cursor: pointer;\n",
       "      display: none;\n",
       "      fill: #1967D2;\n",
       "      height: 32px;\n",
       "      padding: 0 0 0 0;\n",
       "      width: 32px;\n",
       "    }\n",
       "\n",
       "    .colab-df-convert:hover {\n",
       "      background-color: #E2EBFA;\n",
       "      box-shadow: 0px 1px 2px rgba(60, 64, 67, 0.3), 0px 1px 3px 1px rgba(60, 64, 67, 0.15);\n",
       "      fill: #174EA6;\n",
       "    }\n",
       "\n",
       "    [theme=dark] .colab-df-convert {\n",
       "      background-color: #3B4455;\n",
       "      fill: #D2E3FC;\n",
       "    }\n",
       "\n",
       "    [theme=dark] .colab-df-convert:hover {\n",
       "      background-color: #434B5C;\n",
       "      box-shadow: 0px 1px 3px 1px rgba(0, 0, 0, 0.15);\n",
       "      filter: drop-shadow(0px 1px 2px rgba(0, 0, 0, 0.3));\n",
       "      fill: #FFFFFF;\n",
       "    }\n",
       "  </style>\n",
       "\n",
       "      <script>\n",
       "        const buttonEl =\n",
       "          document.querySelector('#df-df62b537-56ec-45ea-be43-c07bd018b970 button.colab-df-convert');\n",
       "        buttonEl.style.display =\n",
       "          google.colab.kernel.accessAllowed ? 'block' : 'none';\n",
       "\n",
       "        async function convertToInteractive(key) {\n",
       "          const element = document.querySelector('#df-df62b537-56ec-45ea-be43-c07bd018b970');\n",
       "          const dataTable =\n",
       "            await google.colab.kernel.invokeFunction('convertToInteractive',\n",
       "                                                     [key], {});\n",
       "          if (!dataTable) return;\n",
       "\n",
       "          const docLinkHtml = 'Like what you see? Visit the ' +\n",
       "            '<a target=\"_blank\" href=https://colab.research.google.com/notebooks/data_table.ipynb>data table notebook</a>'\n",
       "            + ' to learn more about interactive tables.';\n",
       "          element.innerHTML = '';\n",
       "          dataTable['output_type'] = 'display_data';\n",
       "          await google.colab.output.renderOutput(dataTable, element);\n",
       "          const docLink = document.createElement('div');\n",
       "          docLink.innerHTML = docLinkHtml;\n",
       "          element.appendChild(docLink);\n",
       "        }\n",
       "      </script>\n",
       "    </div>\n",
       "  </div>\n",
       "  "
      ],
      "text/plain": [
       "     level_0  index                                              tweet  \\\n",
       "184     4209  22183  usr usr too bad he's a xenophobic idiot with t...   \n",
       "249     5258  73986  rt usr: i'm embarrassed for those that voted f...   \n",
       "312     6531  27101  professor: republicans criticize susan rice be...   \n",
       "218     4769  78749         rt usr: you know niggas hate water smh url   \n",
       "93      2114  83496  usr usr he is rubbish, a subhuman idiot ! him ...   \n",
       "\n",
       "       label                                            cleaned     pred  \n",
       "184  hateful  [usr, usr, too, bad, he's, a, xenophobic, idio...  hateful  \n",
       "249  hateful  [rt, usr:, i'm, embarrassed, for, those, that,...  hateful  \n",
       "312  hateful  [professor:, republicans, criticize, susan, ri...  hateful  \n",
       "218  hateful  [rt, usr:, you, know, niggas, hate, water, smh...  hateful  \n",
       "93   hateful  [usr, usr, he, is, rubbish,, a, subhuman, idio...  hateful  "
      ]
     },
     "execution_count": 197,
     "metadata": {},
     "output_type": "execute_result"
    }
   ],
   "source": [
    "check = test[test['label']==\"hateful\"]\n",
    "check = check.reset_index()\n",
    "check[check[\"pred\"]==\"hateful\"].sample(5)"
   ]
  },
  {
   "cell_type": "code",
   "execution_count": 199,
   "id": "b85ea898",
   "metadata": {
    "colab": {
     "base_uri": "https://localhost:8080/",
     "height": 37
    },
    "id": "sukIdV3tjG3u",
    "outputId": "2ffc2719-e54d-43fa-c44c-8db2303822ac"
   },
   "outputs": [
    {
     "data": {
      "application/vnd.google.colaboratory.intrinsic+json": {
       "type": "string"
      },
      "text/plain": [
       "\"usr usr too bad he's a xenophobic idiot with the reading level of a 3rd grader with racist parents\""
      ]
     },
     "execution_count": 199,
     "metadata": {},
     "output_type": "execute_result"
    }
   ],
   "source": [
    "check['tweet'].iloc[184]"
   ]
  },
  {
   "cell_type": "code",
   "execution_count": 236,
   "id": "1276b70e",
   "metadata": {
    "colab": {
     "base_uri": "https://localhost:8080/",
     "height": 204
    },
    "id": "hBdVe4jW6cWL",
    "outputId": "9e4f4276-11e1-4be1-9c16-6340aa30e1ba"
   },
   "outputs": [
    {
     "data": {
      "text/html": [
       "\n",
       "  <div id=\"df-82f326a5-6e0f-4ad2-adb3-c74234f734fd\">\n",
       "    <div class=\"colab-df-container\">\n",
       "      <div>\n",
       "<style scoped>\n",
       "    .dataframe tbody tr th:only-of-type {\n",
       "        vertical-align: middle;\n",
       "    }\n",
       "\n",
       "    .dataframe tbody tr th {\n",
       "        vertical-align: top;\n",
       "    }\n",
       "\n",
       "    .dataframe thead th {\n",
       "        text-align: right;\n",
       "    }\n",
       "</style>\n",
       "<table border=\"1\" class=\"dataframe\">\n",
       "  <thead>\n",
       "    <tr style=\"text-align: right;\">\n",
       "      <th></th>\n",
       "      <th>index</th>\n",
       "      <th>tweet</th>\n",
       "      <th>label</th>\n",
       "      <th>cleaned</th>\n",
       "    </tr>\n",
       "  </thead>\n",
       "  <tbody>\n",
       "    <tr>\n",
       "      <th>64845</th>\n",
       "      <td>43829</td>\n",
       "      <td>don't hate you because niggas can't appreciate...</td>\n",
       "      <td>hateful</td>\n",
       "      <td>[don't, hate, you, because, niggas, can't, app...</td>\n",
       "    </tr>\n",
       "    <tr>\n",
       "      <th>10558</th>\n",
       "      <td>72500</td>\n",
       "      <td>usr usr usr plenty of rats and rabbits are kil...</td>\n",
       "      <td>hateful</td>\n",
       "      <td>[usr, usr, usr, plenty, of, rats, and, rabbits...</td>\n",
       "    </tr>\n",
       "    <tr>\n",
       "      <th>8387</th>\n",
       "      <td>27095</td>\n",
       "      <td>rt usr: nigga u crazy url</td>\n",
       "      <td>hateful</td>\n",
       "      <td>[rt, usr:, nigga, u, crazy, url]</td>\n",
       "    </tr>\n",
       "    <tr>\n",
       "      <th>18479</th>\n",
       "      <td>79835</td>\n",
       "      <td>i question whether or not the filthy casuals w...</td>\n",
       "      <td>hateful</td>\n",
       "      <td>[i, question, whether, or, not, the, filthy, c...</td>\n",
       "    </tr>\n",
       "    <tr>\n",
       "      <th>36941</th>\n",
       "      <td>96195</td>\n",
       "      <td>anybody that does not obey the teachings of th...</td>\n",
       "      <td>hateful</td>\n",
       "      <td>[anybody, that, does, not, obey, the, teaching...</td>\n",
       "    </tr>\n",
       "  </tbody>\n",
       "</table>\n",
       "</div>\n",
       "      <button class=\"colab-df-convert\" onclick=\"convertToInteractive('df-82f326a5-6e0f-4ad2-adb3-c74234f734fd')\"\n",
       "              title=\"Convert this dataframe to an interactive table.\"\n",
       "              style=\"display:none;\">\n",
       "        \n",
       "  <svg xmlns=\"http://www.w3.org/2000/svg\" height=\"24px\"viewBox=\"0 0 24 24\"\n",
       "       width=\"24px\">\n",
       "    <path d=\"M0 0h24v24H0V0z\" fill=\"none\"/>\n",
       "    <path d=\"M18.56 5.44l.94 2.06.94-2.06 2.06-.94-2.06-.94-.94-2.06-.94 2.06-2.06.94zm-11 1L8.5 8.5l.94-2.06 2.06-.94-2.06-.94L8.5 2.5l-.94 2.06-2.06.94zm10 10l.94 2.06.94-2.06 2.06-.94-2.06-.94-.94-2.06-.94 2.06-2.06.94z\"/><path d=\"M17.41 7.96l-1.37-1.37c-.4-.4-.92-.59-1.43-.59-.52 0-1.04.2-1.43.59L10.3 9.45l-7.72 7.72c-.78.78-.78 2.05 0 2.83L4 21.41c.39.39.9.59 1.41.59.51 0 1.02-.2 1.41-.59l7.78-7.78 2.81-2.81c.8-.78.8-2.07 0-2.86zM5.41 20L4 18.59l7.72-7.72 1.47 1.35L5.41 20z\"/>\n",
       "  </svg>\n",
       "      </button>\n",
       "      \n",
       "  <style>\n",
       "    .colab-df-container {\n",
       "      display:flex;\n",
       "      flex-wrap:wrap;\n",
       "      gap: 12px;\n",
       "    }\n",
       "\n",
       "    .colab-df-convert {\n",
       "      background-color: #E8F0FE;\n",
       "      border: none;\n",
       "      border-radius: 50%;\n",
       "      cursor: pointer;\n",
       "      display: none;\n",
       "      fill: #1967D2;\n",
       "      height: 32px;\n",
       "      padding: 0 0 0 0;\n",
       "      width: 32px;\n",
       "    }\n",
       "\n",
       "    .colab-df-convert:hover {\n",
       "      background-color: #E2EBFA;\n",
       "      box-shadow: 0px 1px 2px rgba(60, 64, 67, 0.3), 0px 1px 3px 1px rgba(60, 64, 67, 0.15);\n",
       "      fill: #174EA6;\n",
       "    }\n",
       "\n",
       "    [theme=dark] .colab-df-convert {\n",
       "      background-color: #3B4455;\n",
       "      fill: #D2E3FC;\n",
       "    }\n",
       "\n",
       "    [theme=dark] .colab-df-convert:hover {\n",
       "      background-color: #434B5C;\n",
       "      box-shadow: 0px 1px 3px 1px rgba(0, 0, 0, 0.15);\n",
       "      filter: drop-shadow(0px 1px 2px rgba(0, 0, 0, 0.3));\n",
       "      fill: #FFFFFF;\n",
       "    }\n",
       "  </style>\n",
       "\n",
       "      <script>\n",
       "        const buttonEl =\n",
       "          document.querySelector('#df-82f326a5-6e0f-4ad2-adb3-c74234f734fd button.colab-df-convert');\n",
       "        buttonEl.style.display =\n",
       "          google.colab.kernel.accessAllowed ? 'block' : 'none';\n",
       "\n",
       "        async function convertToInteractive(key) {\n",
       "          const element = document.querySelector('#df-82f326a5-6e0f-4ad2-adb3-c74234f734fd');\n",
       "          const dataTable =\n",
       "            await google.colab.kernel.invokeFunction('convertToInteractive',\n",
       "                                                     [key], {});\n",
       "          if (!dataTable) return;\n",
       "\n",
       "          const docLinkHtml = 'Like what you see? Visit the ' +\n",
       "            '<a target=\"_blank\" href=https://colab.research.google.com/notebooks/data_table.ipynb>data table notebook</a>'\n",
       "            + ' to learn more about interactive tables.';\n",
       "          element.innerHTML = '';\n",
       "          dataTable['output_type'] = 'display_data';\n",
       "          await google.colab.output.renderOutput(dataTable, element);\n",
       "          const docLink = document.createElement('div');\n",
       "          docLink.innerHTML = docLinkHtml;\n",
       "          element.appendChild(docLink);\n",
       "        }\n",
       "      </script>\n",
       "    </div>\n",
       "  </div>\n",
       "  "
      ],
      "text/plain": [
       "       index                                              tweet    label  \\\n",
       "64845  43829  don't hate you because niggas can't appreciate...  hateful   \n",
       "10558  72500  usr usr usr plenty of rats and rabbits are kil...  hateful   \n",
       "8387   27095                          rt usr: nigga u crazy url  hateful   \n",
       "18479  79835  i question whether or not the filthy casuals w...  hateful   \n",
       "36941  96195  anybody that does not obey the teachings of th...  hateful   \n",
       "\n",
       "                                                 cleaned  \n",
       "64845  [don't, hate, you, because, niggas, can't, app...  \n",
       "10558  [usr, usr, usr, plenty, of, rats, and, rabbits...  \n",
       "8387                    [rt, usr:, nigga, u, crazy, url]  \n",
       "18479  [i, question, whether, or, not, the, filthy, c...  \n",
       "36941  [anybody, that, does, not, obey, the, teaching...  "
      ]
     },
     "execution_count": 236,
     "metadata": {},
     "output_type": "execute_result"
    }
   ],
   "source": [
    "train[train['label']==\"hateful\"].sample(5)"
   ]
  },
  {
   "cell_type": "code",
   "execution_count": 237,
   "id": "b666eae8",
   "metadata": {
    "colab": {
     "base_uri": "https://localhost:8080/",
     "height": 37
    },
    "id": "Gw5eqsjBBIVF",
    "outputId": "34299c9a-8a71-4bab-903f-eba6ee3d5ab5"
   },
   "outputs": [
    {
     "data": {
      "application/vnd.google.colaboratory.intrinsic+json": {
       "type": "string"
      },
      "text/plain": [
       "'anybody that does not obey the teachings of the bible and jesus christ is a child of the devil a worker of iniquity url'"
      ]
     },
     "execution_count": 237,
     "metadata": {},
     "output_type": "execute_result"
    }
   ],
   "source": [
    "train['tweet'].iloc[36941]"
   ]
  }
 ],
 "metadata": {
  "accelerator": "GPU",
  "colab": {
   "machine_shape": "hm",
   "provenance": []
  },
  "gpuClass": "premium",
  "kernelspec": {
   "display_name": "Python 3 (ipykernel)",
   "language": "python",
   "name": "python3"
  },
  "language_info": {
   "codemirror_mode": {
    "name": "ipython",
    "version": 3
   },
   "file_extension": ".py",
   "mimetype": "text/x-python",
   "name": "python",
   "nbconvert_exporter": "python",
   "pygments_lexer": "ipython3",
   "version": "3.9.12"
  }
 },
 "nbformat": 4,
 "nbformat_minor": 5
}
